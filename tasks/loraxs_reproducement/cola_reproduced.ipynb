{
 "cells": [
  {
   "cell_type": "code",
   "execution_count": 1,
   "metadata": {},
   "outputs": [
    {
     "name": "stdout",
     "output_type": "stream",
     "text": [
      "Run Name: results_cola_25_reproduced, Max eval/matthews_correlation: 0.6875007944276651\n",
      "Run Name: results_cola_20_reproduced, Max eval/matthews_correlation: 0.08036809130702588\n",
      "Run Name: results_cola_16_reproduced, Max eval/matthews_correlation: 0.6587989385005527\n",
      "Run Name: results_cola_12_reproduced, Max eval/matthews_correlation: 0.08036809130702588\n",
      "Run Name: results_cola_8_reproduced, Max eval/matthews_correlation: 0.161436222531046\n",
      "Run Name: results_cola_4_reproduced, Max eval/matthews_correlation: 0.6380271808866611\n"
     ]
    }
   ],
   "source": [
    "import wandb\n",
    "import re\n",
    "\n",
    "api = wandb.Api()\n",
    "\n",
    "project = \"cola_replicated\"\n",
    "entity = \"alismalahova31-uniwersytet-jagiello-ski-w-krakowie\"\n",
    "\n",
    "runs = api.runs(f\"{entity}/{project}\")\n",
    "\n",
    "max_correlations = []\n",
    "for run in runs:\n",
    "    if \"eval/matthews_correlation\" in run.history().keys():\n",
    "        history = run.history(keys=[\"eval/matthews_correlation\"])\n",
    "        max_corr = history[\"eval/matthews_correlation\"].max()\n",
    "        max_correlations.append({\"run_name\": run.name, \"max_corr\": max_corr})\n",
    "\n",
    "for result in sorted(max_correlations, key=lambda x: int(re.search(r'\\d+',x['run_name']).group()), reverse=True):\n",
    "    print(f\"Run Name: {result['run_name']}, Max eval/matthews_correlation: {result['max_corr']}\")\n"
   ]
  },
  {
   "cell_type": "markdown",
   "metadata": {},
   "source": []
  }
 ],
 "metadata": {
  "kernelspec": {
   "display_name": "loraxs",
   "language": "python",
   "name": "python3"
  },
  "language_info": {
   "codemirror_mode": {
    "name": "ipython",
    "version": 3
   },
   "file_extension": ".py",
   "mimetype": "text/x-python",
   "name": "python",
   "nbconvert_exporter": "python",
   "pygments_lexer": "ipython3",
   "version": "3.8.13"
  }
 },
 "nbformat": 4,
 "nbformat_minor": 2
}
