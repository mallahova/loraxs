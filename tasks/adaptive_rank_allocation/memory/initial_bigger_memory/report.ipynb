{
 "cells": [
  {
   "cell_type": "code",
   "execution_count": 3,
   "metadata": {
    "jupyter": {
     "source_hidden": true
    }
   },
   "outputs": [],
   "source": [
    "import wandb\n",
    "import re\n",
    "import matplotlib.pyplot as plt\n",
    "import numpy as np\n",
    "import pandas as pd\n",
    "import matplotlib.patches as mpatches\n",
    "from tabulate import tabulate\n",
    "from collections import defaultdict\n",
    "from IPython.display import Markdown, display\n",
    "import csv\n",
    "import os\n",
    "import plotly.express as px\n"
   ]
  },
  {
   "cell_type": "code",
   "execution_count": 4,
   "metadata": {
    "jupyter": {
     "source_hidden": true
    }
   },
   "outputs": [],
   "source": [
    "def get_results(project:str, entity:str, starts_with=\"\", epoch_start=0):\n",
    "    api = wandb.Api()\n",
    "    runs = api.runs(f\"{entity}/{project}\")\n",
    "    run_max_metrics = []\n",
    "    for run in runs:\n",
    "        if run.name.startswith(starts_with):\n",
    "            # Extract seed and history\n",
    "            seed = run.config.get(\"seed\", \"N/A\")\n",
    "            run_history = run.history()\n",
    "            rank_metrics = \"eval/matthews_correlation\"\n",
    "\n",
    "            # Regex pattern to parse run name\n",
    "            pattern = r\"results_(?P<task>[a-zA-Z0-9]+)_(?P<rank_min>[\\d.]+)_(?P<rank_max>[\\d.]+)_(?P<alpha_min>[\\d.]+)_(?P<alpha_max>[\\d.]+)_(?P<seed>\\d+)_(?P<lr>[\\d.eE+-]+)_(?P<rank_avg>[\\d.]+)\"\n",
    "            match = re.match(pattern, run.name)\n",
    "\n",
    "            if match and rank_metrics:\n",
    "                # Extract components from the run name\n",
    "                task = match.group(\"task\")\n",
    "                rank_min = float(match.group(\"rank_min\"))\n",
    "                rank_max = float(match.group(\"rank_max\"))\n",
    "                alpha_min = float(match.group(\"alpha_min\"))\n",
    "                alpha_max = float(match.group(\"alpha_max\"))\n",
    "                seed = int(match.group(\"seed\"))\n",
    "                rank_allocation_learning_rate = float(match.group(\"lr\"))\n",
    "                rank_average = float(match.group(\"rank_avg\"))\n",
    "\n",
    "                # Get the overall max of the rank metrics\n",
    "                overall_max = run.history(keys=[rank_metrics])[rank_metrics][epoch_start:].max() * 100\n",
    "\n",
    "                # Append parsed data to run_max_metrics\n",
    "                run_max_metrics.append({\n",
    "                    \"run_name\": run.name,\n",
    "                    \"task\": task,\n",
    "                    \"rank_min\": rank_min,\n",
    "                    \"rank_max\": rank_max,\n",
    "                    \"alpha_min\": alpha_min,\n",
    "                    \"alpha_max\": alpha_max,\n",
    "                    \"rank_allocation_learning_rate\": rank_allocation_learning_rate,\n",
    "                    \"rank_average\": rank_average,\n",
    "                    \"seed\": seed,\n",
    "                    \"overall_max\": overall_max\n",
    "                })\n",
    "    return sorted(run_max_metrics, key=lambda x: x[\"overall_max\"], reverse=True)"
   ]
  },
  {
   "cell_type": "code",
   "execution_count": 5,
   "metadata": {
    "jupyter": {
     "source_hidden": true
    }
   },
   "outputs": [],
   "source": [
    "def print_results(run_max_metrics):\n",
    "    # Create the table header\n",
    "    table = \"| Run Name | Task | Rank Min | Rank Max | Rank Allocation Learning Rate | Rank Average | Alpha Min | Alpha Max | Seed | Overall Max |\\n\"\n",
    "    table += \"|----------|------|----------|----------|--------------------------------|--------------|-----------|-----------|------|-------------|\\n\"\n",
    "    \n",
    "    # Add rows\n",
    "    for result in run_max_metrics:\n",
    "        row = (\n",
    "            f\"| {result['run_name']} \"\n",
    "            f\"| {result['task']} \"\n",
    "            f\"| {result['rank_min']} \"\n",
    "            f\"| {result['rank_max']} \"\n",
    "            f\"| {result['rank_allocation_learning_rate']} \"\n",
    "            f\"| {result['rank_average']} \"\n",
    "            f\"| {result['alpha_min']} \"\n",
    "            f\"| {result['alpha_max']} \"\n",
    "            f\"| {result['seed']} \"\n",
    "            f\"| {result['overall_max']:.2f} |\"\n",
    "        )\n",
    "        table += row + \"\\n\"\n",
    "    \n",
    "    # Render as Markdown\n",
    "    display(Markdown(table))"
   ]
  },
  {
   "cell_type": "code",
   "execution_count": 6,
   "metadata": {
    "jupyter": {
     "source_hidden": true
    }
   },
   "outputs": [],
   "source": [
    "def print_stats(run_max_metrics, project):\n",
    "\n",
    "    # Group runs by parameters excluding seed\n",
    "    groups = defaultdict(list)\n",
    "    for run in run_max_metrics:\n",
    "        key = (\n",
    "            run['task'],\n",
    "            run['rank_min'],\n",
    "            run['rank_max'],\n",
    "            run['alpha_min'],\n",
    "            run['alpha_max'],\n",
    "            run['rank_allocation_learning_rate'],\n",
    "            run['rank_average']\n",
    "        )\n",
    "        groups[key].append(run['overall_max'])\n",
    "\n",
    "    # Calculate median and std for each group\n",
    "    group_stats = []\n",
    "    for key, values in groups.items():\n",
    "        med = np.median(values)\n",
    "        std = np.std(values, ddof=1) if len(values) > 1 else 0.0\n",
    "        group_stats.append({\n",
    "            'task': key[0],\n",
    "            'rank_min': key[1],\n",
    "            'rank_max': key[2],\n",
    "            'alpha_min': key[3],\n",
    "            'alpha_max': key[4],\n",
    "            'lr': key[5],\n",
    "            'rank_avg': key[6],\n",
    "            'median': med,\n",
    "            'std': std\n",
    "        })\n",
    "\n",
    "    # Sort by median in descending order\n",
    "    sorted_group_stats = sorted(group_stats, key=lambda x: x['median'], reverse=True)\n",
    "\n",
    "    # Prepare table headers and rows\n",
    "    headers = [\"Task\", \"Rank Min\", \"Rank Max\", \"Alpha Min\", \"Alpha Max\", \"LR\", \"Rank Avg\", \"Median ± Std\"]\n",
    "    rows = []\n",
    "    for stats in sorted_group_stats:\n",
    "        med_std_str = f\"{stats['median']:.2f} ± {stats['std']:.2f}\"\n",
    "        rows.append([\n",
    "            stats['task'],\n",
    "            stats['rank_min'],\n",
    "            stats['rank_max'],\n",
    "            stats['alpha_min'],\n",
    "            stats['alpha_max'],\n",
    "            stats['lr'],\n",
    "            stats['rank_avg'],\n",
    "            med_std_str\n",
    "        ])\n",
    "\n",
    "    # Print the table\n",
    "    markdown_table = tabulate(rows, headers=headers, tablefmt=\"pipe\")\n",
    "    display(Markdown(markdown_table))\n",
    "    print()\n",
    "    csv_filename = \"initializations_l_r_results.csv\"\n",
    "\n",
    "    file_exists = os.path.exists(csv_filename)\n",
    "    if project=='adaptive_rank_allocation': return\n",
    "    with open(csv_filename, mode='a', newline='') as file:\n",
    "        writer = csv.writer(file)\n",
    "        \n",
    "        if not file_exists:\n",
    "            writer.writerow([\"Project\"] + headers)\n",
    "        \n",
    "        for row in rows:\n",
    "            writer.writerow([project] + row)"
   ]
  },
  {
   "cell_type": "code",
   "execution_count": 7,
   "metadata": {
    "jupyter": {
     "source_hidden": true
    }
   },
   "outputs": [],
   "source": [
    "def plot_results(run_max_metrics: str):\n",
    "    run_names = [result['run_name'] for result in run_max_metrics]\n",
    "    overall_max = [result['overall_max'] for result in run_max_metrics]\n",
    "    learning_rates = [result['rank_allocation_learning_rate'] for result in run_max_metrics]\n",
    "\n",
    "    # Define baseline and its error\n",
    "    baseline_median = 68.08\n",
    "    baseline_std = 1.21\n",
    "\n",
    "    # Assign colors based on unique learning rates\n",
    "    unique_lrs = sorted(set(learning_rates))\n",
    "    color_map = {lr: plt.cm.tab10(i % 10) for i, lr in enumerate(unique_lrs)}\n",
    "    colors = [color_map[lr] for lr in learning_rates]\n",
    "\n",
    "    # Plotting the bar plot\n",
    "    plt.figure(figsize=(20, 6))\n",
    "    bar_positions = np.arange(len(run_names))\n",
    "    plt.bar(bar_positions, overall_max, color=colors, edgecolor='black')\n",
    "\n",
    "    rank_25_median = 68.55\n",
    "    rank_25_std = 0.81\n",
    "\n",
    "    # Add baselines with shading for std\n",
    "    plt.axhline(baseline_median, color='red', linestyle='--', label='Baseline for r=20')\n",
    "    plt.axhline(rank_25_median, color='black', linestyle='--', label='Baseline for r=25')\n",
    "\n",
    "    plt.fill_between(bar_positions, baseline_median - baseline_std, baseline_median + baseline_std, color='red', alpha=0.2, label='Baseline (r=20) ± std')\n",
    "    plt.fill_between(bar_positions, rank_25_median - rank_25_std, rank_25_median + rank_25_std, color='black', alpha=0.1, label='Baseline (r=25) ± std')\n",
    "\n",
    "    # Adding labels and legend\n",
    "    plt.xticks(bar_positions, bar_positions, rotation=90)\n",
    "    plt.xlabel('Run Names')\n",
    "    plt.ylabel('Overall Max')\n",
    "    plt.title('Overall Max Metrics by Run')\n",
    "\n",
    "    # Create legend for learning rates\n",
    "    legend_elements = [plt.Line2D([0], [0], marker='o', color='w', label=f'LR: {lr}', markerfacecolor=color_map[lr], markersize=10) for lr in unique_lrs]\n",
    "    plt.legend(handles=legend_elements + [plt.Line2D([0], [0], color='red', linestyle='--', label='Baseline for r=20'),\n",
    "                                           plt.Line2D([0], [0], color='black', linestyle='--', label='Baseline for r=25')],\n",
    "               loc='upper left', bbox_to_anchor=(1, 1), title=\"Legend\")\n",
    "    plt.ylim(50, 70)  # Adjust the upper limit if needed\n",
    "\n",
    "    plt.tight_layout()\n",
    "    plt.show()\n",
    "\n"
   ]
  },
  {
   "cell_type": "code",
   "execution_count": 8,
   "metadata": {
    "jupyter": {
     "source_hidden": true
    }
   },
   "outputs": [],
   "source": [
    "def plot_rank_distribution(project: str, entity: str, run_name: str):\n",
    "    # Load layer names from CSV\n",
    "    layer_names_df = pd.read_csv('assets/layer_names.csv')\n",
    "    \n",
    "    # Parse component types and layer numbers from layer names\n",
    "    component_types = []\n",
    "    layer_nums = []\n",
    "    for name in layer_names_df['Layer Name']:\n",
    "        parts = name.split('encoder.layer.')\n",
    "        after_encoder = parts[1].split('.')\n",
    "        layer_num = int(after_encoder[0])\n",
    "        layer_nums.append(layer_num)\n",
    "        subparts = after_encoder[1:]\n",
    "        if subparts[0] == 'attention':\n",
    "            if subparts[1] == 'self':\n",
    "                component = subparts[2]  # 'query' or 'value'\n",
    "            elif subparts[1] == 'output':\n",
    "                component = 'attention_output'\n",
    "        elif subparts[0] == 'output':\n",
    "            component = 'output'\n",
    "        component_types.append(component)\n",
    "    \n",
    "    # Define colors for each component type\n",
    "    component_colors = {\n",
    "        'query': 'cornflowerblue',    # Muted blue\n",
    "        'value': 'salmon',            # Soft orange\n",
    "        'attention_output': 'mediumseagreen',  # Natural green\n",
    "        'output': 'mediumorchid'      # Muted purple\n",
    "    }\n",
    "    \n",
    "    # Fetch data from wandb\n",
    "    api = wandb.Api()\n",
    "    runs = api.runs(f\"{entity}/{project}\")\n",
    "    run = next(run for run in runs if run.name == run_name)\n",
    "    rank_metrics = \"eval/matthews_correlation\"\n",
    "    keys = [rank_metrics, '_step']\n",
    "    history = run.scan_history(keys=keys, page_size=1000)\n",
    "    history_df = pd.DataFrame(history)\n",
    "    \n",
    "    max_correlation = history_df[rank_metrics].max()\n",
    "    max_step = history_df.loc[history_df[rank_metrics].idxmax(), '_step']\n",
    "    \n",
    "    rank_allocation_keys = [f'train/rank_allocation_{i}' for i in range(0, 96)]\n",
    "    step_data = run.scan_history(keys=['_step'] + rank_allocation_keys, page_size=1000)\n",
    "    step_data_df = pd.DataFrame(step_data)\n",
    "    step_values = step_data_df[(step_data_df['_step'] >= max_step - 3)]\n",
    "    \n",
    "    # Prepare data for plotting\n",
    "    values = step_values[rank_allocation_keys].values[0]\n",
    "    colors = [component_colors[ct] for ct in component_types]\n",
    "    \n",
    "    # Create the plot\n",
    "    plt.figure(figsize=(20, 6))\n",
    "    plt.bar(range(96), values, color=colors)\n",
    "    \n",
    "    # Add vertical lines to separate layers\n",
    "    for i in range(24):\n",
    "        x_pos = (i + 1) * 4 - 0.5\n",
    "        plt.axvline(x=x_pos, color='gray', linestyle='--', linewidth=0.5)\n",
    "    \n",
    "    # Set x-ticks to layer numbers\n",
    "    plt.xticks([i * 4 + 1.5 for i in range(24)], [str(i) for i in range(24)])\n",
    "    plt.xlabel('Layer Number')\n",
    "    \n",
    "    # Create legend\n",
    "    patches = [mpatches.Patch(color=color, label=label) for label, color in component_colors.items()]\n",
    "    plt.legend(handles=patches, title='Component Type', bbox_to_anchor=(1.05, 1), loc='upper left')\n",
    "    \n",
    "    plt.title(f\"Max Matthews correlation: {max_correlation} at step: {max_step} for run: {run_name}\")\n",
    "    plt.tight_layout()\n",
    "    plt.show()\n",
    "    return values, component_types"
   ]
  },
  {
   "cell_type": "code",
   "execution_count": 9,
   "metadata": {
    "jupyter": {
     "source_hidden": true
    }
   },
   "outputs": [],
   "source": [
    "def plot_rank_allocation_by_component_type(values, component_types):\n",
    "    \"\"\"\n",
    "    Plot a separate line for each component type based on rank allocation values.\n",
    "    \n",
    "    Assumes that the input lists are ordered so that every 4 consecutive values correspond to one layer.\n",
    "    \n",
    "    Parameters:\n",
    "        values (list or np.array): Rank allocation values (e.g., length 96 for 24 layers).\n",
    "        component_types (list of str): Component type for each value (e.g., 'query', 'value', etc.).\n",
    "    \"\"\"\n",
    "\n",
    "    n = len(values)\n",
    "    # Compute layer numbers assuming each layer has 4 components\n",
    "    layers = np.array([i // 4 for i in range(n)])\n",
    "\n",
    "    # Group values by component type\n",
    "    data_by_type = {}\n",
    "    for i, comp in enumerate(component_types):\n",
    "        if comp not in data_by_type:\n",
    "            data_by_type[comp] = {'layers': [], 'values': []}\n",
    "        data_by_type[comp]['layers'].append(layers[i])\n",
    "        data_by_type[comp]['values'].append(values[i])\n",
    "\n",
    "    # Define colors for each component type (adjust if needed)\n",
    "    component_colors = {\n",
    "        'query': 'cornflowerblue',\n",
    "        'value': 'salmon',\n",
    "        'attention_output': 'mediumseagreen',\n",
    "        'output': 'mediumorchid'\n",
    "    }\n",
    "\n",
    "    plt.figure(figsize=(20, 6))\n",
    "    for comp, data in data_by_type.items():\n",
    "        # Convert lists to numpy arrays and sort by layer number\n",
    "        x = np.array(data['layers'])\n",
    "        y = np.array(data['values'])\n",
    "        sort_idx = np.argsort(x)\n",
    "        x, y = x[sort_idx], y[sort_idx]\n",
    "        plt.plot(x, y, marker='o', label=comp, color=component_colors.get(comp, 'black'))\n",
    "\n",
    "    plt.xlabel(\"Layer Number\")\n",
    "    plt.ylabel(\"Rank Allocation Value\")\n",
    "    plt.title(\"Rank Allocation by Component Type\")\n",
    "    plt.legend(title=\"Component Type\",loc='upper left')\n",
    "    plt.grid(True)\n",
    "    plt.tight_layout()\n",
    "    plt.show()\n"
   ]
  },
  {
   "cell_type": "code",
   "execution_count": 10,
   "metadata": {
    "jupyter": {
     "source_hidden": true
    }
   },
   "outputs": [],
   "source": [
    "def display_project_stats(project:str, entity:str, starts_with=\"\", epoch_start=0 ):\n",
    "   run_max_metrics=get_results(project=project, entity=entity, starts_with=starts_with, epoch_start=epoch_start)\n",
    "   print_stats(run_max_metrics, project)\n",
    "   plot_results(run_max_metrics)\n",
    "   best_run = max(run_max_metrics, key=lambda x: x[\"overall_max\"])\n",
    "   # values, component_types=plot_rank_distribution(project=project, entity=entity, run_name=best_run['run_name'])\n",
    "   # plot_rank_allocation_by_component_type(values, component_types)\n",
    "   # # print_results(run_max_metrics)\n",
    "\n"
   ]
  },
  {
   "cell_type": "markdown",
   "metadata": {},
   "source": [
    "<!-- ### Uniform initialization (r=20 for every parameter matrix), grid search over learning rates and rank ranges, only 1 run for each learning rate -->"
   ]
  },
  {
   "cell_type": "code",
   "execution_count": 11,
   "metadata": {
    "jupyter": {
     "source_hidden": true
    }
   },
   "outputs": [],
   "source": [
    "def fetch_and_plot_wandb_runs(entity, project, metric=\"loss\", x_axis=\"step\", interactive=False, num_runs=None, starts_with=\"\"):\n",
    "    \"\"\"\n",
    "    Fetches completed runs from a WandB project and plots the specified metric.\n",
    "    \n",
    "    :param entity: str, WandB entity (username or team name)\n",
    "    :param project: str, WandB project name\n",
    "    :param metric: str, the metric to plot (e.g., \"loss\", \"accuracy\")\n",
    "    :param x_axis: str, the x-axis parameter (default: \"step\")\n",
    "    :param interactive: bool, if True, uses Plotly for interactive plots; otherwise, uses Matplotlib.\n",
    "    :param num_runs: int, optional, number of runs to fetch (default: all runs)\n",
    "    \"\"\"\n",
    "    api = wandb.Api()\n",
    "    runs = api.runs(f\"{entity}/{project}\")\n",
    "\n",
    "\n",
    "    \n",
    "    # Collect run data\n",
    "    data = []\n",
    "    for run in runs:\n",
    "        if len(data) == num_runs:\n",
    "            break\n",
    "        if run.name.startswith(starts_with):\n",
    "            history = run.history(keys=[x_axis, metric])  # Fetch only necessary metric\n",
    "            if not history.empty:\n",
    "                history[\"run_id\"] = run.id\n",
    "                history[\"name\"] = run.name  # Keep track of run names\n",
    "                data.append(history)\n",
    "    \n",
    "    if not data:\n",
    "        print(\"No data found for the specified project and metric.\")\n",
    "        return\n",
    "    \n",
    "    # Combine all runs into a single DataFrame\n",
    "    df = pd.concat(data)\n",
    "    \n",
    "    if interactive:\n",
    "        fig = px.line(df, x=x_axis, y=metric, color=\"name\", title=f\"{metric} Over {x_axis}\")\n",
    "        fig.show()\n",
    "    else:\n",
    "        plt.figure(figsize=(10, 5))\n",
    "        for run_id in df[\"run_id\"].unique():\n",
    "            run_data = df[df[\"run_id\"] == run_id]\n",
    "            plt.plot(run_data[x_axis], run_data[metric], label=f\"Run {run_data['name'].iloc[0]}\")\n",
    "        \n",
    "        plt.xlabel(x_axis.capitalize())\n",
    "        plt.ylabel(metric.capitalize())\n",
    "        plt.title(f\"{metric.capitalize()} over {x_axis.capitalize()} (Multiple Runs)\")\n",
    "        plt.legend()\n",
    "        plt.grid()\n",
    "        plt.show()\n"
   ]
  },
  {
   "cell_type": "markdown",
   "metadata": {},
   "source": [
    "# Bigger to smaller memory on CoLA Report"
   ]
  },
  {
   "cell_type": "markdown",
   "metadata": {},
   "source": [
    "# Randn initialization\n",
    "Initial average rank is 40, epochs 0-14 rank 40, epochs 15-24 rank 40->20, epoch 25-50 rank 20.\n",
    "rank_allocation_weights initialized to random, same scheduling, discrete rank on the last epoch, rank_min is 5, rank_max is 40\n"
   ]
  },
  {
   "cell_type": "code",
   "execution_count": 13,
   "metadata": {},
   "outputs": [
    {
     "data": {
      "application/vnd.plotly.v1+json": {
       "config": {
        "plotlyServerURL": "https://plot.ly"
       },
       "data": [
        {
         "hovertemplate": "name=results_cola_5_40_0.5_3_2_0.01_20<br>train/epoch=%{x}<br>train/memory=%{y}<extra></extra>",
         "legendgroup": "results_cola_5_40_0.5_3_2_0.01_20",
         "line": {
          "color": "#636efa",
          "dash": "solid"
         },
         "marker": {
          "symbol": "circle"
         },
         "mode": "lines",
         "name": "results_cola_5_40_0.5_3_2_0.01_20",
         "orientation": "v",
         "showlegend": true,
         "type": "scatter",
         "x": {
          "bdata": "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",
          "dtype": "f8"
         },
         "xaxis": "x",
         "y": {
          "bdata": "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",
          "dtype": "f8"
         },
         "yaxis": "y"
        }
       ],
       "layout": {
        "legend": {
         "title": {
          "text": "name"
         },
         "tracegroupgap": 0
        },
        "template": {
         "data": {
          "bar": [
           {
            "error_x": {
             "color": "#2a3f5f"
            },
            "error_y": {
             "color": "#2a3f5f"
            },
            "marker": {
             "line": {
              "color": "#E5ECF6",
              "width": 0.5
             },
             "pattern": {
              "fillmode": "overlay",
              "size": 10,
              "solidity": 0.2
             }
            },
            "type": "bar"
           }
          ],
          "barpolar": [
           {
            "marker": {
             "line": {
              "color": "#E5ECF6",
              "width": 0.5
             },
             "pattern": {
              "fillmode": "overlay",
              "size": 10,
              "solidity": 0.2
             }
            },
            "type": "barpolar"
           }
          ],
          "carpet": [
           {
            "aaxis": {
             "endlinecolor": "#2a3f5f",
             "gridcolor": "white",
             "linecolor": "white",
             "minorgridcolor": "white",
             "startlinecolor": "#2a3f5f"
            },
            "baxis": {
             "endlinecolor": "#2a3f5f",
             "gridcolor": "white",
             "linecolor": "white",
             "minorgridcolor": "white",
             "startlinecolor": "#2a3f5f"
            },
            "type": "carpet"
           }
          ],
          "choropleth": [
           {
            "colorbar": {
             "outlinewidth": 0,
             "ticks": ""
            },
            "type": "choropleth"
           }
          ],
          "contour": [
           {
            "colorbar": {
             "outlinewidth": 0,
             "ticks": ""
            },
            "colorscale": [
             [
              0,
              "#0d0887"
             ],
             [
              0.1111111111111111,
              "#46039f"
             ],
             [
              0.2222222222222222,
              "#7201a8"
             ],
             [
              0.3333333333333333,
              "#9c179e"
             ],
             [
              0.4444444444444444,
              "#bd3786"
             ],
             [
              0.5555555555555556,
              "#d8576b"
             ],
             [
              0.6666666666666666,
              "#ed7953"
             ],
             [
              0.7777777777777778,
              "#fb9f3a"
             ],
             [
              0.8888888888888888,
              "#fdca26"
             ],
             [
              1,
              "#f0f921"
             ]
            ],
            "type": "contour"
           }
          ],
          "contourcarpet": [
           {
            "colorbar": {
             "outlinewidth": 0,
             "ticks": ""
            },
            "type": "contourcarpet"
           }
          ],
          "heatmap": [
           {
            "colorbar": {
             "outlinewidth": 0,
             "ticks": ""
            },
            "colorscale": [
             [
              0,
              "#0d0887"
             ],
             [
              0.1111111111111111,
              "#46039f"
             ],
             [
              0.2222222222222222,
              "#7201a8"
             ],
             [
              0.3333333333333333,
              "#9c179e"
             ],
             [
              0.4444444444444444,
              "#bd3786"
             ],
             [
              0.5555555555555556,
              "#d8576b"
             ],
             [
              0.6666666666666666,
              "#ed7953"
             ],
             [
              0.7777777777777778,
              "#fb9f3a"
             ],
             [
              0.8888888888888888,
              "#fdca26"
             ],
             [
              1,
              "#f0f921"
             ]
            ],
            "type": "heatmap"
           }
          ],
          "histogram": [
           {
            "marker": {
             "pattern": {
              "fillmode": "overlay",
              "size": 10,
              "solidity": 0.2
             }
            },
            "type": "histogram"
           }
          ],
          "histogram2d": [
           {
            "colorbar": {
             "outlinewidth": 0,
             "ticks": ""
            },
            "colorscale": [
             [
              0,
              "#0d0887"
             ],
             [
              0.1111111111111111,
              "#46039f"
             ],
             [
              0.2222222222222222,
              "#7201a8"
             ],
             [
              0.3333333333333333,
              "#9c179e"
             ],
             [
              0.4444444444444444,
              "#bd3786"
             ],
             [
              0.5555555555555556,
              "#d8576b"
             ],
             [
              0.6666666666666666,
              "#ed7953"
             ],
             [
              0.7777777777777778,
              "#fb9f3a"
             ],
             [
              0.8888888888888888,
              "#fdca26"
             ],
             [
              1,
              "#f0f921"
             ]
            ],
            "type": "histogram2d"
           }
          ],
          "histogram2dcontour": [
           {
            "colorbar": {
             "outlinewidth": 0,
             "ticks": ""
            },
            "colorscale": [
             [
              0,
              "#0d0887"
             ],
             [
              0.1111111111111111,
              "#46039f"
             ],
             [
              0.2222222222222222,
              "#7201a8"
             ],
             [
              0.3333333333333333,
              "#9c179e"
             ],
             [
              0.4444444444444444,
              "#bd3786"
             ],
             [
              0.5555555555555556,
              "#d8576b"
             ],
             [
              0.6666666666666666,
              "#ed7953"
             ],
             [
              0.7777777777777778,
              "#fb9f3a"
             ],
             [
              0.8888888888888888,
              "#fdca26"
             ],
             [
              1,
              "#f0f921"
             ]
            ],
            "type": "histogram2dcontour"
           }
          ],
          "mesh3d": [
           {
            "colorbar": {
             "outlinewidth": 0,
             "ticks": ""
            },
            "type": "mesh3d"
           }
          ],
          "parcoords": [
           {
            "line": {
             "colorbar": {
              "outlinewidth": 0,
              "ticks": ""
             }
            },
            "type": "parcoords"
           }
          ],
          "pie": [
           {
            "automargin": true,
            "type": "pie"
           }
          ],
          "scatter": [
           {
            "fillpattern": {
             "fillmode": "overlay",
             "size": 10,
             "solidity": 0.2
            },
            "type": "scatter"
           }
          ],
          "scatter3d": [
           {
            "line": {
             "colorbar": {
              "outlinewidth": 0,
              "ticks": ""
             }
            },
            "marker": {
             "colorbar": {
              "outlinewidth": 0,
              "ticks": ""
             }
            },
            "type": "scatter3d"
           }
          ],
          "scattercarpet": [
           {
            "marker": {
             "colorbar": {
              "outlinewidth": 0,
              "ticks": ""
             }
            },
            "type": "scattercarpet"
           }
          ],
          "scattergeo": [
           {
            "marker": {
             "colorbar": {
              "outlinewidth": 0,
              "ticks": ""
             }
            },
            "type": "scattergeo"
           }
          ],
          "scattergl": [
           {
            "marker": {
             "colorbar": {
              "outlinewidth": 0,
              "ticks": ""
             }
            },
            "type": "scattergl"
           }
          ],
          "scattermap": [
           {
            "marker": {
             "colorbar": {
              "outlinewidth": 0,
              "ticks": ""
             }
            },
            "type": "scattermap"
           }
          ],
          "scattermapbox": [
           {
            "marker": {
             "colorbar": {
              "outlinewidth": 0,
              "ticks": ""
             }
            },
            "type": "scattermapbox"
           }
          ],
          "scatterpolar": [
           {
            "marker": {
             "colorbar": {
              "outlinewidth": 0,
              "ticks": ""
             }
            },
            "type": "scatterpolar"
           }
          ],
          "scatterpolargl": [
           {
            "marker": {
             "colorbar": {
              "outlinewidth": 0,
              "ticks": ""
             }
            },
            "type": "scatterpolargl"
           }
          ],
          "scatterternary": [
           {
            "marker": {
             "colorbar": {
              "outlinewidth": 0,
              "ticks": ""
             }
            },
            "type": "scatterternary"
           }
          ],
          "surface": [
           {
            "colorbar": {
             "outlinewidth": 0,
             "ticks": ""
            },
            "colorscale": [
             [
              0,
              "#0d0887"
             ],
             [
              0.1111111111111111,
              "#46039f"
             ],
             [
              0.2222222222222222,
              "#7201a8"
             ],
             [
              0.3333333333333333,
              "#9c179e"
             ],
             [
              0.4444444444444444,
              "#bd3786"
             ],
             [
              0.5555555555555556,
              "#d8576b"
             ],
             [
              0.6666666666666666,
              "#ed7953"
             ],
             [
              0.7777777777777778,
              "#fb9f3a"
             ],
             [
              0.8888888888888888,
              "#fdca26"
             ],
             [
              1,
              "#f0f921"
             ]
            ],
            "type": "surface"
           }
          ],
          "table": [
           {
            "cells": {
             "fill": {
              "color": "#EBF0F8"
             },
             "line": {
              "color": "white"
             }
            },
            "header": {
             "fill": {
              "color": "#C8D4E3"
             },
             "line": {
              "color": "white"
             }
            },
            "type": "table"
           }
          ]
         },
         "layout": {
          "annotationdefaults": {
           "arrowcolor": "#2a3f5f",
           "arrowhead": 0,
           "arrowwidth": 1
          },
          "autotypenumbers": "strict",
          "coloraxis": {
           "colorbar": {
            "outlinewidth": 0,
            "ticks": ""
           }
          },
          "colorscale": {
           "diverging": [
            [
             0,
             "#8e0152"
            ],
            [
             0.1,
             "#c51b7d"
            ],
            [
             0.2,
             "#de77ae"
            ],
            [
             0.3,
             "#f1b6da"
            ],
            [
             0.4,
             "#fde0ef"
            ],
            [
             0.5,
             "#f7f7f7"
            ],
            [
             0.6,
             "#e6f5d0"
            ],
            [
             0.7,
             "#b8e186"
            ],
            [
             0.8,
             "#7fbc41"
            ],
            [
             0.9,
             "#4d9221"
            ],
            [
             1,
             "#276419"
            ]
           ],
           "sequential": [
            [
             0,
             "#0d0887"
            ],
            [
             0.1111111111111111,
             "#46039f"
            ],
            [
             0.2222222222222222,
             "#7201a8"
            ],
            [
             0.3333333333333333,
             "#9c179e"
            ],
            [
             0.4444444444444444,
             "#bd3786"
            ],
            [
             0.5555555555555556,
             "#d8576b"
            ],
            [
             0.6666666666666666,
             "#ed7953"
            ],
            [
             0.7777777777777778,
             "#fb9f3a"
            ],
            [
             0.8888888888888888,
             "#fdca26"
            ],
            [
             1,
             "#f0f921"
            ]
           ],
           "sequentialminus": [
            [
             0,
             "#0d0887"
            ],
            [
             0.1111111111111111,
             "#46039f"
            ],
            [
             0.2222222222222222,
             "#7201a8"
            ],
            [
             0.3333333333333333,
             "#9c179e"
            ],
            [
             0.4444444444444444,
             "#bd3786"
            ],
            [
             0.5555555555555556,
             "#d8576b"
            ],
            [
             0.6666666666666666,
             "#ed7953"
            ],
            [
             0.7777777777777778,
             "#fb9f3a"
            ],
            [
             0.8888888888888888,
             "#fdca26"
            ],
            [
             1,
             "#f0f921"
            ]
           ]
          },
          "colorway": [
           "#636efa",
           "#EF553B",
           "#00cc96",
           "#ab63fa",
           "#FFA15A",
           "#19d3f3",
           "#FF6692",
           "#B6E880",
           "#FF97FF",
           "#FECB52"
          ],
          "font": {
           "color": "#2a3f5f"
          },
          "geo": {
           "bgcolor": "white",
           "lakecolor": "white",
           "landcolor": "#E5ECF6",
           "showlakes": true,
           "showland": true,
           "subunitcolor": "white"
          },
          "hoverlabel": {
           "align": "left"
          },
          "hovermode": "closest",
          "mapbox": {
           "style": "light"
          },
          "paper_bgcolor": "white",
          "plot_bgcolor": "#E5ECF6",
          "polar": {
           "angularaxis": {
            "gridcolor": "white",
            "linecolor": "white",
            "ticks": ""
           },
           "bgcolor": "#E5ECF6",
           "radialaxis": {
            "gridcolor": "white",
            "linecolor": "white",
            "ticks": ""
           }
          },
          "scene": {
           "xaxis": {
            "backgroundcolor": "#E5ECF6",
            "gridcolor": "white",
            "gridwidth": 2,
            "linecolor": "white",
            "showbackground": true,
            "ticks": "",
            "zerolinecolor": "white"
           },
           "yaxis": {
            "backgroundcolor": "#E5ECF6",
            "gridcolor": "white",
            "gridwidth": 2,
            "linecolor": "white",
            "showbackground": true,
            "ticks": "",
            "zerolinecolor": "white"
           },
           "zaxis": {
            "backgroundcolor": "#E5ECF6",
            "gridcolor": "white",
            "gridwidth": 2,
            "linecolor": "white",
            "showbackground": true,
            "ticks": "",
            "zerolinecolor": "white"
           }
          },
          "shapedefaults": {
           "line": {
            "color": "#2a3f5f"
           }
          },
          "ternary": {
           "aaxis": {
            "gridcolor": "white",
            "linecolor": "white",
            "ticks": ""
           },
           "baxis": {
            "gridcolor": "white",
            "linecolor": "white",
            "ticks": ""
           },
           "bgcolor": "#E5ECF6",
           "caxis": {
            "gridcolor": "white",
            "linecolor": "white",
            "ticks": ""
           }
          },
          "title": {
           "x": 0.05
          },
          "xaxis": {
           "automargin": true,
           "gridcolor": "white",
           "linecolor": "white",
           "ticks": "",
           "title": {
            "standoff": 15
           },
           "zerolinecolor": "white",
           "zerolinewidth": 2
          },
          "yaxis": {
           "automargin": true,
           "gridcolor": "white",
           "linecolor": "white",
           "ticks": "",
           "title": {
            "standoff": 15
           },
           "zerolinecolor": "white",
           "zerolinewidth": 2
          }
         }
        },
        "title": {
         "text": "train/memory Over train/epoch"
        },
        "xaxis": {
         "anchor": "y",
         "domain": [
          0,
          1
         ],
         "title": {
          "text": "train/epoch"
         }
        },
        "yaxis": {
         "anchor": "x",
         "domain": [
          0,
          1
         ],
         "title": {
          "text": "train/memory"
         }
        }
       }
      }
     },
     "metadata": {},
     "output_type": "display_data"
    }
   ],
   "source": [
    "fetch_and_plot_wandb_runs(\n",
    "    entity=\"mallahova\",\n",
    "    project=\"adalora_rank_start_40_rank_20_random\",\n",
    "    metric=\"train/memory\",\n",
    "    x_axis=\"train/epoch\",\n",
    "    interactive=True,\n",
    "    starts_with=\"results_cola_5_40\",\n",
    "    num_runs=1\n",
    ")"
   ]
  },
  {
   "cell_type": "code",
   "execution_count": 29,
   "metadata": {
    "jupyter": {
     "source_hidden": true
    }
   },
   "outputs": [
    {
     "data": {
      "text/markdown": [
       "| Task   |   Rank Min |   Rank Max |   Alpha Min |   Alpha Max |    LR |   Rank Avg | Median ± Std   |\n",
       "|:-------|-----------:|-----------:|------------:|------------:|------:|-----------:|:---------------|\n",
       "| cola   |          5 |         40 |         0.5 |           3 | 0.02  |         20 | 67.32 ± 0.50   |\n",
       "| cola   |          5 |         40 |         0.5 |           3 | 0.01  |         20 | 67.29 ± 1.42   |\n",
       "| cola   |          5 |         40 |         0.5 |           3 | 0.002 |         20 | 65.83 ± 1.14   |"
      ],
      "text/plain": [
       "<IPython.core.display.Markdown object>"
      ]
     },
     "metadata": {},
     "output_type": "display_data"
    },
    {
     "name": "stdout",
     "output_type": "stream",
     "text": [
      "\n"
     ]
    },
    {
     "data": {
      "image/png": "[encoded data removed]",
      "text/plain": [
       "<Figure size 2000x600 with 1 Axes>"
      ]
     },
     "metadata": {},
     "output_type": "display_data"
    }
   ],
   "source": [
    "project = \"adalora_rank_start_40_rank_20_random\"\n",
    "entity = \"mallahova\"\n",
    "display_project_stats(project=project, entity=entity, starts_with=\"results_cola_5_40\", epoch_start=25)"
   ]
  },
  {
   "cell_type": "markdown",
   "metadata": {},
   "source": [
    "Initial rank is 40, epochs 0-19 rank 40, epochs 20-39 rank 40->20, epoch 40-49 rank 20. \n",
    "rank_allocation_weights initialized to random, same scheduling, discrete rank on the last epoch, rank_min is 5, rank_max is 50"
   ]
  },
  {
   "cell_type": "code",
   "execution_count": 14,
   "metadata": {},
   "outputs": [
    {
     "data": {
      "application/vnd.plotly.v1+json": {
       "config": {
        "plotlyServerURL": "https://plot.ly"
       },
       "data": [
        {
         "hovertemplate": "name=results_cola_5_50_0.5_3_4_0.002_20<br>train/epoch=%{x}<br>train/memory=%{y}<extra></extra>",
         "legendgroup": "results_cola_5_50_0.5_3_4_0.002_20",
         "line": {
          "color": "#636efa",
          "dash": "solid"
         },
         "marker": {
          "symbol": "circle"
         },
         "mode": "lines",
         "name": "results_cola_5_50_0.5_3_4_0.002_20",
         "orientation": "v",
         "showlegend": true,
         "type": "scatter",
         "x": {
          "bdata": "Kme38Ksx0T+wxkR6oHLWP1A5u4Vfjdk/vxoT6YHK2T8qZ7fwqzHhPzKRHqic3eI/qJzdwq/G5D+Vs1v41ZjoP7fwqzGRHvA/gsrZLfxq8D85u4VfjYnwP+XsFn41JvI/3sKvxkR69D/ObuFXYyL1PxPpgcrZLfg/BJWzW/jV+D9ydgu/GhP5P46J9EDl7Po/RXqgcnYL+z9v4VdjIj38P97Cr8ZEevw/MpEeqJzd/j9B5ewWfjUAQCpnt/CrMQFAt/CrMZEeAkConN3Cr8YCQAgqZ7fwqwNAoHJ2C78aBUC/GhPpgcoFQEV6oHJ2CwdAtFv41ZhIB0DDr8ZEeqAIQGCNifRA5QhAPVA5u4VfCUBjIj1QObsJQBsT6YHK2QlAivRA5ewWCkDhV2MiPVALQC78akykBw5Ax0R6oHJ2D0B+NSbSA5UPQHYLvxoT6Q9AJtIDlbNbEEBQObuFX40QQDYm0gOVsxBA+NWYSA9UEUA5u4VfjYkRQNot/GpMpBFAQeXsFn41E0DHRHqgcnYTQO0WfjUm0hRAYI2J9EDlFEC38KsxkR4VQOmBytkt/BVAivRA5ewWFkA5u4VfjYkWQGMiPVA5uxZAXPjVmEgPF0BB5ewWfjUXQIr0QOXsFhhAa0ykBypnGEDewq/GRHoYQL8aE+mByhhA8asxkR6oGUC/GhPpgcoZQFz41ZhIDxpAJtIDlbNbGkCRHqic3cIbQBsT6YHK2RxAMpEeqJzdHECNifRA5ewcQPVA5ewWfh1AYI2J9EDlHUCCytkt/GoeQLfwqzGRHh9Aytkt/GpMH0BjIj1QObsfQL8aE+mByh9AC78aE+mBIEA2JtIDlbMgQPjVmEgP1CBAgsrZLfzqIEAXfjUm0gMhQLfwqzGRHiFAsMZEeqByIUBFeqBydoshQKic3cKvxiFA8asxkR4oIkAqZ7fwqzEiQEHl7BZ+NSJA6YHK2S18IkB+NSbSA5UiQOXsFn41piJAjYn0QOXsIkAAAAAAAAAjQEHl7BZ+NSNAMpEeqJzdI0CCytkt/OojQOXsFn41JiRAgsrZLfxqJEDHRHqgcnYkQNIDlbNbeCRAD1TObuHXJEBnt/CrMRElQHN2C78aEyVA5ewWfjUmJUDWmEgPVE4lQOFXYyI9UCVAYyI9UDm7JUBnt/CrMREmQLfwqzGRHiZATKQHKmc3JkBjIj1QOTsmQC78akykhyZAZ7fwqzGRJkC38KsxkZ4mQOXsFn41piZAlbNb+NUYJ0B2C78aE2knQBd+NSbSgydAMpEeqJzdJ0AXfjUm0gMoQFTObuFXYyhAObuFX42JKEBrTKQHKucoQKQHKme3cClA9UDl7BZ+KUAIKme38KspQCI9UDm7BSpAE+mBytktKkD1QOXsFn4qQB+onN3CrypAH6ic3cIvK0CZSA9Uzm4rQMdEeqByditA0gOVs1v4K0AiPVA5uwUsQASVs1v4VSxAD1TObuFXLEC38KsxkZ4sQM5u4VdjoixA7RZ+NSbSLEDSA5WzW/gsQGCNifRAZS1AZ7fwqzGRLUBrTKQHKuctQLuFX42J9C1AObuFX42JLkDxqzGRHqguQIZfjYn0wC5A9UDl7Bb+LkBFeqBydgsvQHN2C78aEy9AlbNb+NUYL0DaLfxqTCQvQPxqTKQHKi9At/CrMZGeL0DWmEgPVM4vQHYLvxoT6S9A3sKvxkT6L0A9UDm7hR8wQDUm0gOVMzBAQeXsFn41MEDewq/GRDowQO0WfjUmUjBAE+mBytltMED41ZhID5QwQPGrMZEeqDBAgsrZLfyqMED1QOXsFr4wQBd+NSbSwzBAvxoT6YHKMEDhV2MiPdAwQIZfjYn0ADFAD1TObuEXMUAm0gOVsxsxQOXsFn41JjFA9UDl7BZ+MUBB5ewWfrUxQN7Cr8ZEujFAb+FXYyK9MUCK9EDl7NYxQOXsFn415jFA7RZ+NSYSMkCgcnYLvxoyQB+onN3CLzJApAcqZ7cwMkDpgcrZLTwyQAu/GhPpQTJAw6/GRHpgMkDObuFXY2IyQPVA5ewWfjJAoHJ2C7+aMkAfqJzdwq8yQLRb+NWYyDJAvxoT6YHKMkCwxkR6oPIyQNIDlbNb+DJARXqgcnYLM0DL2S38agwzQOFXYyI9UDNAmUgPVM5uM0AXfjUm0oMzQKBydgu/mjNA2i38akykM0DxqzGRHqgzQPxqTKQHqjNAu4VfjYm0M0DtFn41JtIzQIr0QOXs1jNAH6ic3cLvM0C38KsxkR40QMdEeqByNjRAnd3Cr8ZENEC/GhPpgUo0QB+onN3CbzRAUDm7hV+NNEAElbNb+JU0QLDGRHqgsjRAWGMiPVC5NEDK2S38asw0QASVs1v41TRAmUgPVM7uNEDewq/GRPo0QIZfjYn0ADVAXPjVmEgPNUBzdgu/GhM1QLDGRHqgMjVA/GpMpAeqNUA2JtIDlbM1QLuFX42J9DVAx0R6oHL2NUAPVM5u4Rc2QDUm0gOVMzZAObuFX41JNkBnt/CrMVE2QGtMpAcqZzZAObuFX42JNkCVs1v41Zg2QCbSA5WzmzZASQ9Uzm6hNkBUzm7hV6M2QHYLvxoTqTZAmUgPVM6uNkCwxkR6oLI2QMdEeqBytjZAVM5u4VfjNkCwxkR6oPI2QL8aE+mBCjdA1phID1QON0DDr8ZEeiA3QKQHKme3cDdAWGMiPVB5N0D1QOXsFn43QAAAAAAAgDdAa0ykByqnN0CZSA9Uzq43QIZfjYn0ADhAzm7hV2MiOEAIKme38Cs4QLDGRHqgMjhAtFv41ZhIOEBc+NWYSE84QPjVmEgPVDhAH6ic3cKvOEDxqzGRHug4QH41JtIDVTlAPVA5u4VfOUDSA5WzW3g5QMOvxkR6oDlAjYn0QOWsOUBB5ewWfrU5QKic3cKvxjlASQ9Uzm7hOUB2C78aE+k5QAgqZ7fw6zlAx0R6oHL2OUBjIj1QOTs6QAu/GhPpgTpA3sKvxkS6OkD1QOXsFv46QGe38KsxETtA5ewWfjUmO0Am0gOVs1s7QOmBytktfDtAytkt/GqMO0ConN3Cr8Y7QM5u4Vdj4jtA8asxkR7oO0CwxkR6oPI7QAAAAAAAADxAhl+NifQAPEC/GhPpgQo8QC78akykRzxAZ7fwqzFRPED41ZhID1Q8QIr0QOXsVjxAzm7hV2OiPEAXfjUm0gM9QPxqTKQHKj1AsMZEeqByPUAiPVA5u4U9QLRb+NWYiD1Ac3YLvxqTPUAm0gOVs5s9QCpnt/CrsT1AsMZEeqDyPUCRHqic3QI+QBd+NSbSAz5AYI2J9EAlPkC0W/jVmEg+QPjVmEgPVD5AH6ic3cJvPkAiPVA5u4U+QKBydgu/mj5AF341JtLDPkC/GhPpgco+QFTObuFX4z5A8asxkR7oPkBjIj1QOfs+QOFXYyI9ED9Au4VfjYk0P0DSA5WzWzg/QILK2S38aj9ALvxqTKSHP0DxqzGRHqg/QILK2S38qj9Ahl+NifTAP0ConN3Cr8Y/QM5u4Vdj4j9AKme38KvxP0A2JtIDlfM/QNIDlbNb+D9AeqBydgv/P0Bc+NWYSA9AQOFXYyI9EEBAF341JtIjQEBUzm7hV0NAQHqgcnYLX0BASQ9Uzm5hQEAqZ7fwq3FAQOmBytktfEBANSbSA5WTQEA5u4VfjalAQPxqTKQHqkBAtFv41ZjIQEAbE+mBytlAQO0WfjUm8kBAUDm7hV8NQUDpgcrZLTxBQKwxkR6oPEFAkR6onN1CQUBgjYn0QEVBQNaYSA9UTkFAZ7fwqzFRQUCsMZEeqFxBQEkPVM5uYUFAjYn0QOVsQUAfqJzdwm9BQBd+NSbSg0FAu4VfjYmUQUCK9EDl7JZBQKwxkR6onEFAb+FXYyKdQUCd3cKvxqRBQGCNifRApUFA5ewWfjWmQUCCytkt/KpBQNot/GpMxEFAObuFX43JQUCsMZEeqNxBQKic3cKv5kFApAcqZ7fwQUAbE+mByvlBQEkPVM5uAUJA/GpMpAcKQkAfqJzdwg9CQBsT6YHKGUJAu4VfjYk0QkAElbNb+DVCQKQHKme3UEJAIj1QObtlQkAIKme38KtCQFz41ZhIr0JANSbSA5WzQkDewq/GRLpCQEkPVM5uwUJA3sKvxkTaQkConN3Cr+ZCQEV6oHJ260JARXqgcnYLQ0BQObuFXw1DQEkPVM5uQUNAvxoT6YFKQ0AfqJzdwk9DQIZfjYn0YENA7RZ+NSZyQ0CVs1v41XhDQFhjIj1QmUNAZ7fwqzGxQ0CRHqic3cJDQCI9UDm75UNAYyI9UDn7Q0B2C78aEwlEQBsT6YHKGURAeqBydgsfREDl7BZ+NSZEQMvZLfxqLERAjYn0QOVMREDhV2MiPVBEQKQHKme3UERAPVA5u4V/REBgjYn0QIVEQDUm0gOVk0RAKme38KuxREBMpAcqZ9dEQJ3dwq/G5ERApAcqZ7fwRECK9EDl7PZEQFTObuFXI0VAdgu/GhMpRUCNifRA5SxFQNIDlbNbOEVAzm7hV2NCRUA5u4VfjUlFQFA5u4VfbUVAb+FXYyJ9RUAAAAAAAIBFQKQHKme3kEVA+NWYSA+URUBc+NWYSK9FQHN2C78a00VALvxqTKTnRUCNifRA5exFQLDGRHqg8kVA+NWYSA/0RUDObuFXYwJGQCbSA5WzG0ZAtFv41ZgoRkA1JtIDlTNGQLuFX42JVEZATKQHKmdXRkCVs1v41VhGQPGrMZEeaEZAUDm7hV9tRkAbE+mBynlGQEkPVM5ugUZACCpnt/CLRkDaLfxqTKRGQMvZLfxqrEZAjYn0QOXMRkCkBypnt9BGQBsT6YHK2UZAivRA5ez2RkCd3cKvxgRHQOFXYyI9EEdAtFv41ZgoR0ALvxoT6UFHQC78akykR0dARXqgcnZLR0DWmEgPVE5HQCpnt/CrUUdA7RZ+NSZSR0A2JtIDlVNHQPjVmEgPVEdAlbNb+NVYR0D8akykB2pHQPxqTKQHikdAgsrZLfyKR0AfqJzdwo9HQLDGRHqgkkdALvxqTKSnR0CRHqic3cJHQDm7hV+NyUdAVM5u4VfjR0DWmEgPVO5HQB+onN3C70dAx0R6oHL2R0CVs1v41fhHQFhjIj1Q+UdAtFv41ZgISEAIKme38AtIQHN2C78aE0hA6YHK2S0cSEDDr8ZEeiBIQMOvxkR6QEhAvxoT6YFKSEAfqJzdwk9IQOFXYyI9cEhAGxPpgcp5SEBzdgu/GpNIQN7Cr8ZEmkhAMpEeqJydSECNifRA5axIQKQHKme3sEhAeqBydgvfSEDxqzGRHuhIQPxqTKQH6khAE+mBytntSEB+NSbSA/VIQA==",
          "dtype": "f8"
         },
         "xaxis": "x",
         "y": {
          "bdata": "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",
          "dtype": "f8"
         },
         "yaxis": "y"
        }
       ],
       "layout": {
        "legend": {
         "title": {
          "text": "name"
         },
         "tracegroupgap": 0
        },
        "template": {
         "data": {
          "bar": [
           {
            "error_x": {
             "color": "#2a3f5f"
            },
            "error_y": {
             "color": "#2a3f5f"
            },
            "marker": {
             "line": {
              "color": "#E5ECF6",
              "width": 0.5
             },
             "pattern": {
              "fillmode": "overlay",
              "size": 10,
              "solidity": 0.2
             }
            },
            "type": "bar"
           }
          ],
          "barpolar": [
           {
            "marker": {
             "line": {
              "color": "#E5ECF6",
              "width": 0.5
             },
             "pattern": {
              "fillmode": "overlay",
              "size": 10,
              "solidity": 0.2
             }
            },
            "type": "barpolar"
           }
          ],
          "carpet": [
           {
            "aaxis": {
             "endlinecolor": "#2a3f5f",
             "gridcolor": "white",
             "linecolor": "white",
             "minorgridcolor": "white",
             "startlinecolor": "#2a3f5f"
            },
            "baxis": {
             "endlinecolor": "#2a3f5f",
             "gridcolor": "white",
             "linecolor": "white",
             "minorgridcolor": "white",
             "startlinecolor": "#2a3f5f"
            },
            "type": "carpet"
           }
          ],
          "choropleth": [
           {
            "colorbar": {
             "outlinewidth": 0,
             "ticks": ""
            },
            "type": "choropleth"
           }
          ],
          "contour": [
           {
            "colorbar": {
             "outlinewidth": 0,
             "ticks": ""
            },
            "colorscale": [
             [
              0,
              "#0d0887"
             ],
             [
              0.1111111111111111,
              "#46039f"
             ],
             [
              0.2222222222222222,
              "#7201a8"
             ],
             [
              0.3333333333333333,
              "#9c179e"
             ],
             [
              0.4444444444444444,
              "#bd3786"
             ],
             [
              0.5555555555555556,
              "#d8576b"
             ],
             [
              0.6666666666666666,
              "#ed7953"
             ],
             [
              0.7777777777777778,
              "#fb9f3a"
             ],
             [
              0.8888888888888888,
              "#fdca26"
             ],
             [
              1,
              "#f0f921"
             ]
            ],
            "type": "contour"
           }
          ],
          "contourcarpet": [
           {
            "colorbar": {
             "outlinewidth": 0,
             "ticks": ""
            },
            "type": "contourcarpet"
           }
          ],
          "heatmap": [
           {
            "colorbar": {
             "outlinewidth": 0,
             "ticks": ""
            },
            "colorscale": [
             [
              0,
              "#0d0887"
             ],
             [
              0.1111111111111111,
              "#46039f"
             ],
             [
              0.2222222222222222,
              "#7201a8"
             ],
             [
              0.3333333333333333,
              "#9c179e"
             ],
             [
              0.4444444444444444,
              "#bd3786"
             ],
             [
              0.5555555555555556,
              "#d8576b"
             ],
             [
              0.6666666666666666,
              "#ed7953"
             ],
             [
              0.7777777777777778,
              "#fb9f3a"
             ],
             [
              0.8888888888888888,
              "#fdca26"
             ],
             [
              1,
              "#f0f921"
             ]
            ],
            "type": "heatmap"
           }
          ],
          "histogram": [
           {
            "marker": {
             "pattern": {
              "fillmode": "overlay",
              "size": 10,
              "solidity": 0.2
             }
            },
            "type": "histogram"
           }
          ],
          "histogram2d": [
           {
            "colorbar": {
             "outlinewidth": 0,
             "ticks": ""
            },
            "colorscale": [
             [
              0,
              "#0d0887"
             ],
             [
              0.1111111111111111,
              "#46039f"
             ],
             [
              0.2222222222222222,
              "#7201a8"
             ],
             [
              0.3333333333333333,
              "#9c179e"
             ],
             [
              0.4444444444444444,
              "#bd3786"
             ],
             [
              0.5555555555555556,
              "#d8576b"
             ],
             [
              0.6666666666666666,
              "#ed7953"
             ],
             [
              0.7777777777777778,
              "#fb9f3a"
             ],
             [
              0.8888888888888888,
              "#fdca26"
             ],
             [
              1,
              "#f0f921"
             ]
            ],
            "type": "histogram2d"
           }
          ],
          "histogram2dcontour": [
           {
            "colorbar": {
             "outlinewidth": 0,
             "ticks": ""
            },
            "colorscale": [
             [
              0,
              "#0d0887"
             ],
             [
              0.1111111111111111,
              "#46039f"
             ],
             [
              0.2222222222222222,
              "#7201a8"
             ],
             [
              0.3333333333333333,
              "#9c179e"
             ],
             [
              0.4444444444444444,
              "#bd3786"
             ],
             [
              0.5555555555555556,
              "#d8576b"
             ],
             [
              0.6666666666666666,
              "#ed7953"
             ],
             [
              0.7777777777777778,
              "#fb9f3a"
             ],
             [
              0.8888888888888888,
              "#fdca26"
             ],
             [
              1,
              "#f0f921"
             ]
            ],
            "type": "histogram2dcontour"
           }
          ],
          "mesh3d": [
           {
            "colorbar": {
             "outlinewidth": 0,
             "ticks": ""
            },
            "type": "mesh3d"
           }
          ],
          "parcoords": [
           {
            "line": {
             "colorbar": {
              "outlinewidth": 0,
              "ticks": ""
             }
            },
            "type": "parcoords"
           }
          ],
          "pie": [
           {
            "automargin": true,
            "type": "pie"
           }
          ],
          "scatter": [
           {
            "fillpattern": {
             "fillmode": "overlay",
             "size": 10,
             "solidity": 0.2
            },
            "type": "scatter"
           }
          ],
          "scatter3d": [
           {
            "line": {
             "colorbar": {
              "outlinewidth": 0,
              "ticks": ""
             }
            },
            "marker": {
             "colorbar": {
              "outlinewidth": 0,
              "ticks": ""
             }
            },
            "type": "scatter3d"
           }
          ],
          "scattercarpet": [
           {
            "marker": {
             "colorbar": {
              "outlinewidth": 0,
              "ticks": ""
             }
            },
            "type": "scattercarpet"
           }
          ],
          "scattergeo": [
           {
            "marker": {
             "colorbar": {
              "outlinewidth": 0,
              "ticks": ""
             }
            },
            "type": "scattergeo"
           }
          ],
          "scattergl": [
           {
            "marker": {
             "colorbar": {
              "outlinewidth": 0,
              "ticks": ""
             }
            },
            "type": "scattergl"
           }
          ],
          "scattermap": [
           {
            "marker": {
             "colorbar": {
              "outlinewidth": 0,
              "ticks": ""
             }
            },
            "type": "scattermap"
           }
          ],
          "scattermapbox": [
           {
            "marker": {
             "colorbar": {
              "outlinewidth": 0,
              "ticks": ""
             }
            },
            "type": "scattermapbox"
           }
          ],
          "scatterpolar": [
           {
            "marker": {
             "colorbar": {
              "outlinewidth": 0,
              "ticks": ""
             }
            },
            "type": "scatterpolar"
           }
          ],
          "scatterpolargl": [
           {
            "marker": {
             "colorbar": {
              "outlinewidth": 0,
              "ticks": ""
             }
            },
            "type": "scatterpolargl"
           }
          ],
          "scatterternary": [
           {
            "marker": {
             "colorbar": {
              "outlinewidth": 0,
              "ticks": ""
             }
            },
            "type": "scatterternary"
           }
          ],
          "surface": [
           {
            "colorbar": {
             "outlinewidth": 0,
             "ticks": ""
            },
            "colorscale": [
             [
              0,
              "#0d0887"
             ],
             [
              0.1111111111111111,
              "#46039f"
             ],
             [
              0.2222222222222222,
              "#7201a8"
             ],
             [
              0.3333333333333333,
              "#9c179e"
             ],
             [
              0.4444444444444444,
              "#bd3786"
             ],
             [
              0.5555555555555556,
              "#d8576b"
             ],
             [
              0.6666666666666666,
              "#ed7953"
             ],
             [
              0.7777777777777778,
              "#fb9f3a"
             ],
             [
              0.8888888888888888,
              "#fdca26"
             ],
             [
              1,
              "#f0f921"
             ]
            ],
            "type": "surface"
           }
          ],
          "table": [
           {
            "cells": {
             "fill": {
              "color": "#EBF0F8"
             },
             "line": {
              "color": "white"
             }
            },
            "header": {
             "fill": {
              "color": "#C8D4E3"
             },
             "line": {
              "color": "white"
             }
            },
            "type": "table"
           }
          ]
         },
         "layout": {
          "annotationdefaults": {
           "arrowcolor": "#2a3f5f",
           "arrowhead": 0,
           "arrowwidth": 1
          },
          "autotypenumbers": "strict",
          "coloraxis": {
           "colorbar": {
            "outlinewidth": 0,
            "ticks": ""
           }
          },
          "colorscale": {
           "diverging": [
            [
             0,
             "#8e0152"
            ],
            [
             0.1,
             "#c51b7d"
            ],
            [
             0.2,
             "#de77ae"
            ],
            [
             0.3,
             "#f1b6da"
            ],
            [
             0.4,
             "#fde0ef"
            ],
            [
             0.5,
             "#f7f7f7"
            ],
            [
             0.6,
             "#e6f5d0"
            ],
            [
             0.7,
             "#b8e186"
            ],
            [
             0.8,
             "#7fbc41"
            ],
            [
             0.9,
             "#4d9221"
            ],
            [
             1,
             "#276419"
            ]
           ],
           "sequential": [
            [
             0,
             "#0d0887"
            ],
            [
             0.1111111111111111,
             "#46039f"
            ],
            [
             0.2222222222222222,
             "#7201a8"
            ],
            [
             0.3333333333333333,
             "#9c179e"
            ],
            [
             0.4444444444444444,
             "#bd3786"
            ],
            [
             0.5555555555555556,
             "#d8576b"
            ],
            [
             0.6666666666666666,
             "#ed7953"
            ],
            [
             0.7777777777777778,
             "#fb9f3a"
            ],
            [
             0.8888888888888888,
             "#fdca26"
            ],
            [
             1,
             "#f0f921"
            ]
           ],
           "sequentialminus": [
            [
             0,
             "#0d0887"
            ],
            [
             0.1111111111111111,
             "#46039f"
            ],
            [
             0.2222222222222222,
             "#7201a8"
            ],
            [
             0.3333333333333333,
             "#9c179e"
            ],
            [
             0.4444444444444444,
             "#bd3786"
            ],
            [
             0.5555555555555556,
             "#d8576b"
            ],
            [
             0.6666666666666666,
             "#ed7953"
            ],
            [
             0.7777777777777778,
             "#fb9f3a"
            ],
            [
             0.8888888888888888,
             "#fdca26"
            ],
            [
             1,
             "#f0f921"
            ]
           ]
          },
          "colorway": [
           "#636efa",
           "#EF553B",
           "#00cc96",
           "#ab63fa",
           "#FFA15A",
           "#19d3f3",
           "#FF6692",
           "#B6E880",
           "#FF97FF",
           "#FECB52"
          ],
          "font": {
           "color": "#2a3f5f"
          },
          "geo": {
           "bgcolor": "white",
           "lakecolor": "white",
           "landcolor": "#E5ECF6",
           "showlakes": true,
           "showland": true,
           "subunitcolor": "white"
          },
          "hoverlabel": {
           "align": "left"
          },
          "hovermode": "closest",
          "mapbox": {
           "style": "light"
          },
          "paper_bgcolor": "white",
          "plot_bgcolor": "#E5ECF6",
          "polar": {
           "angularaxis": {
            "gridcolor": "white",
            "linecolor": "white",
            "ticks": ""
           },
           "bgcolor": "#E5ECF6",
           "radialaxis": {
            "gridcolor": "white",
            "linecolor": "white",
            "ticks": ""
           }
          },
          "scene": {
           "xaxis": {
            "backgroundcolor": "#E5ECF6",
            "gridcolor": "white",
            "gridwidth": 2,
            "linecolor": "white",
            "showbackground": true,
            "ticks": "",
            "zerolinecolor": "white"
           },
           "yaxis": {
            "backgroundcolor": "#E5ECF6",
            "gridcolor": "white",
            "gridwidth": 2,
            "linecolor": "white",
            "showbackground": true,
            "ticks": "",
            "zerolinecolor": "white"
           },
           "zaxis": {
            "backgroundcolor": "#E5ECF6",
            "gridcolor": "white",
            "gridwidth": 2,
            "linecolor": "white",
            "showbackground": true,
            "ticks": "",
            "zerolinecolor": "white"
           }
          },
          "shapedefaults": {
           "line": {
            "color": "#2a3f5f"
           }
          },
          "ternary": {
           "aaxis": {
            "gridcolor": "white",
            "linecolor": "white",
            "ticks": ""
           },
           "baxis": {
            "gridcolor": "white",
            "linecolor": "white",
            "ticks": ""
           },
           "bgcolor": "#E5ECF6",
           "caxis": {
            "gridcolor": "white",
            "linecolor": "white",
            "ticks": ""
           }
          },
          "title": {
           "x": 0.05
          },
          "xaxis": {
           "automargin": true,
           "gridcolor": "white",
           "linecolor": "white",
           "ticks": "",
           "title": {
            "standoff": 15
           },
           "zerolinecolor": "white",
           "zerolinewidth": 2
          },
          "yaxis": {
           "automargin": true,
           "gridcolor": "white",
           "linecolor": "white",
           "ticks": "",
           "title": {
            "standoff": 15
           },
           "zerolinecolor": "white",
           "zerolinewidth": 2
          }
         }
        },
        "title": {
         "text": "train/memory Over train/epoch"
        },
        "xaxis": {
         "anchor": "y",
         "domain": [
          0,
          1
         ],
         "title": {
          "text": "train/epoch"
         }
        },
        "yaxis": {
         "anchor": "x",
         "domain": [
          0,
          1
         ],
         "title": {
          "text": "train/memory"
         }
        }
       }
      }
     },
     "metadata": {},
     "output_type": "display_data"
    }
   ],
   "source": [
    "fetch_and_plot_wandb_runs(\n",
    "    entity=\"mallahova\",\n",
    "    project=\"adalora_rank_start_40_rank_20_random\",\n",
    "    metric=\"train/memory\",\n",
    "    x_axis=\"train/epoch\",\n",
    "    interactive=True,\n",
    "    starts_with=\"results_cola_5_50\",\n",
    "    num_runs=1\n",
    ")"
   ]
  },
  {
   "cell_type": "code",
   "execution_count": 12,
   "metadata": {},
   "outputs": [
    {
     "data": {
      "text/markdown": [
       "| Task   |   Rank Min |   Rank Max |   Alpha Min |   Alpha Max |    LR |   Rank Avg | Median ± Std   |\n",
       "|:-------|-----------:|-----------:|------------:|------------:|------:|-----------:|:---------------|\n",
       "| cola   |          5 |         50 |         0.5 |           3 | 0.01  |         20 | 62.60 ± 2.40   |\n",
       "| cola   |          5 |         50 |         0.5 |           3 | 0.02  |         20 | 60.72 ± 0.00   |\n",
       "| cola   |          5 |         50 |         0.5 |           3 | 0.002 |         20 | 59.85 ± 1.57   |"
      ],
      "text/plain": [
       "<IPython.core.display.Markdown object>"
      ]
     },
     "metadata": {},
     "output_type": "display_data"
    },
    {
     "name": "stdout",
     "output_type": "stream",
     "text": [
      "\n"
     ]
    },
    {
     "data": {
      "image/png": "[encoded data removed]",
      "text/plain": [
       "<Figure size 2000x600 with 1 Axes>"
      ]
     },
     "metadata": {},
     "output_type": "display_data"
    }
   ],
   "source": [
    "project = \"adalora_rank_start_40_rank_20_random\"\n",
    "entity = \"mallahova\"\n",
    "display_project_stats(project=project, entity=entity, starts_with=\"results_cola_5_50\", epoch_start=40)"
   ]
  },
  {
   "cell_type": "markdown",
   "metadata": {},
   "source": [
    "# Quadratic initialization\n",
    "Initial rank is 40, epochs 0-19 rank 40, epochs 20-39 rank 40->20, epoch 40-49 rank 20. \n",
    "rank_allocation_weights initialized to quadratic, same scheduling, discrete rank on the last epoch, rank_min is 5, rank_max is 50"
   ]
  },
  {
   "cell_type": "code",
   "execution_count": 15,
   "metadata": {},
   "outputs": [
    {
     "data": {
      "application/vnd.plotly.v1+json": {
       "config": {
        "plotlyServerURL": "https://plot.ly"
       },
       "data": [
        {
         "hovertemplate": "name=results_cola_5_50_0.5_3_4_0.02_20<br>train/epoch=%{x}<br>train/memory=%{y}<extra></extra>",
         "legendgroup": "results_cola_5_50_0.5_3_4_0.02_20",
         "line": {
          "color": "#636efa",
          "dash": "solid"
         },
         "marker": {
          "symbol": "circle"
         },
         "mode": "lines",
         "name": "results_cola_5_50_0.5_3_4_0.02_20",
         "orientation": "v",
         "showlegend": true,
         "type": "scatter",
         "x": {
          "bdata": "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",
          "dtype": "f8"
         },
         "xaxis": "x",
         "y": {
          "bdata": "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",
          "dtype": "f8"
         },
         "yaxis": "y"
        }
       ],
       "layout": {
        "legend": {
         "title": {
          "text": "name"
         },
         "tracegroupgap": 0
        },
        "template": {
         "data": {
          "bar": [
           {
            "error_x": {
             "color": "#2a3f5f"
            },
            "error_y": {
             "color": "#2a3f5f"
            },
            "marker": {
             "line": {
              "color": "#E5ECF6",
              "width": 0.5
             },
             "pattern": {
              "fillmode": "overlay",
              "size": 10,
              "solidity": 0.2
             }
            },
            "type": "bar"
           }
          ],
          "barpolar": [
           {
            "marker": {
             "line": {
              "color": "#E5ECF6",
              "width": 0.5
             },
             "pattern": {
              "fillmode": "overlay",
              "size": 10,
              "solidity": 0.2
             }
            },
            "type": "barpolar"
           }
          ],
          "carpet": [
           {
            "aaxis": {
             "endlinecolor": "#2a3f5f",
             "gridcolor": "white",
             "linecolor": "white",
             "minorgridcolor": "white",
             "startlinecolor": "#2a3f5f"
            },
            "baxis": {
             "endlinecolor": "#2a3f5f",
             "gridcolor": "white",
             "linecolor": "white",
             "minorgridcolor": "white",
             "startlinecolor": "#2a3f5f"
            },
            "type": "carpet"
           }
          ],
          "choropleth": [
           {
            "colorbar": {
             "outlinewidth": 0,
             "ticks": ""
            },
            "type": "choropleth"
           }
          ],
          "contour": [
           {
            "colorbar": {
             "outlinewidth": 0,
             "ticks": ""
            },
            "colorscale": [
             [
              0,
              "#0d0887"
             ],
             [
              0.1111111111111111,
              "#46039f"
             ],
             [
              0.2222222222222222,
              "#7201a8"
             ],
             [
              0.3333333333333333,
              "#9c179e"
             ],
             [
              0.4444444444444444,
              "#bd3786"
             ],
             [
              0.5555555555555556,
              "#d8576b"
             ],
             [
              0.6666666666666666,
              "#ed7953"
             ],
             [
              0.7777777777777778,
              "#fb9f3a"
             ],
             [
              0.8888888888888888,
              "#fdca26"
             ],
             [
              1,
              "#f0f921"
             ]
            ],
            "type": "contour"
           }
          ],
          "contourcarpet": [
           {
            "colorbar": {
             "outlinewidth": 0,
             "ticks": ""
            },
            "type": "contourcarpet"
           }
          ],
          "heatmap": [
           {
            "colorbar": {
             "outlinewidth": 0,
             "ticks": ""
            },
            "colorscale": [
             [
              0,
              "#0d0887"
             ],
             [
              0.1111111111111111,
              "#46039f"
             ],
             [
              0.2222222222222222,
              "#7201a8"
             ],
             [
              0.3333333333333333,
              "#9c179e"
             ],
             [
              0.4444444444444444,
              "#bd3786"
             ],
             [
              0.5555555555555556,
              "#d8576b"
             ],
             [
              0.6666666666666666,
              "#ed7953"
             ],
             [
              0.7777777777777778,
              "#fb9f3a"
             ],
             [
              0.8888888888888888,
              "#fdca26"
             ],
             [
              1,
              "#f0f921"
             ]
            ],
            "type": "heatmap"
           }
          ],
          "histogram": [
           {
            "marker": {
             "pattern": {
              "fillmode": "overlay",
              "size": 10,
              "solidity": 0.2
             }
            },
            "type": "histogram"
           }
          ],
          "histogram2d": [
           {
            "colorbar": {
             "outlinewidth": 0,
             "ticks": ""
            },
            "colorscale": [
             [
              0,
              "#0d0887"
             ],
             [
              0.1111111111111111,
              "#46039f"
             ],
             [
              0.2222222222222222,
              "#7201a8"
             ],
             [
              0.3333333333333333,
              "#9c179e"
             ],
             [
              0.4444444444444444,
              "#bd3786"
             ],
             [
              0.5555555555555556,
              "#d8576b"
             ],
             [
              0.6666666666666666,
              "#ed7953"
             ],
             [
              0.7777777777777778,
              "#fb9f3a"
             ],
             [
              0.8888888888888888,
              "#fdca26"
             ],
             [
              1,
              "#f0f921"
             ]
            ],
            "type": "histogram2d"
           }
          ],
          "histogram2dcontour": [
           {
            "colorbar": {
             "outlinewidth": 0,
             "ticks": ""
            },
            "colorscale": [
             [
              0,
              "#0d0887"
             ],
             [
              0.1111111111111111,
              "#46039f"
             ],
             [
              0.2222222222222222,
              "#7201a8"
             ],
             [
              0.3333333333333333,
              "#9c179e"
             ],
             [
              0.4444444444444444,
              "#bd3786"
             ],
             [
              0.5555555555555556,
              "#d8576b"
             ],
             [
              0.6666666666666666,
              "#ed7953"
             ],
             [
              0.7777777777777778,
              "#fb9f3a"
             ],
             [
              0.8888888888888888,
              "#fdca26"
             ],
             [
              1,
              "#f0f921"
             ]
            ],
            "type": "histogram2dcontour"
           }
          ],
          "mesh3d": [
           {
            "colorbar": {
             "outlinewidth": 0,
             "ticks": ""
            },
            "type": "mesh3d"
           }
          ],
          "parcoords": [
           {
            "line": {
             "colorbar": {
              "outlinewidth": 0,
              "ticks": ""
             }
            },
            "type": "parcoords"
           }
          ],
          "pie": [
           {
            "automargin": true,
            "type": "pie"
           }
          ],
          "scatter": [
           {
            "fillpattern": {
             "fillmode": "overlay",
             "size": 10,
             "solidity": 0.2
            },
            "type": "scatter"
           }
          ],
          "scatter3d": [
           {
            "line": {
             "colorbar": {
              "outlinewidth": 0,
              "ticks": ""
             }
            },
            "marker": {
             "colorbar": {
              "outlinewidth": 0,
              "ticks": ""
             }
            },
            "type": "scatter3d"
           }
          ],
          "scattercarpet": [
           {
            "marker": {
             "colorbar": {
              "outlinewidth": 0,
              "ticks": ""
             }
            },
            "type": "scattercarpet"
           }
          ],
          "scattergeo": [
           {
            "marker": {
             "colorbar": {
              "outlinewidth": 0,
              "ticks": ""
             }
            },
            "type": "scattergeo"
           }
          ],
          "scattergl": [
           {
            "marker": {
             "colorbar": {
              "outlinewidth": 0,
              "ticks": ""
             }
            },
            "type": "scattergl"
           }
          ],
          "scattermap": [
           {
            "marker": {
             "colorbar": {
              "outlinewidth": 0,
              "ticks": ""
             }
            },
            "type": "scattermap"
           }
          ],
          "scattermapbox": [
           {
            "marker": {
             "colorbar": {
              "outlinewidth": 0,
              "ticks": ""
             }
            },
            "type": "scattermapbox"
           }
          ],
          "scatterpolar": [
           {
            "marker": {
             "colorbar": {
              "outlinewidth": 0,
              "ticks": ""
             }
            },
            "type": "scatterpolar"
           }
          ],
          "scatterpolargl": [
           {
            "marker": {
             "colorbar": {
              "outlinewidth": 0,
              "ticks": ""
             }
            },
            "type": "scatterpolargl"
           }
          ],
          "scatterternary": [
           {
            "marker": {
             "colorbar": {
              "outlinewidth": 0,
              "ticks": ""
             }
            },
            "type": "scatterternary"
           }
          ],
          "surface": [
           {
            "colorbar": {
             "outlinewidth": 0,
             "ticks": ""
            },
            "colorscale": [
             [
              0,
              "#0d0887"
             ],
             [
              0.1111111111111111,
              "#46039f"
             ],
             [
              0.2222222222222222,
              "#7201a8"
             ],
             [
              0.3333333333333333,
              "#9c179e"
             ],
             [
              0.4444444444444444,
              "#bd3786"
             ],
             [
              0.5555555555555556,
              "#d8576b"
             ],
             [
              0.6666666666666666,
              "#ed7953"
             ],
             [
              0.7777777777777778,
              "#fb9f3a"
             ],
             [
              0.8888888888888888,
              "#fdca26"
             ],
             [
              1,
              "#f0f921"
             ]
            ],
            "type": "surface"
           }
          ],
          "table": [
           {
            "cells": {
             "fill": {
              "color": "#EBF0F8"
             },
             "line": {
              "color": "white"
             }
            },
            "header": {
             "fill": {
              "color": "#C8D4E3"
             },
             "line": {
              "color": "white"
             }
            },
            "type": "table"
           }
          ]
         },
         "layout": {
          "annotationdefaults": {
           "arrowcolor": "#2a3f5f",
           "arrowhead": 0,
           "arrowwidth": 1
          },
          "autotypenumbers": "strict",
          "coloraxis": {
           "colorbar": {
            "outlinewidth": 0,
            "ticks": ""
           }
          },
          "colorscale": {
           "diverging": [
            [
             0,
             "#8e0152"
            ],
            [
             0.1,
             "#c51b7d"
            ],
            [
             0.2,
             "#de77ae"
            ],
            [
             0.3,
             "#f1b6da"
            ],
            [
             0.4,
             "#fde0ef"
            ],
            [
             0.5,
             "#f7f7f7"
            ],
            [
             0.6,
             "#e6f5d0"
            ],
            [
             0.7,
             "#b8e186"
            ],
            [
             0.8,
             "#7fbc41"
            ],
            [
             0.9,
             "#4d9221"
            ],
            [
             1,
             "#276419"
            ]
           ],
           "sequential": [
            [
             0,
             "#0d0887"
            ],
            [
             0.1111111111111111,
             "#46039f"
            ],
            [
             0.2222222222222222,
             "#7201a8"
            ],
            [
             0.3333333333333333,
             "#9c179e"
            ],
            [
             0.4444444444444444,
             "#bd3786"
            ],
            [
             0.5555555555555556,
             "#d8576b"
            ],
            [
             0.6666666666666666,
             "#ed7953"
            ],
            [
             0.7777777777777778,
             "#fb9f3a"
            ],
            [
             0.8888888888888888,
             "#fdca26"
            ],
            [
             1,
             "#f0f921"
            ]
           ],
           "sequentialminus": [
            [
             0,
             "#0d0887"
            ],
            [
             0.1111111111111111,
             "#46039f"
            ],
            [
             0.2222222222222222,
             "#7201a8"
            ],
            [
             0.3333333333333333,
             "#9c179e"
            ],
            [
             0.4444444444444444,
             "#bd3786"
            ],
            [
             0.5555555555555556,
             "#d8576b"
            ],
            [
             0.6666666666666666,
             "#ed7953"
            ],
            [
             0.7777777777777778,
             "#fb9f3a"
            ],
            [
             0.8888888888888888,
             "#fdca26"
            ],
            [
             1,
             "#f0f921"
            ]
           ]
          },
          "colorway": [
           "#636efa",
           "#EF553B",
           "#00cc96",
           "#ab63fa",
           "#FFA15A",
           "#19d3f3",
           "#FF6692",
           "#B6E880",
           "#FF97FF",
           "#FECB52"
          ],
          "font": {
           "color": "#2a3f5f"
          },
          "geo": {
           "bgcolor": "white",
           "lakecolor": "white",
           "landcolor": "#E5ECF6",
           "showlakes": true,
           "showland": true,
           "subunitcolor": "white"
          },
          "hoverlabel": {
           "align": "left"
          },
          "hovermode": "closest",
          "mapbox": {
           "style": "light"
          },
          "paper_bgcolor": "white",
          "plot_bgcolor": "#E5ECF6",
          "polar": {
           "angularaxis": {
            "gridcolor": "white",
            "linecolor": "white",
            "ticks": ""
           },
           "bgcolor": "#E5ECF6",
           "radialaxis": {
            "gridcolor": "white",
            "linecolor": "white",
            "ticks": ""
           }
          },
          "scene": {
           "xaxis": {
            "backgroundcolor": "#E5ECF6",
            "gridcolor": "white",
            "gridwidth": 2,
            "linecolor": "white",
            "showbackground": true,
            "ticks": "",
            "zerolinecolor": "white"
           },
           "yaxis": {
            "backgroundcolor": "#E5ECF6",
            "gridcolor": "white",
            "gridwidth": 2,
            "linecolor": "white",
            "showbackground": true,
            "ticks": "",
            "zerolinecolor": "white"
           },
           "zaxis": {
            "backgroundcolor": "#E5ECF6",
            "gridcolor": "white",
            "gridwidth": 2,
            "linecolor": "white",
            "showbackground": true,
            "ticks": "",
            "zerolinecolor": "white"
           }
          },
          "shapedefaults": {
           "line": {
            "color": "#2a3f5f"
           }
          },
          "ternary": {
           "aaxis": {
            "gridcolor": "white",
            "linecolor": "white",
            "ticks": ""
           },
           "baxis": {
            "gridcolor": "white",
            "linecolor": "white",
            "ticks": ""
           },
           "bgcolor": "#E5ECF6",
           "caxis": {
            "gridcolor": "white",
            "linecolor": "white",
            "ticks": ""
           }
          },
          "title": {
           "x": 0.05
          },
          "xaxis": {
           "automargin": true,
           "gridcolor": "white",
           "linecolor": "white",
           "ticks": "",
           "title": {
            "standoff": 15
           },
           "zerolinecolor": "white",
           "zerolinewidth": 2
          },
          "yaxis": {
           "automargin": true,
           "gridcolor": "white",
           "linecolor": "white",
           "ticks": "",
           "title": {
            "standoff": 15
           },
           "zerolinecolor": "white",
           "zerolinewidth": 2
          }
         }
        },
        "title": {
         "text": "train/memory Over train/epoch"
        },
        "xaxis": {
         "anchor": "y",
         "domain": [
          0,
          1
         ],
         "title": {
          "text": "train/epoch"
         }
        },
        "yaxis": {
         "anchor": "x",
         "domain": [
          0,
          1
         ],
         "title": {
          "text": "train/memory"
         }
        }
       }
      }
     },
     "metadata": {},
     "output_type": "display_data"
    }
   ],
   "source": [
    "fetch_and_plot_wandb_runs(\n",
    "    entity=\"mallahova\",\n",
    "    project=\"adalora_rank_start_40_rank_20_quadratic\",\n",
    "    metric=\"train/memory\",\n",
    "    x_axis=\"train/epoch\",\n",
    "    interactive=True,\n",
    "    num_runs=1\n",
    ")"
   ]
  },
  {
   "cell_type": "code",
   "execution_count": 13,
   "metadata": {},
   "outputs": [
    {
     "data": {
      "text/markdown": [
       "| Task   |   Rank Min |   Rank Max |   Alpha Min |   Alpha Max |    LR |   Rank Avg | Median ± Std   |\n",
       "|:-------|-----------:|-----------:|------------:|------------:|------:|-----------:|:---------------|\n",
       "| cola   |          5 |         50 |         0.5 |           3 | 0.02  |         20 | 60.70 ± 1.81   |\n",
       "| cola   |          5 |         50 |         0.5 |           3 | 0.002 |         20 | 59.60 ± 0.73   |\n",
       "| cola   |          5 |         50 |         0.5 |           3 | 0.01  |         20 | 59.50 ± 1.19   |"
      ],
      "text/plain": [
       "<IPython.core.display.Markdown object>"
      ]
     },
     "metadata": {},
     "output_type": "display_data"
    },
    {
     "name": "stdout",
     "output_type": "stream",
     "text": [
      "\n"
     ]
    },
    {
     "data": {
      "image/png": "[encoded data removed]",
      "text/plain": [
       "<Figure size 2000x600 with 1 Axes>"
      ]
     },
     "metadata": {},
     "output_type": "display_data"
    }
   ],
   "source": [
    "project = \"adalora_rank_start_40_rank_20_quadratic\"\n",
    "entity = \"mallahova\"\n",
    "display_project_stats(project=project, entity=entity, starts_with=\"results_cola_5_50\", epoch_start=40)"
   ]
  },
  {
   "cell_type": "markdown",
   "metadata": {},
   "source": [
    "### Learning rate for all of the experiments"
   ]
  },
  {
   "cell_type": "code",
   "execution_count": 16,
   "metadata": {
    "jupyter": {
     "source_hidden": true
    }
   },
   "outputs": [
    {
     "data": {
      "application/vnd.plotly.v1+json": {
       "config": {
        "plotlyServerURL": "https://plot.ly"
       },
       "data": [
        {
         "hovertemplate": "name=results_cola_5_50_0.5_3_4_0.02_20<br>train/epoch=%{x}<br>train/learning_rate=%{y}<extra></extra>",
         "legendgroup": "results_cola_5_50_0.5_3_4_0.02_20",
         "line": {
          "color": "#636efa",
          "dash": "solid"
         },
         "marker": {
          "symbol": "circle"
         },
         "mode": "lines",
         "name": "results_cola_5_50_0.5_3_4_0.02_20",
         "orientation": "v",
         "showlegend": true,
         "type": "scatter",
         "x": {
          "bdata": "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",
          "dtype": "f8"
         },
         "xaxis": "x",
         "y": {
          "bdata": "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",
          "dtype": "f8"
         },
         "yaxis": "y"
        }
       ],
       "layout": {
        "legend": {
         "title": {
          "text": "name"
         },
         "tracegroupgap": 0
        },
        "template": {
         "data": {
          "bar": [
           {
            "error_x": {
             "color": "#2a3f5f"
            },
            "error_y": {
             "color": "#2a3f5f"
            },
            "marker": {
             "line": {
              "color": "#E5ECF6",
              "width": 0.5
             },
             "pattern": {
              "fillmode": "overlay",
              "size": 10,
              "solidity": 0.2
             }
            },
            "type": "bar"
           }
          ],
          "barpolar": [
           {
            "marker": {
             "line": {
              "color": "#E5ECF6",
              "width": 0.5
             },
             "pattern": {
              "fillmode": "overlay",
              "size": 10,
              "solidity": 0.2
             }
            },
            "type": "barpolar"
           }
          ],
          "carpet": [
           {
            "aaxis": {
             "endlinecolor": "#2a3f5f",
             "gridcolor": "white",
             "linecolor": "white",
             "minorgridcolor": "white",
             "startlinecolor": "#2a3f5f"
            },
            "baxis": {
             "endlinecolor": "#2a3f5f",
             "gridcolor": "white",
             "linecolor": "white",
             "minorgridcolor": "white",
             "startlinecolor": "#2a3f5f"
            },
            "type": "carpet"
           }
          ],
          "choropleth": [
           {
            "colorbar": {
             "outlinewidth": 0,
             "ticks": ""
            },
            "type": "choropleth"
           }
          ],
          "contour": [
           {
            "colorbar": {
             "outlinewidth": 0,
             "ticks": ""
            },
            "colorscale": [
             [
              0,
              "#0d0887"
             ],
             [
              0.1111111111111111,
              "#46039f"
             ],
             [
              0.2222222222222222,
              "#7201a8"
             ],
             [
              0.3333333333333333,
              "#9c179e"
             ],
             [
              0.4444444444444444,
              "#bd3786"
             ],
             [
              0.5555555555555556,
              "#d8576b"
             ],
             [
              0.6666666666666666,
              "#ed7953"
             ],
             [
              0.7777777777777778,
              "#fb9f3a"
             ],
             [
              0.8888888888888888,
              "#fdca26"
             ],
             [
              1,
              "#f0f921"
             ]
            ],
            "type": "contour"
           }
          ],
          "contourcarpet": [
           {
            "colorbar": {
             "outlinewidth": 0,
             "ticks": ""
            },
            "type": "contourcarpet"
           }
          ],
          "heatmap": [
           {
            "colorbar": {
             "outlinewidth": 0,
             "ticks": ""
            },
            "colorscale": [
             [
              0,
              "#0d0887"
             ],
             [
              0.1111111111111111,
              "#46039f"
             ],
             [
              0.2222222222222222,
              "#7201a8"
             ],
             [
              0.3333333333333333,
              "#9c179e"
             ],
             [
              0.4444444444444444,
              "#bd3786"
             ],
             [
              0.5555555555555556,
              "#d8576b"
             ],
             [
              0.6666666666666666,
              "#ed7953"
             ],
             [
              0.7777777777777778,
              "#fb9f3a"
             ],
             [
              0.8888888888888888,
              "#fdca26"
             ],
             [
              1,
              "#f0f921"
             ]
            ],
            "type": "heatmap"
           }
          ],
          "histogram": [
           {
            "marker": {
             "pattern": {
              "fillmode": "overlay",
              "size": 10,
              "solidity": 0.2
             }
            },
            "type": "histogram"
           }
          ],
          "histogram2d": [
           {
            "colorbar": {
             "outlinewidth": 0,
             "ticks": ""
            },
            "colorscale": [
             [
              0,
              "#0d0887"
             ],
             [
              0.1111111111111111,
              "#46039f"
             ],
             [
              0.2222222222222222,
              "#7201a8"
             ],
             [
              0.3333333333333333,
              "#9c179e"
             ],
             [
              0.4444444444444444,
              "#bd3786"
             ],
             [
              0.5555555555555556,
              "#d8576b"
             ],
             [
              0.6666666666666666,
              "#ed7953"
             ],
             [
              0.7777777777777778,
              "#fb9f3a"
             ],
             [
              0.8888888888888888,
              "#fdca26"
             ],
             [
              1,
              "#f0f921"
             ]
            ],
            "type": "histogram2d"
           }
          ],
          "histogram2dcontour": [
           {
            "colorbar": {
             "outlinewidth": 0,
             "ticks": ""
            },
            "colorscale": [
             [
              0,
              "#0d0887"
             ],
             [
              0.1111111111111111,
              "#46039f"
             ],
             [
              0.2222222222222222,
              "#7201a8"
             ],
             [
              0.3333333333333333,
              "#9c179e"
             ],
             [
              0.4444444444444444,
              "#bd3786"
             ],
             [
              0.5555555555555556,
              "#d8576b"
             ],
             [
              0.6666666666666666,
              "#ed7953"
             ],
             [
              0.7777777777777778,
              "#fb9f3a"
             ],
             [
              0.8888888888888888,
              "#fdca26"
             ],
             [
              1,
              "#f0f921"
             ]
            ],
            "type": "histogram2dcontour"
           }
          ],
          "mesh3d": [
           {
            "colorbar": {
             "outlinewidth": 0,
             "ticks": ""
            },
            "type": "mesh3d"
           }
          ],
          "parcoords": [
           {
            "line": {
             "colorbar": {
              "outlinewidth": 0,
              "ticks": ""
             }
            },
            "type": "parcoords"
           }
          ],
          "pie": [
           {
            "automargin": true,
            "type": "pie"
           }
          ],
          "scatter": [
           {
            "fillpattern": {
             "fillmode": "overlay",
             "size": 10,
             "solidity": 0.2
            },
            "type": "scatter"
           }
          ],
          "scatter3d": [
           {
            "line": {
             "colorbar": {
              "outlinewidth": 0,
              "ticks": ""
             }
            },
            "marker": {
             "colorbar": {
              "outlinewidth": 0,
              "ticks": ""
             }
            },
            "type": "scatter3d"
           }
          ],
          "scattercarpet": [
           {
            "marker": {
             "colorbar": {
              "outlinewidth": 0,
              "ticks": ""
             }
            },
            "type": "scattercarpet"
           }
          ],
          "scattergeo": [
           {
            "marker": {
             "colorbar": {
              "outlinewidth": 0,
              "ticks": ""
             }
            },
            "type": "scattergeo"
           }
          ],
          "scattergl": [
           {
            "marker": {
             "colorbar": {
              "outlinewidth": 0,
              "ticks": ""
             }
            },
            "type": "scattergl"
           }
          ],
          "scattermap": [
           {
            "marker": {
             "colorbar": {
              "outlinewidth": 0,
              "ticks": ""
             }
            },
            "type": "scattermap"
           }
          ],
          "scattermapbox": [
           {
            "marker": {
             "colorbar": {
              "outlinewidth": 0,
              "ticks": ""
             }
            },
            "type": "scattermapbox"
           }
          ],
          "scatterpolar": [
           {
            "marker": {
             "colorbar": {
              "outlinewidth": 0,
              "ticks": ""
             }
            },
            "type": "scatterpolar"
           }
          ],
          "scatterpolargl": [
           {
            "marker": {
             "colorbar": {
              "outlinewidth": 0,
              "ticks": ""
             }
            },
            "type": "scatterpolargl"
           }
          ],
          "scatterternary": [
           {
            "marker": {
             "colorbar": {
              "outlinewidth": 0,
              "ticks": ""
             }
            },
            "type": "scatterternary"
           }
          ],
          "surface": [
           {
            "colorbar": {
             "outlinewidth": 0,
             "ticks": ""
            },
            "colorscale": [
             [
              0,
              "#0d0887"
             ],
             [
              0.1111111111111111,
              "#46039f"
             ],
             [
              0.2222222222222222,
              "#7201a8"
             ],
             [
              0.3333333333333333,
              "#9c179e"
             ],
             [
              0.4444444444444444,
              "#bd3786"
             ],
             [
              0.5555555555555556,
              "#d8576b"
             ],
             [
              0.6666666666666666,
              "#ed7953"
             ],
             [
              0.7777777777777778,
              "#fb9f3a"
             ],
             [
              0.8888888888888888,
              "#fdca26"
             ],
             [
              1,
              "#f0f921"
             ]
            ],
            "type": "surface"
           }
          ],
          "table": [
           {
            "cells": {
             "fill": {
              "color": "#EBF0F8"
             },
             "line": {
              "color": "white"
             }
            },
            "header": {
             "fill": {
              "color": "#C8D4E3"
             },
             "line": {
              "color": "white"
             }
            },
            "type": "table"
           }
          ]
         },
         "layout": {
          "annotationdefaults": {
           "arrowcolor": "#2a3f5f",
           "arrowhead": 0,
           "arrowwidth": 1
          },
          "autotypenumbers": "strict",
          "coloraxis": {
           "colorbar": {
            "outlinewidth": 0,
            "ticks": ""
           }
          },
          "colorscale": {
           "diverging": [
            [
             0,
             "#8e0152"
            ],
            [
             0.1,
             "#c51b7d"
            ],
            [
             0.2,
             "#de77ae"
            ],
            [
             0.3,
             "#f1b6da"
            ],
            [
             0.4,
             "#fde0ef"
            ],
            [
             0.5,
             "#f7f7f7"
            ],
            [
             0.6,
             "#e6f5d0"
            ],
            [
             0.7,
             "#b8e186"
            ],
            [
             0.8,
             "#7fbc41"
            ],
            [
             0.9,
             "#4d9221"
            ],
            [
             1,
             "#276419"
            ]
           ],
           "sequential": [
            [
             0,
             "#0d0887"
            ],
            [
             0.1111111111111111,
             "#46039f"
            ],
            [
             0.2222222222222222,
             "#7201a8"
            ],
            [
             0.3333333333333333,
             "#9c179e"
            ],
            [
             0.4444444444444444,
             "#bd3786"
            ],
            [
             0.5555555555555556,
             "#d8576b"
            ],
            [
             0.6666666666666666,
             "#ed7953"
            ],
            [
             0.7777777777777778,
             "#fb9f3a"
            ],
            [
             0.8888888888888888,
             "#fdca26"
            ],
            [
             1,
             "#f0f921"
            ]
           ],
           "sequentialminus": [
            [
             0,
             "#0d0887"
            ],
            [
             0.1111111111111111,
             "#46039f"
            ],
            [
             0.2222222222222222,
             "#7201a8"
            ],
            [
             0.3333333333333333,
             "#9c179e"
            ],
            [
             0.4444444444444444,
             "#bd3786"
            ],
            [
             0.5555555555555556,
             "#d8576b"
            ],
            [
             0.6666666666666666,
             "#ed7953"
            ],
            [
             0.7777777777777778,
             "#fb9f3a"
            ],
            [
             0.8888888888888888,
             "#fdca26"
            ],
            [
             1,
             "#f0f921"
            ]
           ]
          },
          "colorway": [
           "#636efa",
           "#EF553B",
           "#00cc96",
           "#ab63fa",
           "#FFA15A",
           "#19d3f3",
           "#FF6692",
           "#B6E880",
           "#FF97FF",
           "#FECB52"
          ],
          "font": {
           "color": "#2a3f5f"
          },
          "geo": {
           "bgcolor": "white",
           "lakecolor": "white",
           "landcolor": "#E5ECF6",
           "showlakes": true,
           "showland": true,
           "subunitcolor": "white"
          },
          "hoverlabel": {
           "align": "left"
          },
          "hovermode": "closest",
          "mapbox": {
           "style": "light"
          },
          "paper_bgcolor": "white",
          "plot_bgcolor": "#E5ECF6",
          "polar": {
           "angularaxis": {
            "gridcolor": "white",
            "linecolor": "white",
            "ticks": ""
           },
           "bgcolor": "#E5ECF6",
           "radialaxis": {
            "gridcolor": "white",
            "linecolor": "white",
            "ticks": ""
           }
          },
          "scene": {
           "xaxis": {
            "backgroundcolor": "#E5ECF6",
            "gridcolor": "white",
            "gridwidth": 2,
            "linecolor": "white",
            "showbackground": true,
            "ticks": "",
            "zerolinecolor": "white"
           },
           "yaxis": {
            "backgroundcolor": "#E5ECF6",
            "gridcolor": "white",
            "gridwidth": 2,
            "linecolor": "white",
            "showbackground": true,
            "ticks": "",
            "zerolinecolor": "white"
           },
           "zaxis": {
            "backgroundcolor": "#E5ECF6",
            "gridcolor": "white",
            "gridwidth": 2,
            "linecolor": "white",
            "showbackground": true,
            "ticks": "",
            "zerolinecolor": "white"
           }
          },
          "shapedefaults": {
           "line": {
            "color": "#2a3f5f"
           }
          },
          "ternary": {
           "aaxis": {
            "gridcolor": "white",
            "linecolor": "white",
            "ticks": ""
           },
           "baxis": {
            "gridcolor": "white",
            "linecolor": "white",
            "ticks": ""
           },
           "bgcolor": "#E5ECF6",
           "caxis": {
            "gridcolor": "white",
            "linecolor": "white",
            "ticks": ""
           }
          },
          "title": {
           "x": 0.05
          },
          "xaxis": {
           "automargin": true,
           "gridcolor": "white",
           "linecolor": "white",
           "ticks": "",
           "title": {
            "standoff": 15
           },
           "zerolinecolor": "white",
           "zerolinewidth": 2
          },
          "yaxis": {
           "automargin": true,
           "gridcolor": "white",
           "linecolor": "white",
           "ticks": "",
           "title": {
            "standoff": 15
           },
           "zerolinecolor": "white",
           "zerolinewidth": 2
          }
         }
        },
        "title": {
         "text": "train/learning_rate Over train/epoch"
        },
        "xaxis": {
         "anchor": "y",
         "domain": [
          0,
          1
         ],
         "title": {
          "text": "train/epoch"
         }
        },
        "yaxis": {
         "anchor": "x",
         "domain": [
          0,
          1
         ],
         "title": {
          "text": "train/learning_rate"
         }
        }
       }
      }
     },
     "metadata": {},
     "output_type": "display_data"
    }
   ],
   "source": [
    "fetch_and_plot_wandb_runs(\n",
    "    entity=\"mallahova\",\n",
    "    project=\"adalora_rank_start_40_rank_20_quadratic\",\n",
    "    metric=\"train/learning_rate\",\n",
    "    x_axis=\"train/epoch\",\n",
    "    interactive=True,\n",
    "    num_runs=1\n",
    ")"
   ]
  }
 ],
 "metadata": {
  "kernelspec": {
   "display_name": "loraxs",
   "language": "python",
   "name": "python3"
  },
  "language_info": {
   "codemirror_mode": {
    "name": "ipython",
    "version": 3
   },
   "file_extension": ".py",
   "mimetype": "text/x-python",
   "name": "python",
   "nbconvert_exporter": "python",
   "pygments_lexer": "ipython3",
   "version": "3.8.13"
  }
 },
 "nbformat": 4,
 "nbformat_minor": 4
}
