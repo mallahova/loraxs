{
 "cells": [
  {
   "cell_type": "code",
   "execution_count": 2,
   "metadata": {
    "jupyter": {
     "source_hidden": true
    }
   },
   "outputs": [],
   "source": [
    "import wandb\n",
    "import re\n",
    "import matplotlib.pyplot as plt\n",
    "import numpy as np\n",
    "import pandas as pd\n",
    "import matplotlib.patches as mpatches\n",
    "from tabulate import tabulate\n",
    "from collections import defaultdict\n",
    "from IPython.display import Markdown, display\n",
    "import csv\n",
    "import os\n",
    "import plotly.express as px\n"
   ]
  },
  {
   "cell_type": "code",
   "execution_count": 1,
   "metadata": {},
   "outputs": [],
   "source": [
    "INTERACTIVE_CHARTS=True"
   ]
  },
  {
   "cell_type": "code",
   "execution_count": 16,
   "metadata": {
    "jupyter": {
     "source_hidden": true
    }
   },
   "outputs": [],
   "source": [
    "def get_results(project:str, entity:str, starts_with=\"\", epoch_start=0):\n",
    "    api = wandb.Api()\n",
    "    runs = api.runs(f\"{entity}/{project}\")\n",
    "    run_max_metrics = []\n",
    "    for run in runs:\n",
    "        if run.name.startswith(starts_with):\n",
    "            # Extract seed and history\n",
    "            seed = run.config.get(\"seed\", \"N/A\")\n",
    "            run_history = run.history()\n",
    "            rank_metrics = \"eval/matthews_correlation\"\n",
    "\n",
    "            # Regex pattern to parse run name\n",
    "            pattern = r\"results_(?P<task>[a-zA-Z0-9]+)_(?P<rank_min>[\\d.]+)_(?P<rank_max>[\\d.]+)_(?P<alpha_min>[\\d.]+)_(?P<alpha_max>[\\d.]+)_(?P<seed>\\d+)_(?P<lr>[\\d.eE+-]+)_(?P<rank_avg>[\\d.]+)\"\n",
    "            match = re.match(pattern, run.name)\n",
    "\n",
    "            if match and rank_metrics:\n",
    "                # Extract components from the run name\n",
    "                task = match.group(\"task\")\n",
    "                rank_min = float(match.group(\"rank_min\"))\n",
    "                rank_max = float(match.group(\"rank_max\"))\n",
    "                alpha_min = float(match.group(\"alpha_min\"))\n",
    "                alpha_max = float(match.group(\"alpha_max\"))\n",
    "                seed = int(match.group(\"seed\"))\n",
    "                rank_allocation_learning_rate = float(match.group(\"lr\"))\n",
    "                rank_average = float(match.group(\"rank_avg\"))\n",
    "\n",
    "                # Get the overall max of the rank metrics\n",
    "                overall_max = run.history(keys=[rank_metrics])[rank_metrics][epoch_start:].max() * 100\n",
    "\n",
    "                # Append parsed data to run_max_metrics\n",
    "                run_max_metrics.append({\n",
    "                    \"run_name\": run.name,\n",
    "                    \"task\": task,\n",
    "                    \"rank_min\": rank_min,\n",
    "                    \"rank_max\": rank_max,\n",
    "                    \"alpha_min\": alpha_min,\n",
    "                    \"alpha_max\": alpha_max,\n",
    "                    \"rank_allocation_learning_rate\": rank_allocation_learning_rate,\n",
    "                    \"rank_average\": rank_average,\n",
    "                    \"seed\": seed,\n",
    "                    \"overall_max\": overall_max\n",
    "                })\n",
    "    return sorted(run_max_metrics, key=lambda x: x[\"overall_max\"], reverse=True)"
   ]
  },
  {
   "cell_type": "code",
   "execution_count": 17,
   "metadata": {
    "jupyter": {
     "source_hidden": true
    }
   },
   "outputs": [],
   "source": [
    "def print_results(run_max_metrics):\n",
    "    # Create the table header\n",
    "    table = \"| Run Name | Task | Rank Min | Rank Max | Rank Allocation Learning Rate | Rank Average | Alpha Min | Alpha Max | Seed | Overall Max |\\n\"\n",
    "    table += \"|----------|------|----------|----------|--------------------------------|--------------|-----------|-----------|------|-------------|\\n\"\n",
    "    \n",
    "    # Add rows\n",
    "    for result in run_max_metrics:\n",
    "        row = (\n",
    "            f\"| {result['run_name']} \"\n",
    "            f\"| {result['task']} \"\n",
    "            f\"| {result['rank_min']} \"\n",
    "            f\"| {result['rank_max']} \"\n",
    "            f\"| {result['rank_allocation_learning_rate']} \"\n",
    "            f\"| {result['rank_average']} \"\n",
    "            f\"| {result['alpha_min']} \"\n",
    "            f\"| {result['alpha_max']} \"\n",
    "            f\"| {result['seed']} \"\n",
    "            f\"| {result['overall_max']:.2f} |\"\n",
    "        )\n",
    "        table += row + \"\\n\"\n",
    "    \n",
    "    # Render as Markdown\n",
    "    display(Markdown(table))"
   ]
  },
  {
   "cell_type": "code",
   "execution_count": 18,
   "metadata": {
    "jupyter": {
     "source_hidden": true
    }
   },
   "outputs": [],
   "source": [
    "def print_stats(run_max_metrics, project):\n",
    "\n",
    "    # Group runs by parameters excluding seed\n",
    "    groups = defaultdict(list)\n",
    "    for run in run_max_metrics:\n",
    "        key = (\n",
    "            run['task'],\n",
    "            run['rank_min'],\n",
    "            run['rank_max'],\n",
    "            run['alpha_min'],\n",
    "            run['alpha_max'],\n",
    "            run['rank_allocation_learning_rate'],\n",
    "            run['rank_average']\n",
    "        )\n",
    "        groups[key].append(run['overall_max'])\n",
    "\n",
    "    # Calculate median and std for each group\n",
    "    group_stats = []\n",
    "    for key, values in groups.items():\n",
    "        med = np.median(values)\n",
    "        std = np.std(values, ddof=1) if len(values) > 1 else 0.0\n",
    "        group_stats.append({\n",
    "            'task': key[0],\n",
    "            'rank_min': key[1],\n",
    "            'rank_max': key[2],\n",
    "            'alpha_min': key[3],\n",
    "            'alpha_max': key[4],\n",
    "            'lr': key[5],\n",
    "            'rank_avg': key[6],\n",
    "            'median': med,\n",
    "            'std': std\n",
    "        })\n",
    "\n",
    "    # Sort by median in descending order\n",
    "    sorted_group_stats = sorted(group_stats, key=lambda x: x['median'], reverse=True)\n",
    "\n",
    "    # Prepare table headers and rows\n",
    "    headers = [\"Task\", \"Rank Min\", \"Rank Max\", \"Alpha Min\", \"Alpha Max\", \"LR\", \"Rank Avg\", \"Median ± Std\"]\n",
    "    rows = []\n",
    "    for stats in sorted_group_stats:\n",
    "        med_std_str = f\"{stats['median']:.2f} ± {stats['std']:.2f}\"\n",
    "        rows.append([\n",
    "            stats['task'],\n",
    "            stats['rank_min'],\n",
    "            stats['rank_max'],\n",
    "            stats['alpha_min'],\n",
    "            stats['alpha_max'],\n",
    "            stats['lr'],\n",
    "            stats['rank_avg'],\n",
    "            med_std_str\n",
    "        ])\n",
    "\n",
    "    # Print the table\n",
    "    markdown_table = tabulate(rows, headers=headers, tablefmt=\"pipe\")\n",
    "    display(Markdown(markdown_table))\n",
    "    print()\n",
    "    csv_filename = \"initializations_l_r_results.csv\"\n",
    "\n",
    "    file_exists = os.path.exists(csv_filename)\n",
    "    if project=='adaptive_rank_allocation': return\n",
    "    with open(csv_filename, mode='a', newline='') as file:\n",
    "        writer = csv.writer(file)\n",
    "        \n",
    "        if not file_exists:\n",
    "            writer.writerow([\"Project\"] + headers)\n",
    "        \n",
    "        for row in rows:\n",
    "            writer.writerow([project] + row)"
   ]
  },
  {
   "cell_type": "code",
   "execution_count": 19,
   "metadata": {
    "jupyter": {
     "source_hidden": true
    }
   },
   "outputs": [],
   "source": [
    "def plot_results(run_max_metrics: str):\n",
    "    run_names = [result['run_name'] for result in run_max_metrics]\n",
    "    overall_max = [result['overall_max'] for result in run_max_metrics]\n",
    "    learning_rates = [result['rank_allocation_learning_rate'] for result in run_max_metrics]\n",
    "\n",
    "    # Define baseline and its error\n",
    "    baseline_median = 68.08\n",
    "    baseline_std = 1.21\n",
    "\n",
    "    # Assign colors based on unique learning rates\n",
    "    unique_lrs = sorted(set(learning_rates))\n",
    "    color_map = {lr: plt.cm.tab10(i % 10) for i, lr in enumerate(unique_lrs)}\n",
    "    colors = [color_map[lr] for lr in learning_rates]\n",
    "\n",
    "    # Plotting the bar plot\n",
    "    plt.figure(figsize=(20, 6))\n",
    "    bar_positions = np.arange(len(run_names))\n",
    "    plt.bar(bar_positions, overall_max, color=colors, edgecolor='black')\n",
    "\n",
    "    rank_25_median = 68.55\n",
    "    rank_25_std = 0.81\n",
    "\n",
    "    # Add baselines with shading for std\n",
    "    plt.axhline(baseline_median, color='red', linestyle='--', label='Baseline for r=20')\n",
    "    plt.axhline(rank_25_median, color='black', linestyle='--', label='Baseline for r=25')\n",
    "\n",
    "    plt.fill_between(bar_positions, baseline_median - baseline_std, baseline_median + baseline_std, color='red', alpha=0.2, label='Baseline (r=20) ± std')\n",
    "    plt.fill_between(bar_positions, rank_25_median - rank_25_std, rank_25_median + rank_25_std, color='black', alpha=0.1, label='Baseline (r=25) ± std')\n",
    "\n",
    "    # Adding labels and legend\n",
    "    plt.xticks(bar_positions, bar_positions, rotation=90)\n",
    "    plt.xlabel('Run Names')\n",
    "    plt.ylabel('Overall Max')\n",
    "    plt.title('Overall Max Metrics by Run')\n",
    "\n",
    "    # Create legend for learning rates\n",
    "    legend_elements = [plt.Line2D([0], [0], marker='o', color='w', label=f'LR: {lr}', markerfacecolor=color_map[lr], markersize=10) for lr in unique_lrs]\n",
    "    plt.legend(handles=legend_elements + [plt.Line2D([0], [0], color='red', linestyle='--', label='Baseline for r=20'),\n",
    "                                           plt.Line2D([0], [0], color='black', linestyle='--', label='Baseline for r=25')],\n",
    "               loc='upper left', bbox_to_anchor=(1, 1), title=\"Legend\")\n",
    "    plt.ylim(50, 70)  # Adjust the upper limit if needed\n",
    "\n",
    "    plt.tight_layout()\n",
    "    plt.show()\n",
    "\n"
   ]
  },
  {
   "cell_type": "code",
   "execution_count": 20,
   "metadata": {
    "jupyter": {
     "source_hidden": true
    }
   },
   "outputs": [],
   "source": [
    "def plot_rank_distribution(project: str, entity: str, run_name: str):\n",
    "    # Load layer names from CSV\n",
    "    layer_names_df = pd.read_csv('assets/layer_names.csv')\n",
    "    \n",
    "    # Parse component types and layer numbers from layer names\n",
    "    component_types = []\n",
    "    layer_nums = []\n",
    "    for name in layer_names_df['Layer Name']:\n",
    "        parts = name.split('encoder.layer.')\n",
    "        after_encoder = parts[1].split('.')\n",
    "        layer_num = int(after_encoder[0])\n",
    "        layer_nums.append(layer_num)\n",
    "        subparts = after_encoder[1:]\n",
    "        if subparts[0] == 'attention':\n",
    "            if subparts[1] == 'self':\n",
    "                component = subparts[2]  # 'query' or 'value'\n",
    "            elif subparts[1] == 'output':\n",
    "                component = 'attention_output'\n",
    "        elif subparts[0] == 'output':\n",
    "            component = 'output'\n",
    "        component_types.append(component)\n",
    "    \n",
    "    # Define colors for each component type\n",
    "    component_colors = {\n",
    "        'query': 'cornflowerblue',    # Muted blue\n",
    "        'value': 'salmon',            # Soft orange\n",
    "        'attention_output': 'mediumseagreen',  # Natural green\n",
    "        'output': 'mediumorchid'      # Muted purple\n",
    "    }\n",
    "    \n",
    "    # Fetch data from wandb\n",
    "    api = wandb.Api()\n",
    "    runs = api.runs(f\"{entity}/{project}\")\n",
    "    run = next(run for run in runs if run.name == run_name)\n",
    "    rank_metrics = \"eval/matthews_correlation\"\n",
    "    keys = [rank_metrics, '_step']\n",
    "    history = run.scan_history(keys=keys, page_size=1000)\n",
    "    history_df = pd.DataFrame(history)\n",
    "    \n",
    "    max_correlation = history_df[rank_metrics].max()\n",
    "    max_step = history_df.loc[history_df[rank_metrics].idxmax(), '_step']\n",
    "    \n",
    "    rank_allocation_keys = [f'train/rank_allocation_{i}' for i in range(0, 96)]\n",
    "    step_data = run.scan_history(keys=['_step'] + rank_allocation_keys, page_size=1000)\n",
    "    step_data_df = pd.DataFrame(step_data)\n",
    "    step_values = step_data_df[(step_data_df['_step'] >= max_step - 3)]\n",
    "    \n",
    "    # Prepare data for plotting\n",
    "    values = step_values[rank_allocation_keys].values[0]\n",
    "    colors = [component_colors[ct] for ct in component_types]\n",
    "    \n",
    "    # Create the plot\n",
    "    plt.figure(figsize=(20, 6))\n",
    "    plt.bar(range(96), values, color=colors)\n",
    "    \n",
    "    # Add vertical lines to separate layers\n",
    "    for i in range(24):\n",
    "        x_pos = (i + 1) * 4 - 0.5\n",
    "        plt.axvline(x=x_pos, color='gray', linestyle='--', linewidth=0.5)\n",
    "    \n",
    "    # Set x-ticks to layer numbers\n",
    "    plt.xticks([i * 4 + 1.5 for i in range(24)], [str(i) for i in range(24)])\n",
    "    plt.xlabel('Layer Number')\n",
    "    \n",
    "    # Create legend\n",
    "    patches = [mpatches.Patch(color=color, label=label) for label, color in component_colors.items()]\n",
    "    plt.legend(handles=patches, title='Component Type', bbox_to_anchor=(1.05, 1), loc='upper left')\n",
    "    \n",
    "    plt.title(f\"Max Matthews correlation: {max_correlation} at step: {max_step} for run: {run_name}\")\n",
    "    plt.tight_layout()\n",
    "    plt.show()\n",
    "    return values, component_types"
   ]
  },
  {
   "cell_type": "code",
   "execution_count": 21,
   "metadata": {
    "jupyter": {
     "source_hidden": true
    }
   },
   "outputs": [],
   "source": [
    "def plot_rank_allocation_by_component_type(values, component_types):\n",
    "    \"\"\"\n",
    "    Plot a separate line for each component type based on rank allocation values.\n",
    "    \n",
    "    Assumes that the input lists are ordered so that every 4 consecutive values correspond to one layer.\n",
    "    \n",
    "    Parameters:\n",
    "        values (list or np.array): Rank allocation values (e.g., length 96 for 24 layers).\n",
    "        component_types (list of str): Component type for each value (e.g., 'query', 'value', etc.).\n",
    "    \"\"\"\n",
    "\n",
    "    n = len(values)\n",
    "    # Compute layer numbers assuming each layer has 4 components\n",
    "    layers = np.array([i // 4 for i in range(n)])\n",
    "\n",
    "    # Group values by component type\n",
    "    data_by_type = {}\n",
    "    for i, comp in enumerate(component_types):\n",
    "        if comp not in data_by_type:\n",
    "            data_by_type[comp] = {'layers': [], 'values': []}\n",
    "        data_by_type[comp]['layers'].append(layers[i])\n",
    "        data_by_type[comp]['values'].append(values[i])\n",
    "\n",
    "    # Define colors for each component type (adjust if needed)\n",
    "    component_colors = {\n",
    "        'query': 'cornflowerblue',\n",
    "        'value': 'salmon',\n",
    "        'attention_output': 'mediumseagreen',\n",
    "        'output': 'mediumorchid'\n",
    "    }\n",
    "\n",
    "    plt.figure(figsize=(20, 6))\n",
    "    for comp, data in data_by_type.items():\n",
    "        # Convert lists to numpy arrays and sort by layer number\n",
    "        x = np.array(data['layers'])\n",
    "        y = np.array(data['values'])\n",
    "        sort_idx = np.argsort(x)\n",
    "        x, y = x[sort_idx], y[sort_idx]\n",
    "        plt.plot(x, y, marker='o', label=comp, color=component_colors.get(comp, 'black'))\n",
    "\n",
    "    plt.xlabel(\"Layer Number\")\n",
    "    plt.ylabel(\"Rank Allocation Value\")\n",
    "    plt.title(\"Rank Allocation by Component Type\")\n",
    "    plt.legend(title=\"Component Type\",loc='upper left')\n",
    "    plt.grid(True)\n",
    "    plt.tight_layout()\n",
    "    plt.show()\n"
   ]
  },
  {
   "cell_type": "code",
   "execution_count": 22,
   "metadata": {
    "jupyter": {
     "source_hidden": true
    }
   },
   "outputs": [],
   "source": [
    "def display_project_stats(project:str, entity:str, starts_with=\"\", epoch_start=0 ):\n",
    "   run_max_metrics=get_results(project=project, entity=entity, starts_with=starts_with, epoch_start=epoch_start)\n",
    "   print_stats(run_max_metrics, project)\n",
    "   plot_results(run_max_metrics)\n",
    "   best_run = max(run_max_metrics, key=lambda x: x[\"overall_max\"])\n",
    "   # values, component_types=plot_rank_distribution(project=project, entity=entity, run_name=best_run['run_name'])\n",
    "   # plot_rank_allocation_by_component_type(values, component_types)\n",
    "   # # print_results(run_max_metrics)\n",
    "\n"
   ]
  },
  {
   "cell_type": "markdown",
   "metadata": {},
   "source": [
    "<!-- ### Uniform initialization (r=20 for every parameter matrix), grid search over learning rates and rank ranges, only 1 run for each learning rate -->"
   ]
  },
  {
   "cell_type": "code",
   "execution_count": 3,
   "metadata": {
    "jupyter": {
     "source_hidden": true
    }
   },
   "outputs": [],
   "source": [
    "def fetch_and_plot_wandb_runs(entity, project, metric=\"loss\", x_axis=\"step\", interactive=False, num_runs=None):\n",
    "    \"\"\"\n",
    "    Fetches completed runs from a WandB project and plots the specified metric.\n",
    "    \n",
    "    :param entity: str, WandB entity (username or team name)\n",
    "    :param project: str, WandB project name\n",
    "    :param metric: str, the metric to plot (e.g., \"loss\", \"accuracy\")\n",
    "    :param x_axis: str, the x-axis parameter (default: \"step\")\n",
    "    :param interactive: bool, if True, uses Plotly for interactive plots; otherwise, uses Matplotlib.\n",
    "    :param num_runs: int, optional, number of runs to fetch (default: all runs)\n",
    "    \"\"\"\n",
    "    api = wandb.Api()\n",
    "    runs = api.runs(f\"{entity}/{project}\")\n",
    "    \n",
    "    # Limit the number of runs if specified\n",
    "    if num_runs:\n",
    "        runs = runs[:num_runs]\n",
    "    \n",
    "    # Collect run data\n",
    "    data = []\n",
    "    for run in runs:\n",
    "        history = run.history(keys=[x_axis, metric])  # Fetch only necessary metric\n",
    "        if not history.empty:\n",
    "            history[\"run_id\"] = run.id\n",
    "            history[\"name\"] = run.name  # Keep track of run names\n",
    "            data.append(history)\n",
    "    \n",
    "    if not data:\n",
    "        print(\"No data found for the specified project and metric.\")\n",
    "        return\n",
    "    \n",
    "    # Combine all runs into a single DataFrame\n",
    "    df = pd.concat(data)\n",
    "    \n",
    "    if interactive:\n",
    "        fig = px.line(df, x=x_axis, y=metric, color=\"name\", title=f\"{metric} Over {x_axis}\")\n",
    "        fig.show()\n",
    "    else:\n",
    "        plt.figure(figsize=(10, 5))\n",
    "        for run_id in df[\"run_id\"].unique():\n",
    "            run_data = df[df[\"run_id\"] == run_id]\n",
    "            plt.plot(run_data[x_axis], run_data[metric], label=f\"Run {run_data['name'].iloc[0]}\")\n",
    "        \n",
    "        plt.xlabel(x_axis.capitalize())\n",
    "        plt.ylabel(metric.capitalize())\n",
    "        plt.title(f\"{metric.capitalize()} over {x_axis.capitalize()} (Multiple Runs)\")\n",
    "        plt.legend()\n",
    "        plt.grid()\n",
    "        plt.show()\n"
   ]
  },
  {
   "cell_type": "markdown",
   "metadata": {},
   "source": [
    "# Smaller to bigger memory on CoLA Report"
   ]
  },
  {
   "cell_type": "markdown",
   "metadata": {},
   "source": [
    "Initial memory is two times smaller than memory for average rank of 25 for epochs 0-2, then it grows linearly on epochs 3-7 and stabilized at memory that is average for rank of 25 on epochs 8-49.  rank_allocation_weights initialized to random, same scheduling, discrete rank on the last epoch.\n",
    "\n",
    "\n",
    "Script:\n",
    "```bash\n",
    "python scripts/run_glue_adaptive.py --target_task cola --wandb_disabled False  --seed $SEED --rank_allocation_lr $rank_allocation_lr --epoch 50  --rank_min 5 --rank_max 30 --memory_start 30000 --memory_end 60000 --epochs_memory_start 3 --epochs_memory_start_to_end 5 --epochs_rank_discrete 1 \n",
    "```"
   ]
  },
  {
   "cell_type": "code",
   "execution_count": 24,
   "metadata": {
    "jupyter": {
     "source_hidden": true
    }
   },
   "outputs": [
    {
     "data": {
      "text/markdown": [
       "| Task   |   Rank Min |   Rank Max |   Alpha Min |   Alpha Max |    LR |   Rank Avg | Median ± Std   |\n",
       "|:-------|-----------:|-----------:|------------:|------------:|------:|-----------:|:---------------|\n",
       "| cola   |          5 |         30 |         0.5 |           3 | 0.002 |         17 | 53.65 ± 0.45   |\n",
       "| cola   |          5 |         30 |         0.5 |           3 | 0.02  |         17 | 53.23 ± 0.75   |\n",
       "| cola   |          5 |         30 |         0.5 |           3 | 0.01  |         17 | 53.12 ± 0.67   |"
      ],
      "text/plain": [
       "<IPython.core.display.Markdown object>"
      ]
     },
     "metadata": {},
     "output_type": "display_data"
    },
    {
     "name": "stdout",
     "output_type": "stream",
     "text": [
      "\n"
     ]
    },
    {
     "data": {
      "image/png": "[encoded data removed]",
      "text/plain": [
       "<Figure size 2000x600 with 1 Axes>"
      ]
     },
     "metadata": {},
     "output_type": "display_data"
    }
   ],
   "source": [
    "project = \"adalora_memory_to_double_memory_3_5\"\n",
    "entity = \"mallahova\"\n",
    "display_project_stats(project=project, entity=entity, starts_with=\"\")"
   ]
  },
  {
   "cell_type": "markdown",
   "metadata": {},
   "source": [
    "The problem might be that the model learns the most during the first epochs and it doesn't have the whole memory at the start. Other thing is that the learning rate scheduler is not alligned with memory scheduler - the lerning rate is decreasing when the model has just gotten enough memory to learn."
   ]
  },
  {
   "cell_type": "code",
   "execution_count": 4,
   "metadata": {
    "jupyter": {
     "source_hidden": true
    }
   },
   "outputs": [
    {
     "data": {
      "application/vnd.plotly.v1+json": {
       "config": {
        "plotlyServerURL": "https://plot.ly"
       },
       "data": [
        {
         "hovertemplate": "name=results_cola_5_30_0.5_3_4_0.002_17<br>train/epoch=%{x}<br>train/learning_rate=%{y}<extra></extra>",
         "legendgroup": "results_cola_5_30_0.5_3_4_0.002_17",
         "line": {
          "color": "#636efa",
          "dash": "solid"
         },
         "marker": {
          "symbol": "circle"
         },
         "mode": "lines",
         "name": "results_cola_5_30_0.5_3_4_0.002_17",
         "orientation": "v",
         "showlegend": true,
         "type": "scatter",
         "x": {
          "bdata": "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",
          "dtype": "f8"
         },
         "xaxis": "x",
         "y": {
          "bdata": "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",
          "dtype": "f8"
         },
         "yaxis": "y"
        }
       ],
       "layout": {
        "legend": {
         "title": {
          "text": "name"
         },
         "tracegroupgap": 0
        },
        "template": {
         "data": {
          "bar": [
           {
            "error_x": {
             "color": "#2a3f5f"
            },
            "error_y": {
             "color": "#2a3f5f"
            },
            "marker": {
             "line": {
              "color": "#E5ECF6",
              "width": 0.5
             },
             "pattern": {
              "fillmode": "overlay",
              "size": 10,
              "solidity": 0.2
             }
            },
            "type": "bar"
           }
          ],
          "barpolar": [
           {
            "marker": {
             "line": {
              "color": "#E5ECF6",
              "width": 0.5
             },
             "pattern": {
              "fillmode": "overlay",
              "size": 10,
              "solidity": 0.2
             }
            },
            "type": "barpolar"
           }
          ],
          "carpet": [
           {
            "aaxis": {
             "endlinecolor": "#2a3f5f",
             "gridcolor": "white",
             "linecolor": "white",
             "minorgridcolor": "white",
             "startlinecolor": "#2a3f5f"
            },
            "baxis": {
             "endlinecolor": "#2a3f5f",
             "gridcolor": "white",
             "linecolor": "white",
             "minorgridcolor": "white",
             "startlinecolor": "#2a3f5f"
            },
            "type": "carpet"
           }
          ],
          "choropleth": [
           {
            "colorbar": {
             "outlinewidth": 0,
             "ticks": ""
            },
            "type": "choropleth"
           }
          ],
          "contour": [
           {
            "colorbar": {
             "outlinewidth": 0,
             "ticks": ""
            },
            "colorscale": [
             [
              0,
              "#0d0887"
             ],
             [
              0.1111111111111111,
              "#46039f"
             ],
             [
              0.2222222222222222,
              "#7201a8"
             ],
             [
              0.3333333333333333,
              "#9c179e"
             ],
             [
              0.4444444444444444,
              "#bd3786"
             ],
             [
              0.5555555555555556,
              "#d8576b"
             ],
             [
              0.6666666666666666,
              "#ed7953"
             ],
             [
              0.7777777777777778,
              "#fb9f3a"
             ],
             [
              0.8888888888888888,
              "#fdca26"
             ],
             [
              1,
              "#f0f921"
             ]
            ],
            "type": "contour"
           }
          ],
          "contourcarpet": [
           {
            "colorbar": {
             "outlinewidth": 0,
             "ticks": ""
            },
            "type": "contourcarpet"
           }
          ],
          "heatmap": [
           {
            "colorbar": {
             "outlinewidth": 0,
             "ticks": ""
            },
            "colorscale": [
             [
              0,
              "#0d0887"
             ],
             [
              0.1111111111111111,
              "#46039f"
             ],
             [
              0.2222222222222222,
              "#7201a8"
             ],
             [
              0.3333333333333333,
              "#9c179e"
             ],
             [
              0.4444444444444444,
              "#bd3786"
             ],
             [
              0.5555555555555556,
              "#d8576b"
             ],
             [
              0.6666666666666666,
              "#ed7953"
             ],
             [
              0.7777777777777778,
              "#fb9f3a"
             ],
             [
              0.8888888888888888,
              "#fdca26"
             ],
             [
              1,
              "#f0f921"
             ]
            ],
            "type": "heatmap"
           }
          ],
          "histogram": [
           {
            "marker": {
             "pattern": {
              "fillmode": "overlay",
              "size": 10,
              "solidity": 0.2
             }
            },
            "type": "histogram"
           }
          ],
          "histogram2d": [
           {
            "colorbar": {
             "outlinewidth": 0,
             "ticks": ""
            },
            "colorscale": [
             [
              0,
              "#0d0887"
             ],
             [
              0.1111111111111111,
              "#46039f"
             ],
             [
              0.2222222222222222,
              "#7201a8"
             ],
             [
              0.3333333333333333,
              "#9c179e"
             ],
             [
              0.4444444444444444,
              "#bd3786"
             ],
             [
              0.5555555555555556,
              "#d8576b"
             ],
             [
              0.6666666666666666,
              "#ed7953"
             ],
             [
              0.7777777777777778,
              "#fb9f3a"
             ],
             [
              0.8888888888888888,
              "#fdca26"
             ],
             [
              1,
              "#f0f921"
             ]
            ],
            "type": "histogram2d"
           }
          ],
          "histogram2dcontour": [
           {
            "colorbar": {
             "outlinewidth": 0,
             "ticks": ""
            },
            "colorscale": [
             [
              0,
              "#0d0887"
             ],
             [
              0.1111111111111111,
              "#46039f"
             ],
             [
              0.2222222222222222,
              "#7201a8"
             ],
             [
              0.3333333333333333,
              "#9c179e"
             ],
             [
              0.4444444444444444,
              "#bd3786"
             ],
             [
              0.5555555555555556,
              "#d8576b"
             ],
             [
              0.6666666666666666,
              "#ed7953"
             ],
             [
              0.7777777777777778,
              "#fb9f3a"
             ],
             [
              0.8888888888888888,
              "#fdca26"
             ],
             [
              1,
              "#f0f921"
             ]
            ],
            "type": "histogram2dcontour"
           }
          ],
          "mesh3d": [
           {
            "colorbar": {
             "outlinewidth": 0,
             "ticks": ""
            },
            "type": "mesh3d"
           }
          ],
          "parcoords": [
           {
            "line": {
             "colorbar": {
              "outlinewidth": 0,
              "ticks": ""
             }
            },
            "type": "parcoords"
           }
          ],
          "pie": [
           {
            "automargin": true,
            "type": "pie"
           }
          ],
          "scatter": [
           {
            "fillpattern": {
             "fillmode": "overlay",
             "size": 10,
             "solidity": 0.2
            },
            "type": "scatter"
           }
          ],
          "scatter3d": [
           {
            "line": {
             "colorbar": {
              "outlinewidth": 0,
              "ticks": ""
             }
            },
            "marker": {
             "colorbar": {
              "outlinewidth": 0,
              "ticks": ""
             }
            },
            "type": "scatter3d"
           }
          ],
          "scattercarpet": [
           {
            "marker": {
             "colorbar": {
              "outlinewidth": 0,
              "ticks": ""
             }
            },
            "type": "scattercarpet"
           }
          ],
          "scattergeo": [
           {
            "marker": {
             "colorbar": {
              "outlinewidth": 0,
              "ticks": ""
             }
            },
            "type": "scattergeo"
           }
          ],
          "scattergl": [
           {
            "marker": {
             "colorbar": {
              "outlinewidth": 0,
              "ticks": ""
             }
            },
            "type": "scattergl"
           }
          ],
          "scattermap": [
           {
            "marker": {
             "colorbar": {
              "outlinewidth": 0,
              "ticks": ""
             }
            },
            "type": "scattermap"
           }
          ],
          "scattermapbox": [
           {
            "marker": {
             "colorbar": {
              "outlinewidth": 0,
              "ticks": ""
             }
            },
            "type": "scattermapbox"
           }
          ],
          "scatterpolar": [
           {
            "marker": {
             "colorbar": {
              "outlinewidth": 0,
              "ticks": ""
             }
            },
            "type": "scatterpolar"
           }
          ],
          "scatterpolargl": [
           {
            "marker": {
             "colorbar": {
              "outlinewidth": 0,
              "ticks": ""
             }
            },
            "type": "scatterpolargl"
           }
          ],
          "scatterternary": [
           {
            "marker": {
             "colorbar": {
              "outlinewidth": 0,
              "ticks": ""
             }
            },
            "type": "scatterternary"
           }
          ],
          "surface": [
           {
            "colorbar": {
             "outlinewidth": 0,
             "ticks": ""
            },
            "colorscale": [
             [
              0,
              "#0d0887"
             ],
             [
              0.1111111111111111,
              "#46039f"
             ],
             [
              0.2222222222222222,
              "#7201a8"
             ],
             [
              0.3333333333333333,
              "#9c179e"
             ],
             [
              0.4444444444444444,
              "#bd3786"
             ],
             [
              0.5555555555555556,
              "#d8576b"
             ],
             [
              0.6666666666666666,
              "#ed7953"
             ],
             [
              0.7777777777777778,
              "#fb9f3a"
             ],
             [
              0.8888888888888888,
              "#fdca26"
             ],
             [
              1,
              "#f0f921"
             ]
            ],
            "type": "surface"
           }
          ],
          "table": [
           {
            "cells": {
             "fill": {
              "color": "#EBF0F8"
             },
             "line": {
              "color": "white"
             }
            },
            "header": {
             "fill": {
              "color": "#C8D4E3"
             },
             "line": {
              "color": "white"
             }
            },
            "type": "table"
           }
          ]
         },
         "layout": {
          "annotationdefaults": {
           "arrowcolor": "#2a3f5f",
           "arrowhead": 0,
           "arrowwidth": 1
          },
          "autotypenumbers": "strict",
          "coloraxis": {
           "colorbar": {
            "outlinewidth": 0,
            "ticks": ""
           }
          },
          "colorscale": {
           "diverging": [
            [
             0,
             "#8e0152"
            ],
            [
             0.1,
             "#c51b7d"
            ],
            [
             0.2,
             "#de77ae"
            ],
            [
             0.3,
             "#f1b6da"
            ],
            [
             0.4,
             "#fde0ef"
            ],
            [
             0.5,
             "#f7f7f7"
            ],
            [
             0.6,
             "#e6f5d0"
            ],
            [
             0.7,
             "#b8e186"
            ],
            [
             0.8,
             "#7fbc41"
            ],
            [
             0.9,
             "#4d9221"
            ],
            [
             1,
             "#276419"
            ]
           ],
           "sequential": [
            [
             0,
             "#0d0887"
            ],
            [
             0.1111111111111111,
             "#46039f"
            ],
            [
             0.2222222222222222,
             "#7201a8"
            ],
            [
             0.3333333333333333,
             "#9c179e"
            ],
            [
             0.4444444444444444,
             "#bd3786"
            ],
            [
             0.5555555555555556,
             "#d8576b"
            ],
            [
             0.6666666666666666,
             "#ed7953"
            ],
            [
             0.7777777777777778,
             "#fb9f3a"
            ],
            [
             0.8888888888888888,
             "#fdca26"
            ],
            [
             1,
             "#f0f921"
            ]
           ],
           "sequentialminus": [
            [
             0,
             "#0d0887"
            ],
            [
             0.1111111111111111,
             "#46039f"
            ],
            [
             0.2222222222222222,
             "#7201a8"
            ],
            [
             0.3333333333333333,
             "#9c179e"
            ],
            [
             0.4444444444444444,
             "#bd3786"
            ],
            [
             0.5555555555555556,
             "#d8576b"
            ],
            [
             0.6666666666666666,
             "#ed7953"
            ],
            [
             0.7777777777777778,
             "#fb9f3a"
            ],
            [
             0.8888888888888888,
             "#fdca26"
            ],
            [
             1,
             "#f0f921"
            ]
           ]
          },
          "colorway": [
           "#636efa",
           "#EF553B",
           "#00cc96",
           "#ab63fa",
           "#FFA15A",
           "#19d3f3",
           "#FF6692",
           "#B6E880",
           "#FF97FF",
           "#FECB52"
          ],
          "font": {
           "color": "#2a3f5f"
          },
          "geo": {
           "bgcolor": "white",
           "lakecolor": "white",
           "landcolor": "#E5ECF6",
           "showlakes": true,
           "showland": true,
           "subunitcolor": "white"
          },
          "hoverlabel": {
           "align": "left"
          },
          "hovermode": "closest",
          "mapbox": {
           "style": "light"
          },
          "paper_bgcolor": "white",
          "plot_bgcolor": "#E5ECF6",
          "polar": {
           "angularaxis": {
            "gridcolor": "white",
            "linecolor": "white",
            "ticks": ""
           },
           "bgcolor": "#E5ECF6",
           "radialaxis": {
            "gridcolor": "white",
            "linecolor": "white",
            "ticks": ""
           }
          },
          "scene": {
           "xaxis": {
            "backgroundcolor": "#E5ECF6",
            "gridcolor": "white",
            "gridwidth": 2,
            "linecolor": "white",
            "showbackground": true,
            "ticks": "",
            "zerolinecolor": "white"
           },
           "yaxis": {
            "backgroundcolor": "#E5ECF6",
            "gridcolor": "white",
            "gridwidth": 2,
            "linecolor": "white",
            "showbackground": true,
            "ticks": "",
            "zerolinecolor": "white"
           },
           "zaxis": {
            "backgroundcolor": "#E5ECF6",
            "gridcolor": "white",
            "gridwidth": 2,
            "linecolor": "white",
            "showbackground": true,
            "ticks": "",
            "zerolinecolor": "white"
           }
          },
          "shapedefaults": {
           "line": {
            "color": "#2a3f5f"
           }
          },
          "ternary": {
           "aaxis": {
            "gridcolor": "white",
            "linecolor": "white",
            "ticks": ""
           },
           "baxis": {
            "gridcolor": "white",
            "linecolor": "white",
            "ticks": ""
           },
           "bgcolor": "#E5ECF6",
           "caxis": {
            "gridcolor": "white",
            "linecolor": "white",
            "ticks": ""
           }
          },
          "title": {
           "x": 0.05
          },
          "xaxis": {
           "automargin": true,
           "gridcolor": "white",
           "linecolor": "white",
           "ticks": "",
           "title": {
            "standoff": 15
           },
           "zerolinecolor": "white",
           "zerolinewidth": 2
          },
          "yaxis": {
           "automargin": true,
           "gridcolor": "white",
           "linecolor": "white",
           "ticks": "",
           "title": {
            "standoff": 15
           },
           "zerolinecolor": "white",
           "zerolinewidth": 2
          }
         }
        },
        "title": {
         "text": "train/learning_rate Over train/epoch"
        },
        "xaxis": {
         "anchor": "y",
         "domain": [
          0,
          1
         ],
         "title": {
          "text": "train/epoch"
         }
        },
        "yaxis": {
         "anchor": "x",
         "domain": [
          0,
          1
         ],
         "title": {
          "text": "train/learning_rate"
         }
        }
       }
      }
     },
     "metadata": {},
     "output_type": "display_data"
    }
   ],
   "source": [
    "fetch_and_plot_wandb_runs(\n",
    "    entity=\"mallahova\",\n",
    "    project=\"adalora_memory_to_double_memory_3_5\",\n",
    "    metric=\"train/learning_rate\",\n",
    "    x_axis=\"train/epoch\",\n",
    "    interactive=INTERACTIVE_CHARTS,\n",
    "    num_runs=1\n",
    ")"
   ]
  },
  {
   "cell_type": "code",
   "execution_count": 5,
   "metadata": {
    "jupyter": {
     "source_hidden": true
    }
   },
   "outputs": [
    {
     "data": {
      "application/vnd.plotly.v1+json": {
       "config": {
        "plotlyServerURL": "https://plot.ly"
       },
       "data": [
        {
         "hovertemplate": "name=results_cola_5_30_0.5_3_4_0.002_17<br>train/epoch=%{x}<br>train/memory=%{y}<extra></extra>",
         "legendgroup": "results_cola_5_30_0.5_3_4_0.002_17",
         "line": {
          "color": "#636efa",
          "dash": "solid"
         },
         "marker": {
          "symbol": "circle"
         },
         "mode": "lines",
         "name": "results_cola_5_30_0.5_3_4_0.002_17",
         "orientation": "v",
         "showlegend": true,
         "type": "scatter",
         "x": {
          "bdata": "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",
          "dtype": "f8"
         },
         "xaxis": "x",
         "y": {
          "bdata": "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",
          "dtype": "f8"
         },
         "yaxis": "y"
        }
       ],
       "layout": {
        "legend": {
         "title": {
          "text": "name"
         },
         "tracegroupgap": 0
        },
        "template": {
         "data": {
          "bar": [
           {
            "error_x": {
             "color": "#2a3f5f"
            },
            "error_y": {
             "color": "#2a3f5f"
            },
            "marker": {
             "line": {
              "color": "#E5ECF6",
              "width": 0.5
             },
             "pattern": {
              "fillmode": "overlay",
              "size": 10,
              "solidity": 0.2
             }
            },
            "type": "bar"
           }
          ],
          "barpolar": [
           {
            "marker": {
             "line": {
              "color": "#E5ECF6",
              "width": 0.5
             },
             "pattern": {
              "fillmode": "overlay",
              "size": 10,
              "solidity": 0.2
             }
            },
            "type": "barpolar"
           }
          ],
          "carpet": [
           {
            "aaxis": {
             "endlinecolor": "#2a3f5f",
             "gridcolor": "white",
             "linecolor": "white",
             "minorgridcolor": "white",
             "startlinecolor": "#2a3f5f"
            },
            "baxis": {
             "endlinecolor": "#2a3f5f",
             "gridcolor": "white",
             "linecolor": "white",
             "minorgridcolor": "white",
             "startlinecolor": "#2a3f5f"
            },
            "type": "carpet"
           }
          ],
          "choropleth": [
           {
            "colorbar": {
             "outlinewidth": 0,
             "ticks": ""
            },
            "type": "choropleth"
           }
          ],
          "contour": [
           {
            "colorbar": {
             "outlinewidth": 0,
             "ticks": ""
            },
            "colorscale": [
             [
              0,
              "#0d0887"
             ],
             [
              0.1111111111111111,
              "#46039f"
             ],
             [
              0.2222222222222222,
              "#7201a8"
             ],
             [
              0.3333333333333333,
              "#9c179e"
             ],
             [
              0.4444444444444444,
              "#bd3786"
             ],
             [
              0.5555555555555556,
              "#d8576b"
             ],
             [
              0.6666666666666666,
              "#ed7953"
             ],
             [
              0.7777777777777778,
              "#fb9f3a"
             ],
             [
              0.8888888888888888,
              "#fdca26"
             ],
             [
              1,
              "#f0f921"
             ]
            ],
            "type": "contour"
           }
          ],
          "contourcarpet": [
           {
            "colorbar": {
             "outlinewidth": 0,
             "ticks": ""
            },
            "type": "contourcarpet"
           }
          ],
          "heatmap": [
           {
            "colorbar": {
             "outlinewidth": 0,
             "ticks": ""
            },
            "colorscale": [
             [
              0,
              "#0d0887"
             ],
             [
              0.1111111111111111,
              "#46039f"
             ],
             [
              0.2222222222222222,
              "#7201a8"
             ],
             [
              0.3333333333333333,
              "#9c179e"
             ],
             [
              0.4444444444444444,
              "#bd3786"
             ],
             [
              0.5555555555555556,
              "#d8576b"
             ],
             [
              0.6666666666666666,
              "#ed7953"
             ],
             [
              0.7777777777777778,
              "#fb9f3a"
             ],
             [
              0.8888888888888888,
              "#fdca26"
             ],
             [
              1,
              "#f0f921"
             ]
            ],
            "type": "heatmap"
           }
          ],
          "histogram": [
           {
            "marker": {
             "pattern": {
              "fillmode": "overlay",
              "size": 10,
              "solidity": 0.2
             }
            },
            "type": "histogram"
           }
          ],
          "histogram2d": [
           {
            "colorbar": {
             "outlinewidth": 0,
             "ticks": ""
            },
            "colorscale": [
             [
              0,
              "#0d0887"
             ],
             [
              0.1111111111111111,
              "#46039f"
             ],
             [
              0.2222222222222222,
              "#7201a8"
             ],
             [
              0.3333333333333333,
              "#9c179e"
             ],
             [
              0.4444444444444444,
              "#bd3786"
             ],
             [
              0.5555555555555556,
              "#d8576b"
             ],
             [
              0.6666666666666666,
              "#ed7953"
             ],
             [
              0.7777777777777778,
              "#fb9f3a"
             ],
             [
              0.8888888888888888,
              "#fdca26"
             ],
             [
              1,
              "#f0f921"
             ]
            ],
            "type": "histogram2d"
           }
          ],
          "histogram2dcontour": [
           {
            "colorbar": {
             "outlinewidth": 0,
             "ticks": ""
            },
            "colorscale": [
             [
              0,
              "#0d0887"
             ],
             [
              0.1111111111111111,
              "#46039f"
             ],
             [
              0.2222222222222222,
              "#7201a8"
             ],
             [
              0.3333333333333333,
              "#9c179e"
             ],
             [
              0.4444444444444444,
              "#bd3786"
             ],
             [
              0.5555555555555556,
              "#d8576b"
             ],
             [
              0.6666666666666666,
              "#ed7953"
             ],
             [
              0.7777777777777778,
              "#fb9f3a"
             ],
             [
              0.8888888888888888,
              "#fdca26"
             ],
             [
              1,
              "#f0f921"
             ]
            ],
            "type": "histogram2dcontour"
           }
          ],
          "mesh3d": [
           {
            "colorbar": {
             "outlinewidth": 0,
             "ticks": ""
            },
            "type": "mesh3d"
           }
          ],
          "parcoords": [
           {
            "line": {
             "colorbar": {
              "outlinewidth": 0,
              "ticks": ""
             }
            },
            "type": "parcoords"
           }
          ],
          "pie": [
           {
            "automargin": true,
            "type": "pie"
           }
          ],
          "scatter": [
           {
            "fillpattern": {
             "fillmode": "overlay",
             "size": 10,
             "solidity": 0.2
            },
            "type": "scatter"
           }
          ],
          "scatter3d": [
           {
            "line": {
             "colorbar": {
              "outlinewidth": 0,
              "ticks": ""
             }
            },
            "marker": {
             "colorbar": {
              "outlinewidth": 0,
              "ticks": ""
             }
            },
            "type": "scatter3d"
           }
          ],
          "scattercarpet": [
           {
            "marker": {
             "colorbar": {
              "outlinewidth": 0,
              "ticks": ""
             }
            },
            "type": "scattercarpet"
           }
          ],
          "scattergeo": [
           {
            "marker": {
             "colorbar": {
              "outlinewidth": 0,
              "ticks": ""
             }
            },
            "type": "scattergeo"
           }
          ],
          "scattergl": [
           {
            "marker": {
             "colorbar": {
              "outlinewidth": 0,
              "ticks": ""
             }
            },
            "type": "scattergl"
           }
          ],
          "scattermap": [
           {
            "marker": {
             "colorbar": {
              "outlinewidth": 0,
              "ticks": ""
             }
            },
            "type": "scattermap"
           }
          ],
          "scattermapbox": [
           {
            "marker": {
             "colorbar": {
              "outlinewidth": 0,
              "ticks": ""
             }
            },
            "type": "scattermapbox"
           }
          ],
          "scatterpolar": [
           {
            "marker": {
             "colorbar": {
              "outlinewidth": 0,
              "ticks": ""
             }
            },
            "type": "scatterpolar"
           }
          ],
          "scatterpolargl": [
           {
            "marker": {
             "colorbar": {
              "outlinewidth": 0,
              "ticks": ""
             }
            },
            "type": "scatterpolargl"
           }
          ],
          "scatterternary": [
           {
            "marker": {
             "colorbar": {
              "outlinewidth": 0,
              "ticks": ""
             }
            },
            "type": "scatterternary"
           }
          ],
          "surface": [
           {
            "colorbar": {
             "outlinewidth": 0,
             "ticks": ""
            },
            "colorscale": [
             [
              0,
              "#0d0887"
             ],
             [
              0.1111111111111111,
              "#46039f"
             ],
             [
              0.2222222222222222,
              "#7201a8"
             ],
             [
              0.3333333333333333,
              "#9c179e"
             ],
             [
              0.4444444444444444,
              "#bd3786"
             ],
             [
              0.5555555555555556,
              "#d8576b"
             ],
             [
              0.6666666666666666,
              "#ed7953"
             ],
             [
              0.7777777777777778,
              "#fb9f3a"
             ],
             [
              0.8888888888888888,
              "#fdca26"
             ],
             [
              1,
              "#f0f921"
             ]
            ],
            "type": "surface"
           }
          ],
          "table": [
           {
            "cells": {
             "fill": {
              "color": "#EBF0F8"
             },
             "line": {
              "color": "white"
             }
            },
            "header": {
             "fill": {
              "color": "#C8D4E3"
             },
             "line": {
              "color": "white"
             }
            },
            "type": "table"
           }
          ]
         },
         "layout": {
          "annotationdefaults": {
           "arrowcolor": "#2a3f5f",
           "arrowhead": 0,
           "arrowwidth": 1
          },
          "autotypenumbers": "strict",
          "coloraxis": {
           "colorbar": {
            "outlinewidth": 0,
            "ticks": ""
           }
          },
          "colorscale": {
           "diverging": [
            [
             0,
             "#8e0152"
            ],
            [
             0.1,
             "#c51b7d"
            ],
            [
             0.2,
             "#de77ae"
            ],
            [
             0.3,
             "#f1b6da"
            ],
            [
             0.4,
             "#fde0ef"
            ],
            [
             0.5,
             "#f7f7f7"
            ],
            [
             0.6,
             "#e6f5d0"
            ],
            [
             0.7,
             "#b8e186"
            ],
            [
             0.8,
             "#7fbc41"
            ],
            [
             0.9,
             "#4d9221"
            ],
            [
             1,
             "#276419"
            ]
           ],
           "sequential": [
            [
             0,
             "#0d0887"
            ],
            [
             0.1111111111111111,
             "#46039f"
            ],
            [
             0.2222222222222222,
             "#7201a8"
            ],
            [
             0.3333333333333333,
             "#9c179e"
            ],
            [
             0.4444444444444444,
             "#bd3786"
            ],
            [
             0.5555555555555556,
             "#d8576b"
            ],
            [
             0.6666666666666666,
             "#ed7953"
            ],
            [
             0.7777777777777778,
             "#fb9f3a"
            ],
            [
             0.8888888888888888,
             "#fdca26"
            ],
            [
             1,
             "#f0f921"
            ]
           ],
           "sequentialminus": [
            [
             0,
             "#0d0887"
            ],
            [
             0.1111111111111111,
             "#46039f"
            ],
            [
             0.2222222222222222,
             "#7201a8"
            ],
            [
             0.3333333333333333,
             "#9c179e"
            ],
            [
             0.4444444444444444,
             "#bd3786"
            ],
            [
             0.5555555555555556,
             "#d8576b"
            ],
            [
             0.6666666666666666,
             "#ed7953"
            ],
            [
             0.7777777777777778,
             "#fb9f3a"
            ],
            [
             0.8888888888888888,
             "#fdca26"
            ],
            [
             1,
             "#f0f921"
            ]
           ]
          },
          "colorway": [
           "#636efa",
           "#EF553B",
           "#00cc96",
           "#ab63fa",
           "#FFA15A",
           "#19d3f3",
           "#FF6692",
           "#B6E880",
           "#FF97FF",
           "#FECB52"
          ],
          "font": {
           "color": "#2a3f5f"
          },
          "geo": {
           "bgcolor": "white",
           "lakecolor": "white",
           "landcolor": "#E5ECF6",
           "showlakes": true,
           "showland": true,
           "subunitcolor": "white"
          },
          "hoverlabel": {
           "align": "left"
          },
          "hovermode": "closest",
          "mapbox": {
           "style": "light"
          },
          "paper_bgcolor": "white",
          "plot_bgcolor": "#E5ECF6",
          "polar": {
           "angularaxis": {
            "gridcolor": "white",
            "linecolor": "white",
            "ticks": ""
           },
           "bgcolor": "#E5ECF6",
           "radialaxis": {
            "gridcolor": "white",
            "linecolor": "white",
            "ticks": ""
           }
          },
          "scene": {
           "xaxis": {
            "backgroundcolor": "#E5ECF6",
            "gridcolor": "white",
            "gridwidth": 2,
            "linecolor": "white",
            "showbackground": true,
            "ticks": "",
            "zerolinecolor": "white"
           },
           "yaxis": {
            "backgroundcolor": "#E5ECF6",
            "gridcolor": "white",
            "gridwidth": 2,
            "linecolor": "white",
            "showbackground": true,
            "ticks": "",
            "zerolinecolor": "white"
           },
           "zaxis": {
            "backgroundcolor": "#E5ECF6",
            "gridcolor": "white",
            "gridwidth": 2,
            "linecolor": "white",
            "showbackground": true,
            "ticks": "",
            "zerolinecolor": "white"
           }
          },
          "shapedefaults": {
           "line": {
            "color": "#2a3f5f"
           }
          },
          "ternary": {
           "aaxis": {
            "gridcolor": "white",
            "linecolor": "white",
            "ticks": ""
           },
           "baxis": {
            "gridcolor": "white",
            "linecolor": "white",
            "ticks": ""
           },
           "bgcolor": "#E5ECF6",
           "caxis": {
            "gridcolor": "white",
            "linecolor": "white",
            "ticks": ""
           }
          },
          "title": {
           "x": 0.05
          },
          "xaxis": {
           "automargin": true,
           "gridcolor": "white",
           "linecolor": "white",
           "ticks": "",
           "title": {
            "standoff": 15
           },
           "zerolinecolor": "white",
           "zerolinewidth": 2
          },
          "yaxis": {
           "automargin": true,
           "gridcolor": "white",
           "linecolor": "white",
           "ticks": "",
           "title": {
            "standoff": 15
           },
           "zerolinecolor": "white",
           "zerolinewidth": 2
          }
         }
        },
        "title": {
         "text": "train/memory Over train/epoch"
        },
        "xaxis": {
         "anchor": "y",
         "domain": [
          0,
          1
         ],
         "title": {
          "text": "train/epoch"
         }
        },
        "yaxis": {
         "anchor": "x",
         "domain": [
          0,
          1
         ],
         "title": {
          "text": "train/memory"
         }
        }
       }
      }
     },
     "metadata": {},
     "output_type": "display_data"
    }
   ],
   "source": [
    "fetch_and_plot_wandb_runs(\n",
    "    entity=\"mallahova\",\n",
    "    project=\"adalora_memory_to_double_memory_3_5\",\n",
    "    metric=\"train/memory\",\n",
    "    x_axis=\"train/epoch\",\n",
    "    interactive=INTERACTIVE_CHARTS,\n",
    "    num_runs=1\n",
    ")"
   ]
  },
  {
   "cell_type": "code",
   "execution_count": 6,
   "metadata": {
    "jupyter": {
     "source_hidden": true
    }
   },
   "outputs": [
    {
     "data": {
      "application/vnd.plotly.v1+json": {
       "config": {
        "plotlyServerURL": "https://plot.ly"
       },
       "data": [
        {
         "hovertemplate": "name=results_cola_5_30_0.5_3_4_0.002_17<br>train/epoch=%{x}<br>eval/matthews_correlation=%{y}<extra></extra>",
         "legendgroup": "results_cola_5_30_0.5_3_4_0.002_17",
         "line": {
          "color": "#636efa",
          "dash": "solid"
         },
         "marker": {
          "symbol": "circle"
         },
         "mode": "lines",
         "name": "results_cola_5_30_0.5_3_4_0.002_17",
         "orientation": "v",
         "showlegend": true,
         "type": "scatter",
         "x": {
          "bdata": "AQIDBAUGBwgJCgsMDQ4PEBESExQVFhcYGRobHB0eHyAhIiMkJSYnKCkqKywtLi8wMTIy",
          "dtype": "i1"
         },
         "xaxis": "x",
         "y": {
          "bdata": "AAAAAAAAAAAAAAAAAAAAAG8zGSwHHsY/YvVl9H8i3T8M12N635/XP7iTnB1pets/OgDnE1az1j90XsUXqBLgP14QcW/e9d4/skzYne5B3z+ku/TM7+/cPwYKFJ48A98/1/yNNw9B3D90LAvKBangP5ffd08MtN0/tTci9wDr4D+mz3eDNvLdP9lbkEszv90/9yZET4xu4D9Te8IkkxzhPzsgTyOVxeA/DLW7Ep8o4D//VuV3KZrgP4vw332bouA/z+fGK2GE4D+UlJNPktjfP1l+PaWTdOA/uLGzH7FB4D86L69YAzjgP5x32sYj1OA/P2Rbm8lI4D9jp+baA+vgP2TlZl5D7+A/8JDct3Va4D/PAMwik/LgP3QsC8oFqeA/IRq2M/WS4D/wkNy3dVrgP1tbl/XGqOA/QhbPwqjC4D+M4M5HDZPgP51uZ9LQ8OA/5Ali1BSV4D+5djsIaGfgPxjyWUJWZ+A/+eGkJzmX4D9Aoc5AspPgP0Rfl+r2rOA/QKHOQLKT4D/ZQeIBC6rgP9lB4gELquA/",
          "dtype": "f8"
         },
         "yaxis": "y"
        },
        {
         "hovertemplate": "name=results_cola_5_30_0.5_3_4_0.02_17<br>train/epoch=%{x}<br>eval/matthews_correlation=%{y}<extra></extra>",
         "legendgroup": "results_cola_5_30_0.5_3_4_0.02_17",
         "line": {
          "color": "#EF553B",
          "dash": "solid"
         },
         "marker": {
          "symbol": "circle"
         },
         "mode": "lines",
         "name": "results_cola_5_30_0.5_3_4_0.02_17",
         "orientation": "v",
         "showlegend": true,
         "type": "scatter",
         "x": {
          "bdata": "AQIDBAUGBwgJCgsMDQ4PEBESExQVFhcYGRobHB0eHyAhIiMkJSYnKCkqKywtLi8wMTIy",
          "dtype": "i1"
         },
         "xaxis": "x",
         "y": {
          "bdata": "AAAAAAAAAAAAAAAAAAAAAM/I7N4n6MY/Q7D1VGKf3D+IqUcg9HLaP64UHvwwPts/MreVrHJD2D8oeHtz5aDfPxzjkkixet4/+g/LxwYH3j+s9wKxGZLcP/qqjzEqxt4/8XdMffPA3D9Aoc5AspPgPwILu6hxe90/F3pUSGPV4D9oSyw/vO3dP5aNZnARkd0/+eGkJzmX4D/XLJQuF5jgPx26uh0m1+A/5Ali1BSV4D/L/pw7rLHgP8x+k2pYcuA/1nlEsKpY4D/3mfjzgxjgP9Ygqc1kiuA/V9Ib+3gv4D+Rug0LrnzgP+phtTlPk+A/Nb7gULVe4D90LAvKBangPwVs3YfMq+A/r0DLNsc/4D87+csPJ0HgPxOe6OOzqOA/Z263nGe+4D/WuRoMyyngP+N67bK5vuA/QhbPwqjC4D/95pPNJ9TgP9dLWFf4bOA/dPQ4cHGp4D8hGrYz9ZLgPxOe6OOzqOA/FjTZSm+B4D8hGrYz9ZLgPxqY/82GwOA/IRq2M/WS4D8hGrYz9ZLgPyEatjP1kuA/",
          "dtype": "f8"
         },
         "yaxis": "y"
        },
        {
         "hovertemplate": "name=results_cola_5_30_0.5_3_4_0.01_17<br>train/epoch=%{x}<br>eval/matthews_correlation=%{y}<extra></extra>",
         "legendgroup": "results_cola_5_30_0.5_3_4_0.01_17",
         "line": {
          "color": "#00cc96",
          "dash": "solid"
         },
         "marker": {
          "symbol": "circle"
         },
         "mode": "lines",
         "name": "results_cola_5_30_0.5_3_4_0.01_17",
         "orientation": "v",
         "showlegend": true,
         "type": "scatter",
         "x": {
          "bdata": "AQIDBAUGBwgJCgsMDQ4PEBESExQVFhcYGRobHB0eHyAhIiMkJSYnKCkqKywtLi8wMTIy",
          "dtype": "i1"
         },
         "xaxis": "x",
         "y": {
          "bdata": "AAAAAAAAAAAAAAAAAAAAALbUWcN3Ecc/cghgJgdZ3T+VdDf+4DPZP0FKCWrPo9s/mWMMHu711z/TCBgjep3fP8BUzMV9a94/6HTnbVuO3j9vOK1IxmLdPw1C6Wby+t4/vVhr+pz93D/kCWLUFJXgPwILu6hxe90/kkpGD3TA4D+Xk8MD0yTeP284rUjGYt0/p5tDUm1q4D8cM8KCefHgP3T0OHBxqeA/Mk+jiKpo4D/54aQnOZfgP8/nxithhOA/FjTZSm+B4D+kCdpdzdHfP8/nxithhOA/QMotzOcO4D8V/yYkRR/gP7j5D4gQ1OA/ey3PQrcW4D/xn5mJYtTgP5fEICB/weA/9yZET4xu4D+zVLyO8ZvgP/GfmYli1OA/nHfaxiPU4D/WeUSwqljgP7j5D4gQ1OA/IEc3Jw6W4D+Ein0Ef77gP6c/0iOXmOA/R75N7kuU4D9bW5f1xqjgP5x32sYj1OA/10tYV/hs4D9bW5f1xqjgP9lB4gELquA/W1uX9cao4D/VQVg/Jb/gP9VBWD8lv+A/",
          "dtype": "f8"
         },
         "yaxis": "y"
        },
        {
         "hovertemplate": "name=results_cola_5_30_0.5_3_3_0.002_17<br>train/epoch=%{x}<br>eval/matthews_correlation=%{y}<extra></extra>",
         "legendgroup": "results_cola_5_30_0.5_3_3_0.002_17",
         "line": {
          "color": "#ab63fa",
          "dash": "solid"
         },
         "marker": {
          "symbol": "circle"
         },
         "mode": "lines",
         "name": "results_cola_5_30_0.5_3_3_0.002_17",
         "orientation": "v",
         "showlegend": true,
         "type": "scatter",
         "x": {
          "bdata": "AQIDBAUGBwgJCgsMDQ4PEBESExQVFhcYGRobHB0eHyAhIiMkJSYnKCkqKywtLi8wMTIy",
          "dtype": "i1"
         },
         "xaxis": "x",
         "y": {
          "bdata": "AAAAAAAAAAAAAAAAAAAAAAAAAAAAAAAA5kzCJ8K61j/5wnEeofzaP2ORP6QTyN8/Iy5TmZKq3D+9LrvY5rzYP28+SKpncN8/dz71JAK83T+UKzGeuRDeP9ARFCiju94/EU4PVqui3z/6cNEvpuHbP7wX3dhpnt8/Y8mWofLN3T8XVmOClFPgPwG+mHG5ZN4//DGdeDqL3j9j94cBaaXfP9JCKo2aCOE/Qehw+OFj4D905JsOEWjgP4c1PhaWEuA/Ff8mJEUf4D+I5Jsd/v/gP35+2CSbPuA/Oi+vWAM44D+B2zdMT6bfPzQL2WQ2v98/E57o47Oo4D/3mfjzgxjgP4xKBxXAvuA/OyBPI5XF4D8DD4Gn1RDgP3Tkmw4RaOA/HzxxBarZ4D909DhwcangP69CZ2Eh4d8/ksVXFMbp4D9vnt6wLlLgP+N67bK5vuA/6dgqa7iS3z9EX5fq9qzgP/GfmYli1OA/U1nIf1X/4D8yT6OIqmjgP++4gHeaKuE/l8QgIH/B4D84Bhyk06rgPzgGHKTTquA/",
          "dtype": "f8"
         },
         "yaxis": "y"
        },
        {
         "hovertemplate": "name=results_cola_5_30_0.5_3_3_0.01_17<br>train/epoch=%{x}<br>eval/matthews_correlation=%{y}<extra></extra>",
         "legendgroup": "results_cola_5_30_0.5_3_3_0.01_17",
         "line": {
          "color": "#FFA15A",
          "dash": "solid"
         },
         "marker": {
          "symbol": "circle"
         },
         "mode": "lines",
         "name": "results_cola_5_30_0.5_3_3_0.01_17",
         "orientation": "v",
         "showlegend": true,
         "type": "scatter",
         "x": {
          "bdata": "AQIDBAUGBwgJCgsMDQ4PEBESExQVFhcYGRobHB0eHyAhIiMkJSYnKCkqKywtLi8wMTIy",
          "dtype": "i1"
         },
         "xaxis": "x",
         "y": {
          "bdata": "AAAAAAAAAAAAAAAAAAAAAAAAAAAAAAAAtDx1Vwj71z9VUzuhcVzbPwvgxqLucd8/Srhnmram3D/V0v+LFizYPyGy1qJAR98/aEssP7zt3T9o08kvn4fdP8ySuw0QCt4/Y/eHAWml3z/QPLwKQWbbP9BkFduQSd8/pLv0zO/v3D+g7UWRb2fgP5ZQox+H4N0/Ueu8bNxd3j/QZBXbkEnfP1N7wiSTHOE/01yal/lN4D9vnt6wLlLgP6ebQ1JtauA/fASSZ6t/3z/VQVg/Jb/gP4dUdYO2VeA/kolNVpbr3z9bf86QsyvgPzQL2WQ2v98/gTqfmIZ94D9El5JhiRrgP/JOT6Fo1OA/E19VJJlr4D99JMnNgfXfP6IK6i7WO+A/R75N7kuU4D90LAvKBangPzCULSYtYeA/AW9NFtLU4D/+d5+Lc2ngP5x32sYj1OA/08HAEbQG4D8gRzcnDpbgP5x32sYj1OA/uPkPiBDU4D9Hvk3uS5TgP0H8n/HB6eA/OAYcpNOq4D/ZQeIBC6rgP9lB4gELquA/",
          "dtype": "f8"
         },
         "yaxis": "y"
        },
        {
         "hovertemplate": "name=results_cola_5_30_0.5_3_3_0.02_17<br>train/epoch=%{x}<br>eval/matthews_correlation=%{y}<extra></extra>",
         "legendgroup": "results_cola_5_30_0.5_3_3_0.02_17",
         "line": {
          "color": "#19d3f3",
          "dash": "solid"
         },
         "marker": {
          "symbol": "circle"
         },
         "mode": "lines",
         "name": "results_cola_5_30_0.5_3_3_0.02_17",
         "orientation": "v",
         "showlegend": true,
         "type": "scatter",
         "x": {
          "bdata": "AQIDBAUGBwgJCgsMDQ4PEBESExQVFhcYGRobHB0eHyAhIiMkJSYnKCkqKywtLi8wMTIy",
          "dtype": "i1"
         },
         "xaxis": "x",
         "y": {
          "bdata": "AAAAAAAAAAAAAAAAAAAAAAAAAAAAAAAAmoe4JdXb1z+P87NIAxTcP28+SKpncN8/NqxgROEd3D8IWxqAQ8PXP9BkFduQSd8/JWwmk6pc3T9DO77Xd8zcP9ARFCiju94/RJeSYYka4D/JlJprCFHbPyhrZ4XoeN8/ouOt/RUp3T9NcI4/WmvgP1yZuOnprt0/Duh8QPE23j9CIgDotyLfP9JCKo2aCOE/BaNQ8glq4D+Md6WE533gP9Z5RLCqWOA/6dgqa7iS3z9bW5f1xqjgP35+2CSbPuA//vHwW4rf3j87Vq0HvHnfPzWqgcNust4/H/qQMvJ94D/ngVYxnWDfP4bPthW6k+A/CWrVFlSu4D+YuNA1uJvfPz6taAfEUeA/1UFYPyW/4D99tqP6B5PgPyWO9wL/IeA/VFGrQXep4D905JsOEWjgP4SKfQR/vuA/NAvZZDa/3z84Bhyk06rgP6JGJtZ6vuA/jEoHFcC+4D905JsOEWjgP/3mk80n1OA/QKHOQLKT4D9Aoc5AspPgP0ChzkCyk+A/",
          "dtype": "f8"
         },
         "yaxis": "y"
        },
        {
         "hovertemplate": "name=results_cola_5_30_0.5_3_2_0.02_17<br>train/epoch=%{x}<br>eval/matthews_correlation=%{y}<extra></extra>",
         "legendgroup": "results_cola_5_30_0.5_3_2_0.02_17",
         "line": {
          "color": "#FF6692",
          "dash": "solid"
         },
         "marker": {
          "symbol": "circle"
         },
         "mode": "lines",
         "name": "results_cola_5_30_0.5_3_2_0.02_17",
         "orientation": "v",
         "showlegend": true,
         "type": "scatter",
         "x": {
          "bdata": "AQIDBAUGBwgJCgsMDQ4PEBESExQVFhcYGRobHB0eHyAhIiMkJSYnKCkqKywtLi8wMTIy",
          "dtype": "i1"
         },
         "xaxis": "x",
         "y": {
          "bdata": "AAAAAAAAAAAAAAAAAAAAAAAAAAAAAAAA/5wJCFSsxz993is8B4XZPzWC7x1iSts/Mhae79Xr3j9g4o8hAvjZP+If4WHwAtw/9dmCATjz3z8knPGUcmLeP5eTwwPTJN4/5hllPleg3z82m1xxCNXeP3y5BsJMLN0/DLW7Ep8o4D8CC7uocXvdP1RRq0F3qeA/SMArois+3j/vR252pmjdP1NKDqUh7N4/WYWZB6Kr4D8TZ/OZ1WbgPz9kW5vJSOA/nHfaxiPU4D++diovVwPgP2+CNM5WyeA/10tYV/hs4D+25iPnntzfPwtykCPD0t8/fJeG44oS3z8FbN2HzKvgP/tE/ZOgAOA/R75N7kuU4D+28kZ/VnDgP3n+vGuRMOA/b57esC5S4D9QozSqdVHgPwFvTRbS1OA/jddvunhc4D+1NCbfKb/gP2+CNM5WyeA/KkS4DnDq4D945FozyRzgP7l2OwhoZ+A/W1uX9cao4D+4+Q+IENTgP2mCvc9DgOA/R9zJo0aT4D9Aoc5AspPgP0ChzkCyk+A/",
          "dtype": "f8"
         },
         "yaxis": "y"
        },
        {
         "hovertemplate": "name=results_cola_5_30_0.5_3_2_0.002_17<br>train/epoch=%{x}<br>eval/matthews_correlation=%{y}<extra></extra>",
         "legendgroup": "results_cola_5_30_0.5_3_2_0.002_17",
         "line": {
          "color": "#B6E880",
          "dash": "solid"
         },
         "marker": {
          "symbol": "circle"
         },
         "mode": "lines",
         "name": "results_cola_5_30_0.5_3_2_0.002_17",
         "orientation": "v",
         "showlegend": true,
         "type": "scatter",
         "x": {
          "bdata": "AQIDBAUGBwgJCgsMDQ4PEBESExQVFhcYGRobHB0eHyAhIiMkJSYnKCkqKywtLi8wMTIy",
          "dtype": "i1"
         },
         "xaxis": "x",
         "y": {
          "bdata": "AAAAAAAAAAAAAAAAAAAAAAAAAAAAAAAAOo8UMPGpxD+xP6qbNdDZP5eTwwPTJN4/OXcKD7Jy3z9atwRRXrrbP6LFlgimdNw/tVMH4oV+4D9AqP7fufLeP05vUcpqo94/fSTJzYH13z/AhzBsYDnfPzEQjREuvtw/f5TkPEA84D9eB4tbLVfeP4voOPFMlOA/ntlTwKkI3j9SrHKIqqDeP8pdXcodbN8/xbI2ocKq4D/WHvpJHebfP70+mYZtAuA/rgOBIx0W4T+SiU1WluvfPxNfVSSZa+A/f5TkPEA84D/T0PAbFlfgPxJa//23mN8/r0JnYSHh3z9bW5f1xqjgP3stz0K3FuA/uXY7CGhn4D+nm0NSbWrgP98q6f8qK+A/dOSbDhFo4D8Y8llCVmfgPwfNALvjFOE/h1R1g7ZV4D+SxVcUxungPxY02UpvgeA/1yT+3o0V4T/4QkBewCzgP8QWlWErfeA/HZpXkMuo4D+RTPMAWv/gP4x3pYTnfeA/xBaVYSt94D8Y8llCVmfgPxjyWUJWZ+A/",
          "dtype": "f8"
         },
         "yaxis": "y"
        },
        {
         "hovertemplate": "name=results_cola_5_30_0.5_3_2_0.01_17<br>train/epoch=%{x}<br>eval/matthews_correlation=%{y}<extra></extra>",
         "legendgroup": "results_cola_5_30_0.5_3_2_0.01_17",
         "line": {
          "color": "#FF97FF",
          "dash": "solid"
         },
         "marker": {
          "symbol": "circle"
         },
         "mode": "lines",
         "name": "results_cola_5_30_0.5_3_2_0.01_17",
         "orientation": "v",
         "showlegend": true,
         "type": "scatter",
         "x": {
          "bdata": "AQIDBAUGBwgJCgsMDQ4PEBESExQVFhcYGRobHB0eHyAhIiMkJSYnKCkqKywtLi8wMTIy",
          "dtype": "i1"
         },
         "xaxis": "x",
         "y": {
          "bdata": "AAAAAAAAAAAAAAAAAAAAAAAAAAAAAAAA3RQlJIiOxj/uIKix0XHaP4P5uiZULNw/Qg2Ol7wn4D/X6pF0gk3aP4P5uiZULNw/5trmoEFS4D8yFp7v1eveP88fwH2oWd0/qmBwaJEf3z/tvHyjUlLeP8dgaahzEdw/f5TkPEA84D9oHSfflCneP+phtTlPk+A/zUFzgUY53j+ORLWw383ePw57sscIv94/TXCOP1pr4D9kLM6PD/jfP5SUk0+S2N8/slLm8rJn4D+HyRo68EXfP9K3G59W+98/s8gJmt0m4D/WuRoMyyngPzQL2WQ2v98/6dgqa7iS3z9vX7+dmTvgP2HVBKoOz98/uXY7CGhn4D+HVHWDtlXgP98q6f8qK+A/dOSbDhFo4D9YAEfvpWfgP5FM8wBa/+A/CJhuuCEV4D/xQa1sCargPwy1uxKfKOA/tTci9wDr4D8A6kcJFv7fP5USWxR8feA/W1uX9cao4D/qYbU5T5PgPylCVpK+v+A/dCwLygWp4D9H3MmjRpPgP0fcyaNGk+A/",
          "dtype": "f8"
         },
         "yaxis": "y"
        },
        {
         "hovertemplate": "name=results_cola_5_30_0.5_3_0_0.01_17<br>train/epoch=%{x}<br>eval/matthews_correlation=%{y}<extra></extra>",
         "legendgroup": "results_cola_5_30_0.5_3_0_0.01_17",
         "line": {
          "color": "#FECB52",
          "dash": "solid"
         },
         "marker": {
          "symbol": "circle"
         },
         "mode": "lines",
         "name": "results_cola_5_30_0.5_3_0_0.01_17",
         "orientation": "v",
         "showlegend": true,
         "type": "scatter",
         "x": {
          "bdata": "AQIDBAUGBwgJCgsMDQ4PEBESExQVFhcYGRobHB0eHyAhIiMkJSYnKCkqKywtLi8wMTIy",
          "dtype": "i1"
         },
         "xaxis": "x",
         "y": {
          "bdata": "AAAAAAAAAAAAAAAAAAAAAKMV2abDYck/DGBeTww90D95qZZhaMvQP29hD1jPXNU/kaOzmGma3j/ymLU2d23dP1sbWYzN/d8/Uzho8lU73D/X+Cmaj63dPx2MIGuYx98/uXY7CGhn4D8jKwRED/ffP3+U5DxAPOA/yl1dyh1s3z+vOfWKGsHcP5x32sYj1OA/+urKs6rU3D8Tnujjs6jgP7vZb1Q+EOA/Dnuyxwi/3j/eDPJg71DgP7YClZeO9uA/jVOw/4Bt4D8NILPi8J3gP9dLWFf4bOA/fn7YJJs+4D8jVrHWh0TgPyT+3H6KVOA/CtUYBUs14D87Vq0HvHnfPzCULSYtYeA/hIp9BH++4D/wkNy3dVrgP2TlZl5D7+A/pz/SI5eY4D/MyJ9gKobgP8/nxithhOA/ksVXFMbp4D9EX5fq9qzgPxNfVSSZa+A/nHfaxiPU4D9k5WZeQ+/gP/GfmYli1OA/nW5n0tDw4D/ZQeIBC6rgP0ChzkCyk+A/8Z+ZiWLU4D909DhwcangP3T0OHBxqeA/",
          "dtype": "f8"
         },
         "yaxis": "y"
        },
        {
         "hovertemplate": "name=results_cola_5_30_0.5_3_0_0.02_17<br>train/epoch=%{x}<br>eval/matthews_correlation=%{y}<extra></extra>",
         "legendgroup": "results_cola_5_30_0.5_3_0_0.02_17",
         "line": {
          "color": "#636efa",
          "dash": "solid"
         },
         "marker": {
          "symbol": "circle"
         },
         "mode": "lines",
         "name": "results_cola_5_30_0.5_3_0_0.02_17",
         "orientation": "v",
         "showlegend": true,
         "type": "scatter",
         "x": {
          "bdata": "AQIDBAUGBwgJCgsMDQ4PEBESExQVFhcYGRobHB0eHyAhIiMkJSYnKCkqKywtLi8wMTIy",
          "dtype": "i1"
         },
         "xaxis": "x",
         "y": {
          "bdata": "AAAAAAAAAAAAAAAAAAAAAMS29Rydp8g/QOolPw2Wzz9Bw8w6PyLQPz3wCOVUANU/LjroxqFz3j/K10sc0LPcPyqDslfNQOA/Tb3Kxr343D/goDyiCYXdPxAI6yRsQt8/KxGtbIk74D/7L7Qk0JveP2+e3rAuUuA/TiiQx17a3z84huUFkjPcP3T0OHBxqeA/JvO0WdYU3T/qYbU5T5PgP6+4M1mG898/05mwWVJz3j9VO7dc7AvgP+GxPbC79OA/6aJRZyUS4D/WIKnNZIrgP+feeBEriOA/E19VJJlr4D/CF/sQqrPgP/9W5XcpmuA/CTBdRDuN3z/MCqgiNSDfPygMm8yLRuA/B80Au+MU4T+N12+6eFzgP0soBv0ExOA/pz/SI5eY4D/n3ngRK4jgP32T6GTlr+A/3oATzQbq4D8TX1UkmWvgP9Z5RLCqWOA/uPkPiBDU4D+nP9Ijl5jgP6OfBhuGFeE/pz/SI5eY4D8amP/NhsDgP9VBWD8lv+A/E57o47Oo4D/ZQeIBC6rgP9lB4gELquA/",
          "dtype": "f8"
         },
         "yaxis": "y"
        },
        {
         "hovertemplate": "name=results_cola_5_30_0.5_3_1_0.002_17<br>train/epoch=%{x}<br>eval/matthews_correlation=%{y}<extra></extra>",
         "legendgroup": "results_cola_5_30_0.5_3_1_0.002_17",
         "line": {
          "color": "#EF553B",
          "dash": "solid"
         },
         "marker": {
          "symbol": "circle"
         },
         "mode": "lines",
         "name": "results_cola_5_30_0.5_3_1_0.002_17",
         "orientation": "v",
         "showlegend": true,
         "type": "scatter",
         "x": {
          "bdata": "AQIDBAUGBwgJCgsMDQ4PEBESExQVFhcYGRobHB0eHyAhIiMkJSYnKCkqKywtLi8wMTIy",
          "dtype": "i1"
         },
         "xaxis": "x",
         "y": {
          "bdata": "AAAAAAAAAAAAAAAAAAAAAAAAAAAAAAAAPLu31ZLewT9HRjJvfDTKP81Bc4FGOd4/Mhae79Xr3j9/lOQ8QDzgP9M7yzIoids/zx/AfahZ3T8fKC5pBRbfP4HWbDLgLt8/YdUEqg7P3z8McwSXpwfeP/7x8FuK394/rPcCsRmS3D/xn5mJYtTgP6pif9EITd8/iuo/N9wl4D9/lOQ8QDzgP/wxnXg6i94/h1R1g7ZV4D+NTspqXHLhPwtykCPD0t8/i0+sNvjU3z99tqP6B5PgPwlq1RZUruA/R9zJo0aT4D/HFXNL997gP+feeBEriOA/MhmRZ4UM3z/8DtUju7nfP1tbl/XGqOA/dPQ4cHGp4D/jeu2yub7gPyZicphax+A/09DwGxZX4D/u1c2uHQjhP4zgzkcNk+A/W1uX9cao4D9kTR9Gi8vgP1tbl/XGqOA/OyBPI5XF4D9bW5f1xqjgP8IX+xCqs+A/QhbPwqjC4D+VElsUfH3gPx2aV5DLqOA/QKHOQLKT4D9Aoc5AspPgP0ChzkCyk+A/",
          "dtype": "f8"
         },
         "yaxis": "y"
        },
        {
         "hovertemplate": "name=results_cola_5_30_0.5_3_1_0.01_17<br>train/epoch=%{x}<br>eval/matthews_correlation=%{y}<extra></extra>",
         "legendgroup": "results_cola_5_30_0.5_3_1_0.01_17",
         "line": {
          "color": "#00cc96",
          "dash": "solid"
         },
         "marker": {
          "symbol": "circle"
         },
         "mode": "lines",
         "name": "results_cola_5_30_0.5_3_1_0.01_17",
         "orientation": "v",
         "showlegend": true,
         "type": "scatter",
         "x": {
          "bdata": "AQIDBAUGBwgJCgsMDQ4PEBESExQVFhcYGRobHB0eHyAhIiMkJSYnKCkqKywtLi8wMTIy",
          "dtype": "i1"
         },
         "xaxis": "x",
         "y": {
          "bdata": "AAAAAAAAAAAAAAAAAAAAAAAAAAAAAAAAJRs+fFvYwj9ZsID5ZXTNP28jjA4qct4/Ainw/XxB3z9/lOQ8QDzgPwIxLH+Cyts/zx/AfahZ3T8yFbBxR8ffPzOHgHq4g98/vBfd2Gme3z8N3vd8WOrePzabXHEI1d4/JOLakAkE3D9nbrecZ77gP5FuenFA894/Mk+jiKpo4D9YAEfvpWfgP04Bux9syd0/3yrp/yor4D/4tlYom3XhP0DKLcznDuA/9uDndnME4D8Tnujjs6jgPzsgTyOVxeA/1UFYPyW/4D+N12+6eFzgP+qdWyWdEeA/h8kaOvBF3z+SiU1WluvfP3Tkmw4RaOA/Mk+jiKpo4D8pQlaSvr/gP/uf0eI42+A/E19VJJlr4D+FtP753RvhP2dut5xnvuA/1UFYPyW/4D/WIKnNZIrgPyJzlngA6uA/xxVzS/fe4D9H3MmjRpPgPw0gs+LwneA/l8QgIH/B4D/i5x+6PX3gP/JOT6Fo1OA/lRJbFHx94D+VElsUfH3gP5USWxR8feA/",
          "dtype": "f8"
         },
         "yaxis": "y"
        },
        {
         "hovertemplate": "name=results_cola_5_30_0.5_3_0_0.002_17<br>train/epoch=%{x}<br>eval/matthews_correlation=%{y}<extra></extra>",
         "legendgroup": "results_cola_5_30_0.5_3_0_0.002_17",
         "line": {
          "color": "#ab63fa",
          "dash": "solid"
         },
         "marker": {
          "symbol": "circle"
         },
         "mode": "lines",
         "name": "results_cola_5_30_0.5_3_0_0.002_17",
         "orientation": "v",
         "showlegend": true,
         "type": "scatter",
         "x": {
          "bdata": "AQIDBAUGBwgJCgsMDQ4PEBESExQVFhcYGRobHB0eHyAhIiMkJSYnKCkqKywtLi8wMTIy",
          "dtype": "i1"
         },
         "xaxis": "x",
         "y": {
          "bdata": "AAAAAAAAAAAAAAAAAAAAAGyP0xhvI70/tdUIDV/Zzz+KiMICMfPNP9RS32PJ19Q/RQfYaqI73j/Vy9G2g5vdPyAk+1KBVeA/yd3+96uw3T+WUKMfh+DdP0xtQnsT898/R9zJo0aT4D+HNT4WlhLgPy+kO9rHUuA/W3/OkLMr4D8gVqGP55/dP4nE9gBEfeA/B0UdIA6e3D+iRibWer7gP616vUs+yd8/A/GhQnYQ3j9h92oXMQngP6OY6NhLCuE/T4t8MjQo4D/WeUSwqljgPwL0LvTNguA/JP7cfopU4D8NILPi8J3gPwL0LvTNguA/kolNVpbr3z8Be/D9763fP+feeBEriOA/77iAd5oq4T8NILPi8J3gP9wzfzXRBOE/h1R1g7ZV4D/4QkBewCzgPw0gs+LwneA/kUzzAFr/4D8xyOCypSfgP35+2CSbPuA/SD83a2vq4D8JatUWVK7gP9VBWD8lv+A/jqXjtJBT4D9/lOQ8QDzgP4x3pYTnfeA/1UFYPyW/4D905JsOEWjgP3Tkmw4RaOA/",
          "dtype": "f8"
         },
         "yaxis": "y"
        },
        {
         "hovertemplate": "name=results_cola_5_30_0.5_3_1_0.02_17<br>train/epoch=%{x}<br>eval/matthews_correlation=%{y}<extra></extra>",
         "legendgroup": "results_cola_5_30_0.5_3_1_0.02_17",
         "line": {
          "color": "#FFA15A",
          "dash": "solid"
         },
         "marker": {
          "symbol": "circle"
         },
         "mode": "lines",
         "name": "results_cola_5_30_0.5_3_1_0.02_17",
         "orientation": "v",
         "showlegend": true,
         "type": "scatter",
         "x": {
          "bdata": "AQIDBAUGBwgJCgsMDQ4PEBESExQVFhcYGRobHB0eHyAhIiMkJSYnKCkqKywtLi8wMTIy",
          "dtype": "i1"
         },
         "xaxis": "x",
         "y": {
          "bdata": "AAAAAAAAAAAAAAAAAAAAAPUNe868xLc/JRs+fFvYwj/P8v0NdTHMP2hLLD+87d0/IbLWokBH3z8+rWgHxFHgP8gD8pqEats/6PAvXYbb3T/Z8JGrgZrfP50/ovh//d4/i0+sNvjU3z8yFp7v1evePxC6Q27gM98/S9uuCjuu3D+5xi/ICfPgP+jwL12G290/VFJ9KoF+4D+iCuou1jvgPxc83FtXOt0/r0DLNsc/4D/4tlYom3XhP+nYKmu4kt8/KGtnheh43z++XkmarSXgP6c/0iOXmOA/OAYcpNOq4D/3mfjzgxjgP8/nxithhOA/KITKRxkZ3z/p2CpruJLfPxjyWUJWZ+A/dOSbDhFo4D90LAvKBangP32T6GTlr+A/hDu3IbnM3z99k+hk5a/gP4SKfQR/vuA/ksVXFMbp4D+N12+6eFzgP6JGJtZ6vuA//1bldyma4D8Tnujjs6jgP/bg53ZzBOA/FjTZSm+B4D+iRibWer7gP/JOT6Fo1OA/2UHiAQuq4D/ZQeIBC6rgP9lB4gELquA/",
          "dtype": "f8"
         },
         "yaxis": "y"
        }
       ],
       "layout": {
        "legend": {
         "title": {
          "text": "name"
         },
         "tracegroupgap": 0
        },
        "template": {
         "data": {
          "bar": [
           {
            "error_x": {
             "color": "#2a3f5f"
            },
            "error_y": {
             "color": "#2a3f5f"
            },
            "marker": {
             "line": {
              "color": "#E5ECF6",
              "width": 0.5
             },
             "pattern": {
              "fillmode": "overlay",
              "size": 10,
              "solidity": 0.2
             }
            },
            "type": "bar"
           }
          ],
          "barpolar": [
           {
            "marker": {
             "line": {
              "color": "#E5ECF6",
              "width": 0.5
             },
             "pattern": {
              "fillmode": "overlay",
              "size": 10,
              "solidity": 0.2
             }
            },
            "type": "barpolar"
           }
          ],
          "carpet": [
           {
            "aaxis": {
             "endlinecolor": "#2a3f5f",
             "gridcolor": "white",
             "linecolor": "white",
             "minorgridcolor": "white",
             "startlinecolor": "#2a3f5f"
            },
            "baxis": {
             "endlinecolor": "#2a3f5f",
             "gridcolor": "white",
             "linecolor": "white",
             "minorgridcolor": "white",
             "startlinecolor": "#2a3f5f"
            },
            "type": "carpet"
           }
          ],
          "choropleth": [
           {
            "colorbar": {
             "outlinewidth": 0,
             "ticks": ""
            },
            "type": "choropleth"
           }
          ],
          "contour": [
           {
            "colorbar": {
             "outlinewidth": 0,
             "ticks": ""
            },
            "colorscale": [
             [
              0,
              "#0d0887"
             ],
             [
              0.1111111111111111,
              "#46039f"
             ],
             [
              0.2222222222222222,
              "#7201a8"
             ],
             [
              0.3333333333333333,
              "#9c179e"
             ],
             [
              0.4444444444444444,
              "#bd3786"
             ],
             [
              0.5555555555555556,
              "#d8576b"
             ],
             [
              0.6666666666666666,
              "#ed7953"
             ],
             [
              0.7777777777777778,
              "#fb9f3a"
             ],
             [
              0.8888888888888888,
              "#fdca26"
             ],
             [
              1,
              "#f0f921"
             ]
            ],
            "type": "contour"
           }
          ],
          "contourcarpet": [
           {
            "colorbar": {
             "outlinewidth": 0,
             "ticks": ""
            },
            "type": "contourcarpet"
           }
          ],
          "heatmap": [
           {
            "colorbar": {
             "outlinewidth": 0,
             "ticks": ""
            },
            "colorscale": [
             [
              0,
              "#0d0887"
             ],
             [
              0.1111111111111111,
              "#46039f"
             ],
             [
              0.2222222222222222,
              "#7201a8"
             ],
             [
              0.3333333333333333,
              "#9c179e"
             ],
             [
              0.4444444444444444,
              "#bd3786"
             ],
             [
              0.5555555555555556,
              "#d8576b"
             ],
             [
              0.6666666666666666,
              "#ed7953"
             ],
             [
              0.7777777777777778,
              "#fb9f3a"
             ],
             [
              0.8888888888888888,
              "#fdca26"
             ],
             [
              1,
              "#f0f921"
             ]
            ],
            "type": "heatmap"
           }
          ],
          "histogram": [
           {
            "marker": {
             "pattern": {
              "fillmode": "overlay",
              "size": 10,
              "solidity": 0.2
             }
            },
            "type": "histogram"
           }
          ],
          "histogram2d": [
           {
            "colorbar": {
             "outlinewidth": 0,
             "ticks": ""
            },
            "colorscale": [
             [
              0,
              "#0d0887"
             ],
             [
              0.1111111111111111,
              "#46039f"
             ],
             [
              0.2222222222222222,
              "#7201a8"
             ],
             [
              0.3333333333333333,
              "#9c179e"
             ],
             [
              0.4444444444444444,
              "#bd3786"
             ],
             [
              0.5555555555555556,
              "#d8576b"
             ],
             [
              0.6666666666666666,
              "#ed7953"
             ],
             [
              0.7777777777777778,
              "#fb9f3a"
             ],
             [
              0.8888888888888888,
              "#fdca26"
             ],
             [
              1,
              "#f0f921"
             ]
            ],
            "type": "histogram2d"
           }
          ],
          "histogram2dcontour": [
           {
            "colorbar": {
             "outlinewidth": 0,
             "ticks": ""
            },
            "colorscale": [
             [
              0,
              "#0d0887"
             ],
             [
              0.1111111111111111,
              "#46039f"
             ],
             [
              0.2222222222222222,
              "#7201a8"
             ],
             [
              0.3333333333333333,
              "#9c179e"
             ],
             [
              0.4444444444444444,
              "#bd3786"
             ],
             [
              0.5555555555555556,
              "#d8576b"
             ],
             [
              0.6666666666666666,
              "#ed7953"
             ],
             [
              0.7777777777777778,
              "#fb9f3a"
             ],
             [
              0.8888888888888888,
              "#fdca26"
             ],
             [
              1,
              "#f0f921"
             ]
            ],
            "type": "histogram2dcontour"
           }
          ],
          "mesh3d": [
           {
            "colorbar": {
             "outlinewidth": 0,
             "ticks": ""
            },
            "type": "mesh3d"
           }
          ],
          "parcoords": [
           {
            "line": {
             "colorbar": {
              "outlinewidth": 0,
              "ticks": ""
             }
            },
            "type": "parcoords"
           }
          ],
          "pie": [
           {
            "automargin": true,
            "type": "pie"
           }
          ],
          "scatter": [
           {
            "fillpattern": {
             "fillmode": "overlay",
             "size": 10,
             "solidity": 0.2
            },
            "type": "scatter"
           }
          ],
          "scatter3d": [
           {
            "line": {
             "colorbar": {
              "outlinewidth": 0,
              "ticks": ""
             }
            },
            "marker": {
             "colorbar": {
              "outlinewidth": 0,
              "ticks": ""
             }
            },
            "type": "scatter3d"
           }
          ],
          "scattercarpet": [
           {
            "marker": {
             "colorbar": {
              "outlinewidth": 0,
              "ticks": ""
             }
            },
            "type": "scattercarpet"
           }
          ],
          "scattergeo": [
           {
            "marker": {
             "colorbar": {
              "outlinewidth": 0,
              "ticks": ""
             }
            },
            "type": "scattergeo"
           }
          ],
          "scattergl": [
           {
            "marker": {
             "colorbar": {
              "outlinewidth": 0,
              "ticks": ""
             }
            },
            "type": "scattergl"
           }
          ],
          "scattermap": [
           {
            "marker": {
             "colorbar": {
              "outlinewidth": 0,
              "ticks": ""
             }
            },
            "type": "scattermap"
           }
          ],
          "scattermapbox": [
           {
            "marker": {
             "colorbar": {
              "outlinewidth": 0,
              "ticks": ""
             }
            },
            "type": "scattermapbox"
           }
          ],
          "scatterpolar": [
           {
            "marker": {
             "colorbar": {
              "outlinewidth": 0,
              "ticks": ""
             }
            },
            "type": "scatterpolar"
           }
          ],
          "scatterpolargl": [
           {
            "marker": {
             "colorbar": {
              "outlinewidth": 0,
              "ticks": ""
             }
            },
            "type": "scatterpolargl"
           }
          ],
          "scatterternary": [
           {
            "marker": {
             "colorbar": {
              "outlinewidth": 0,
              "ticks": ""
             }
            },
            "type": "scatterternary"
           }
          ],
          "surface": [
           {
            "colorbar": {
             "outlinewidth": 0,
             "ticks": ""
            },
            "colorscale": [
             [
              0,
              "#0d0887"
             ],
             [
              0.1111111111111111,
              "#46039f"
             ],
             [
              0.2222222222222222,
              "#7201a8"
             ],
             [
              0.3333333333333333,
              "#9c179e"
             ],
             [
              0.4444444444444444,
              "#bd3786"
             ],
             [
              0.5555555555555556,
              "#d8576b"
             ],
             [
              0.6666666666666666,
              "#ed7953"
             ],
             [
              0.7777777777777778,
              "#fb9f3a"
             ],
             [
              0.8888888888888888,
              "#fdca26"
             ],
             [
              1,
              "#f0f921"
             ]
            ],
            "type": "surface"
           }
          ],
          "table": [
           {
            "cells": {
             "fill": {
              "color": "#EBF0F8"
             },
             "line": {
              "color": "white"
             }
            },
            "header": {
             "fill": {
              "color": "#C8D4E3"
             },
             "line": {
              "color": "white"
             }
            },
            "type": "table"
           }
          ]
         },
         "layout": {
          "annotationdefaults": {
           "arrowcolor": "#2a3f5f",
           "arrowhead": 0,
           "arrowwidth": 1
          },
          "autotypenumbers": "strict",
          "coloraxis": {
           "colorbar": {
            "outlinewidth": 0,
            "ticks": ""
           }
          },
          "colorscale": {
           "diverging": [
            [
             0,
             "#8e0152"
            ],
            [
             0.1,
             "#c51b7d"
            ],
            [
             0.2,
             "#de77ae"
            ],
            [
             0.3,
             "#f1b6da"
            ],
            [
             0.4,
             "#fde0ef"
            ],
            [
             0.5,
             "#f7f7f7"
            ],
            [
             0.6,
             "#e6f5d0"
            ],
            [
             0.7,
             "#b8e186"
            ],
            [
             0.8,
             "#7fbc41"
            ],
            [
             0.9,
             "#4d9221"
            ],
            [
             1,
             "#276419"
            ]
           ],
           "sequential": [
            [
             0,
             "#0d0887"
            ],
            [
             0.1111111111111111,
             "#46039f"
            ],
            [
             0.2222222222222222,
             "#7201a8"
            ],
            [
             0.3333333333333333,
             "#9c179e"
            ],
            [
             0.4444444444444444,
             "#bd3786"
            ],
            [
             0.5555555555555556,
             "#d8576b"
            ],
            [
             0.6666666666666666,
             "#ed7953"
            ],
            [
             0.7777777777777778,
             "#fb9f3a"
            ],
            [
             0.8888888888888888,
             "#fdca26"
            ],
            [
             1,
             "#f0f921"
            ]
           ],
           "sequentialminus": [
            [
             0,
             "#0d0887"
            ],
            [
             0.1111111111111111,
             "#46039f"
            ],
            [
             0.2222222222222222,
             "#7201a8"
            ],
            [
             0.3333333333333333,
             "#9c179e"
            ],
            [
             0.4444444444444444,
             "#bd3786"
            ],
            [
             0.5555555555555556,
             "#d8576b"
            ],
            [
             0.6666666666666666,
             "#ed7953"
            ],
            [
             0.7777777777777778,
             "#fb9f3a"
            ],
            [
             0.8888888888888888,
             "#fdca26"
            ],
            [
             1,
             "#f0f921"
            ]
           ]
          },
          "colorway": [
           "#636efa",
           "#EF553B",
           "#00cc96",
           "#ab63fa",
           "#FFA15A",
           "#19d3f3",
           "#FF6692",
           "#B6E880",
           "#FF97FF",
           "#FECB52"
          ],
          "font": {
           "color": "#2a3f5f"
          },
          "geo": {
           "bgcolor": "white",
           "lakecolor": "white",
           "landcolor": "#E5ECF6",
           "showlakes": true,
           "showland": true,
           "subunitcolor": "white"
          },
          "hoverlabel": {
           "align": "left"
          },
          "hovermode": "closest",
          "mapbox": {
           "style": "light"
          },
          "paper_bgcolor": "white",
          "plot_bgcolor": "#E5ECF6",
          "polar": {
           "angularaxis": {
            "gridcolor": "white",
            "linecolor": "white",
            "ticks": ""
           },
           "bgcolor": "#E5ECF6",
           "radialaxis": {
            "gridcolor": "white",
            "linecolor": "white",
            "ticks": ""
           }
          },
          "scene": {
           "xaxis": {
            "backgroundcolor": "#E5ECF6",
            "gridcolor": "white",
            "gridwidth": 2,
            "linecolor": "white",
            "showbackground": true,
            "ticks": "",
            "zerolinecolor": "white"
           },
           "yaxis": {
            "backgroundcolor": "#E5ECF6",
            "gridcolor": "white",
            "gridwidth": 2,
            "linecolor": "white",
            "showbackground": true,
            "ticks": "",
            "zerolinecolor": "white"
           },
           "zaxis": {
            "backgroundcolor": "#E5ECF6",
            "gridcolor": "white",
            "gridwidth": 2,
            "linecolor": "white",
            "showbackground": true,
            "ticks": "",
            "zerolinecolor": "white"
           }
          },
          "shapedefaults": {
           "line": {
            "color": "#2a3f5f"
           }
          },
          "ternary": {
           "aaxis": {
            "gridcolor": "white",
            "linecolor": "white",
            "ticks": ""
           },
           "baxis": {
            "gridcolor": "white",
            "linecolor": "white",
            "ticks": ""
           },
           "bgcolor": "#E5ECF6",
           "caxis": {
            "gridcolor": "white",
            "linecolor": "white",
            "ticks": ""
           }
          },
          "title": {
           "x": 0.05
          },
          "xaxis": {
           "automargin": true,
           "gridcolor": "white",
           "linecolor": "white",
           "ticks": "",
           "title": {
            "standoff": 15
           },
           "zerolinecolor": "white",
           "zerolinewidth": 2
          },
          "yaxis": {
           "automargin": true,
           "gridcolor": "white",
           "linecolor": "white",
           "ticks": "",
           "title": {
            "standoff": 15
           },
           "zerolinecolor": "white",
           "zerolinewidth": 2
          }
         }
        },
        "title": {
         "text": "eval/matthews_correlation Over train/epoch"
        },
        "xaxis": {
         "anchor": "y",
         "domain": [
          0,
          1
         ],
         "title": {
          "text": "train/epoch"
         }
        },
        "yaxis": {
         "anchor": "x",
         "domain": [
          0,
          1
         ],
         "title": {
          "text": "eval/matthews_correlation"
         }
        }
       }
      }
     },
     "metadata": {},
     "output_type": "display_data"
    }
   ],
   "source": [
    "fetch_and_plot_wandb_runs(\n",
    "    entity=\"mallahova\",\n",
    "    project=\"adalora_memory_to_double_memory_3_5\",\n",
    "    metric=\"eval/matthews_correlation\",\n",
    "    x_axis=\"train/epoch\",\n",
    "    interactive=INTERACTIVE_CHARTS,\n",
    ")"
   ]
  }
 ],
 "metadata": {
  "kernelspec": {
   "display_name": "loraxs",
   "language": "python",
   "name": "python3"
  },
  "language_info": {
   "codemirror_mode": {
    "name": "ipython",
    "version": 3
   },
   "file_extension": ".py",
   "mimetype": "text/x-python",
   "name": "python",
   "nbconvert_exporter": "python",
   "pygments_lexer": "ipython3",
   "version": "3.8.13"
  }
 },
 "nbformat": 4,
 "nbformat_minor": 4
}
