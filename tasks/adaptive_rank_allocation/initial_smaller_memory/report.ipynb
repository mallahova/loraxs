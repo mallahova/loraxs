{
 "cells": [
  {
   "cell_type": "code",
   "execution_count": null,
   "metadata": {
    "jupyter": {
     "source_hidden": true
    }
   },
   "outputs": [],
   "source": [
    "import wandb\n",
    "import re\n",
    "import matplotlib.pyplot as plt\n",
    "import numpy as np\n",
    "import pandas as pd\n",
    "import matplotlib.patches as mpatches\n",
    "from tabulate import tabulate\n",
    "from collections import defaultdict\n",
    "from IPython.display import Markdown, display\n",
    "import csv\n",
    "import os\n",
    "import plotly.express as px\n"
   ]
  },
  {
   "cell_type": "code",
   "execution_count": 2,
   "metadata": {
    "jupyter": {
     "source_hidden": true
    }
   },
   "outputs": [],
   "source": [
    "def get_results(project:str, entity:str, starts_with=\"\", epoch_start=0):\n",
    "    api = wandb.Api()\n",
    "    runs = api.runs(f\"{entity}/{project}\")\n",
    "    run_max_metrics = []\n",
    "    for run in runs:\n",
    "        if run.name.startswith(starts_with):\n",
    "            # Extract seed and history\n",
    "            seed = run.config.get(\"seed\", \"N/A\")\n",
    "            run_history = run.history()\n",
    "            rank_metrics = \"eval/matthews_correlation\"\n",
    "\n",
    "            # Regex pattern to parse run name\n",
    "            pattern = r\"results_(?P<task>[a-zA-Z0-9]+)_(?P<rank_min>[\\d.]+)_(?P<rank_max>[\\d.]+)_(?P<alpha_min>[\\d.]+)_(?P<alpha_max>[\\d.]+)_(?P<seed>\\d+)_(?P<lr>[\\d.eE+-]+)_(?P<rank_avg>[\\d.]+)\"\n",
    "            match = re.match(pattern, run.name)\n",
    "\n",
    "            if match and rank_metrics:\n",
    "                # Extract components from the run name\n",
    "                task = match.group(\"task\")\n",
    "                rank_min = float(match.group(\"rank_min\"))\n",
    "                rank_max = float(match.group(\"rank_max\"))\n",
    "                alpha_min = float(match.group(\"alpha_min\"))\n",
    "                alpha_max = float(match.group(\"alpha_max\"))\n",
    "                seed = int(match.group(\"seed\"))\n",
    "                rank_allocation_learning_rate = float(match.group(\"lr\"))\n",
    "                rank_average = float(match.group(\"rank_avg\"))\n",
    "\n",
    "                # Get the overall max of the rank metrics\n",
    "                overall_max = run.history(keys=[rank_metrics])[rank_metrics][epoch_start:].max() * 100\n",
    "\n",
    "                # Append parsed data to run_max_metrics\n",
    "                run_max_metrics.append({\n",
    "                    \"run_name\": run.name,\n",
    "                    \"task\": task,\n",
    "                    \"rank_min\": rank_min,\n",
    "                    \"rank_max\": rank_max,\n",
    "                    \"alpha_min\": alpha_min,\n",
    "                    \"alpha_max\": alpha_max,\n",
    "                    \"rank_allocation_learning_rate\": rank_allocation_learning_rate,\n",
    "                    \"rank_average\": rank_average,\n",
    "                    \"seed\": seed,\n",
    "                    \"overall_max\": overall_max\n",
    "                })\n",
    "    return sorted(run_max_metrics, key=lambda x: x[\"overall_max\"], reverse=True)"
   ]
  },
  {
   "cell_type": "code",
   "execution_count": 3,
   "metadata": {
    "jupyter": {
     "source_hidden": true
    }
   },
   "outputs": [],
   "source": [
    "def print_results(run_max_metrics):\n",
    "    # Create the table header\n",
    "    table = \"| Run Name | Task | Rank Min | Rank Max | Rank Allocation Learning Rate | Rank Average | Alpha Min | Alpha Max | Seed | Overall Max |\\n\"\n",
    "    table += \"|----------|------|----------|----------|--------------------------------|--------------|-----------|-----------|------|-------------|\\n\"\n",
    "    \n",
    "    # Add rows\n",
    "    for result in run_max_metrics:\n",
    "        row = (\n",
    "            f\"| {result['run_name']} \"\n",
    "            f\"| {result['task']} \"\n",
    "            f\"| {result['rank_min']} \"\n",
    "            f\"| {result['rank_max']} \"\n",
    "            f\"| {result['rank_allocation_learning_rate']} \"\n",
    "            f\"| {result['rank_average']} \"\n",
    "            f\"| {result['alpha_min']} \"\n",
    "            f\"| {result['alpha_max']} \"\n",
    "            f\"| {result['seed']} \"\n",
    "            f\"| {result['overall_max']:.2f} |\"\n",
    "        )\n",
    "        table += row + \"\\n\"\n",
    "    \n",
    "    # Render as Markdown\n",
    "    display(Markdown(table))"
   ]
  },
  {
   "cell_type": "code",
   "execution_count": 4,
   "metadata": {
    "jupyter": {
     "source_hidden": true
    }
   },
   "outputs": [],
   "source": [
    "def print_stats(run_max_metrics, project):\n",
    "\n",
    "    # Group runs by parameters excluding seed\n",
    "    groups = defaultdict(list)\n",
    "    for run in run_max_metrics:\n",
    "        key = (\n",
    "            run['task'],\n",
    "            run['rank_min'],\n",
    "            run['rank_max'],\n",
    "            run['alpha_min'],\n",
    "            run['alpha_max'],\n",
    "            run['rank_allocation_learning_rate'],\n",
    "            run['rank_average']\n",
    "        )\n",
    "        groups[key].append(run['overall_max'])\n",
    "\n",
    "    # Calculate median and std for each group\n",
    "    group_stats = []\n",
    "    for key, values in groups.items():\n",
    "        med = np.median(values)\n",
    "        std = np.std(values, ddof=1) if len(values) > 1 else 0.0\n",
    "        group_stats.append({\n",
    "            'task': key[0],\n",
    "            'rank_min': key[1],\n",
    "            'rank_max': key[2],\n",
    "            'alpha_min': key[3],\n",
    "            'alpha_max': key[4],\n",
    "            'lr': key[5],\n",
    "            'rank_avg': key[6],\n",
    "            'median': med,\n",
    "            'std': std\n",
    "        })\n",
    "\n",
    "    # Sort by median in descending order\n",
    "    sorted_group_stats = sorted(group_stats, key=lambda x: x['median'], reverse=True)\n",
    "\n",
    "    # Prepare table headers and rows\n",
    "    headers = [\"Task\", \"Rank Min\", \"Rank Max\", \"Alpha Min\", \"Alpha Max\", \"LR\", \"Rank Avg\", \"Median ± Std\"]\n",
    "    rows = []\n",
    "    for stats in sorted_group_stats:\n",
    "        med_std_str = f\"{stats['median']:.2f} ± {stats['std']:.2f}\"\n",
    "        rows.append([\n",
    "            stats['task'],\n",
    "            stats['rank_min'],\n",
    "            stats['rank_max'],\n",
    "            stats['alpha_min'],\n",
    "            stats['alpha_max'],\n",
    "            stats['lr'],\n",
    "            stats['rank_avg'],\n",
    "            med_std_str\n",
    "        ])\n",
    "\n",
    "    # Print the table\n",
    "    markdown_table = tabulate(rows, headers=headers, tablefmt=\"pipe\")\n",
    "    display(Markdown(markdown_table))\n",
    "    print()\n",
    "    csv_filename = \"initializations_l_r_results.csv\"\n",
    "\n",
    "    file_exists = os.path.exists(csv_filename)\n",
    "    if project=='adaptive_rank_allocation': return\n",
    "    with open(csv_filename, mode='a', newline='') as file:\n",
    "        writer = csv.writer(file)\n",
    "        \n",
    "        if not file_exists:\n",
    "            writer.writerow([\"Project\"] + headers)\n",
    "        \n",
    "        for row in rows:\n",
    "            writer.writerow([project] + row)"
   ]
  },
  {
   "cell_type": "code",
   "execution_count": 5,
   "metadata": {
    "jupyter": {
     "source_hidden": true
    }
   },
   "outputs": [],
   "source": [
    "def plot_results(run_max_metrics: str):\n",
    "    run_names = [result['run_name'] for result in run_max_metrics]\n",
    "    overall_max = [result['overall_max'] for result in run_max_metrics]\n",
    "    learning_rates = [result['rank_allocation_learning_rate'] for result in run_max_metrics]\n",
    "\n",
    "    # Define baseline and its error\n",
    "    baseline_median = 68.08\n",
    "    baseline_std = 1.21\n",
    "\n",
    "    # Assign colors based on unique learning rates\n",
    "    unique_lrs = sorted(set(learning_rates))\n",
    "    color_map = {lr: plt.cm.tab10(i % 10) for i, lr in enumerate(unique_lrs)}\n",
    "    colors = [color_map[lr] for lr in learning_rates]\n",
    "\n",
    "    # Plotting the bar plot\n",
    "    plt.figure(figsize=(20, 6))\n",
    "    bar_positions = np.arange(len(run_names))\n",
    "    plt.bar(bar_positions, overall_max, color=colors, edgecolor='black')\n",
    "\n",
    "    rank_25_median = 68.55\n",
    "    rank_25_std = 0.81\n",
    "\n",
    "    # Add baselines with shading for std\n",
    "    plt.axhline(baseline_median, color='red', linestyle='--', label='Baseline for r=20')\n",
    "    plt.axhline(rank_25_median, color='black', linestyle='--', label='Baseline for r=25')\n",
    "\n",
    "    plt.fill_between(bar_positions, baseline_median - baseline_std, baseline_median + baseline_std, color='red', alpha=0.2, label='Baseline (r=20) ± std')\n",
    "    plt.fill_between(bar_positions, rank_25_median - rank_25_std, rank_25_median + rank_25_std, color='black', alpha=0.1, label='Baseline (r=25) ± std')\n",
    "\n",
    "    # Adding labels and legend\n",
    "    plt.xticks(bar_positions, bar_positions, rotation=90)\n",
    "    plt.xlabel('Run Names')\n",
    "    plt.ylabel('Overall Max')\n",
    "    plt.title('Overall Max Metrics by Run')\n",
    "\n",
    "    # Create legend for learning rates\n",
    "    legend_elements = [plt.Line2D([0], [0], marker='o', color='w', label=f'LR: {lr}', markerfacecolor=color_map[lr], markersize=10) for lr in unique_lrs]\n",
    "    plt.legend(handles=legend_elements + [plt.Line2D([0], [0], color='red', linestyle='--', label='Baseline for r=20'),\n",
    "                                           plt.Line2D([0], [0], color='black', linestyle='--', label='Baseline for r=25')],\n",
    "               loc='upper left', bbox_to_anchor=(1, 1), title=\"Legend\")\n",
    "    plt.ylim(50, 70)  # Adjust the upper limit if needed\n",
    "\n",
    "    plt.tight_layout()\n",
    "    plt.show()\n",
    "\n"
   ]
  },
  {
   "cell_type": "code",
   "execution_count": 6,
   "metadata": {
    "jupyter": {
     "source_hidden": true
    }
   },
   "outputs": [],
   "source": [
    "def plot_rank_distribution(project: str, entity: str, run_name: str):\n",
    "    # Load layer names from CSV\n",
    "    layer_names_df = pd.read_csv('assets/layer_names.csv')\n",
    "    \n",
    "    # Parse component types and layer numbers from layer names\n",
    "    component_types = []\n",
    "    layer_nums = []\n",
    "    for name in layer_names_df['Layer Name']:\n",
    "        parts = name.split('encoder.layer.')\n",
    "        after_encoder = parts[1].split('.')\n",
    "        layer_num = int(after_encoder[0])\n",
    "        layer_nums.append(layer_num)\n",
    "        subparts = after_encoder[1:]\n",
    "        if subparts[0] == 'attention':\n",
    "            if subparts[1] == 'self':\n",
    "                component = subparts[2]  # 'query' or 'value'\n",
    "            elif subparts[1] == 'output':\n",
    "                component = 'attention_output'\n",
    "        elif subparts[0] == 'output':\n",
    "            component = 'output'\n",
    "        component_types.append(component)\n",
    "    \n",
    "    # Define colors for each component type\n",
    "    component_colors = {\n",
    "        'query': 'cornflowerblue',    # Muted blue\n",
    "        'value': 'salmon',            # Soft orange\n",
    "        'attention_output': 'mediumseagreen',  # Natural green\n",
    "        'output': 'mediumorchid'      # Muted purple\n",
    "    }\n",
    "    \n",
    "    # Fetch data from wandb\n",
    "    api = wandb.Api()\n",
    "    runs = api.runs(f\"{entity}/{project}\")\n",
    "    run = next(run for run in runs if run.name == run_name)\n",
    "    rank_metrics = \"eval/matthews_correlation\"\n",
    "    keys = [rank_metrics, '_step']\n",
    "    history = run.scan_history(keys=keys, page_size=1000)\n",
    "    history_df = pd.DataFrame(history)\n",
    "    \n",
    "    max_correlation = history_df[rank_metrics].max()\n",
    "    max_step = history_df.loc[history_df[rank_metrics].idxmax(), '_step']\n",
    "    \n",
    "    rank_allocation_keys = [f'train/rank_allocation_{i}' for i in range(0, 96)]\n",
    "    step_data = run.scan_history(keys=['_step'] + rank_allocation_keys, page_size=1000)\n",
    "    step_data_df = pd.DataFrame(step_data)\n",
    "    step_values = step_data_df[(step_data_df['_step'] >= max_step - 3)]\n",
    "    \n",
    "    # Prepare data for plotting\n",
    "    values = step_values[rank_allocation_keys].values[0]\n",
    "    colors = [component_colors[ct] for ct in component_types]\n",
    "    \n",
    "    # Create the plot\n",
    "    plt.figure(figsize=(20, 6))\n",
    "    plt.bar(range(96), values, color=colors)\n",
    "    \n",
    "    # Add vertical lines to separate layers\n",
    "    for i in range(24):\n",
    "        x_pos = (i + 1) * 4 - 0.5\n",
    "        plt.axvline(x=x_pos, color='gray', linestyle='--', linewidth=0.5)\n",
    "    \n",
    "    # Set x-ticks to layer numbers\n",
    "    plt.xticks([i * 4 + 1.5 for i in range(24)], [str(i) for i in range(24)])\n",
    "    plt.xlabel('Layer Number')\n",
    "    \n",
    "    # Create legend\n",
    "    patches = [mpatches.Patch(color=color, label=label) for label, color in component_colors.items()]\n",
    "    plt.legend(handles=patches, title='Component Type', bbox_to_anchor=(1.05, 1), loc='upper left')\n",
    "    \n",
    "    plt.title(f\"Max Matthews correlation: {max_correlation} at step: {max_step} for run: {run_name}\")\n",
    "    plt.tight_layout()\n",
    "    plt.show()\n",
    "    return values, component_types"
   ]
  },
  {
   "cell_type": "code",
   "execution_count": 7,
   "metadata": {
    "jupyter": {
     "source_hidden": true
    }
   },
   "outputs": [],
   "source": [
    "def plot_rank_allocation_by_component_type(values, component_types):\n",
    "    \"\"\"\n",
    "    Plot a separate line for each component type based on rank allocation values.\n",
    "    \n",
    "    Assumes that the input lists are ordered so that every 4 consecutive values correspond to one layer.\n",
    "    \n",
    "    Parameters:\n",
    "        values (list or np.array): Rank allocation values (e.g., length 96 for 24 layers).\n",
    "        component_types (list of str): Component type for each value (e.g., 'query', 'value', etc.).\n",
    "    \"\"\"\n",
    "\n",
    "    n = len(values)\n",
    "    # Compute layer numbers assuming each layer has 4 components\n",
    "    layers = np.array([i // 4 for i in range(n)])\n",
    "\n",
    "    # Group values by component type\n",
    "    data_by_type = {}\n",
    "    for i, comp in enumerate(component_types):\n",
    "        if comp not in data_by_type:\n",
    "            data_by_type[comp] = {'layers': [], 'values': []}\n",
    "        data_by_type[comp]['layers'].append(layers[i])\n",
    "        data_by_type[comp]['values'].append(values[i])\n",
    "\n",
    "    # Define colors for each component type (adjust if needed)\n",
    "    component_colors = {\n",
    "        'query': 'cornflowerblue',\n",
    "        'value': 'salmon',\n",
    "        'attention_output': 'mediumseagreen',\n",
    "        'output': 'mediumorchid'\n",
    "    }\n",
    "\n",
    "    plt.figure(figsize=(20, 6))\n",
    "    for comp, data in data_by_type.items():\n",
    "        # Convert lists to numpy arrays and sort by layer number\n",
    "        x = np.array(data['layers'])\n",
    "        y = np.array(data['values'])\n",
    "        sort_idx = np.argsort(x)\n",
    "        x, y = x[sort_idx], y[sort_idx]\n",
    "        plt.plot(x, y, marker='o', label=comp, color=component_colors.get(comp, 'black'))\n",
    "\n",
    "    plt.xlabel(\"Layer Number\")\n",
    "    plt.ylabel(\"Rank Allocation Value\")\n",
    "    plt.title(\"Rank Allocation by Component Type\")\n",
    "    plt.legend(title=\"Component Type\",loc='upper left')\n",
    "    plt.grid(True)\n",
    "    plt.tight_layout()\n",
    "    plt.show()\n"
   ]
  },
  {
   "cell_type": "code",
   "execution_count": 8,
   "metadata": {
    "jupyter": {
     "source_hidden": true
    }
   },
   "outputs": [],
   "source": [
    "def display_project_stats(project:str, entity:str, starts_with=\"\", epoch_start=0 ):\n",
    "   run_max_metrics=get_results(project=project, entity=entity, starts_with=starts_with, epoch_start=epoch_start)\n",
    "   print_stats(run_max_metrics, project)\n",
    "   plot_results(run_max_metrics)\n",
    "   best_run = max(run_max_metrics, key=lambda x: x[\"overall_max\"])\n",
    "   # values, component_types=plot_rank_distribution(project=project, entity=entity, run_name=best_run['run_name'])\n",
    "   # plot_rank_allocation_by_component_type(values, component_types)\n",
    "   # # print_results(run_max_metrics)\n",
    "\n"
   ]
  },
  {
   "cell_type": "markdown",
   "metadata": {},
   "source": [
    "<!-- ### Uniform initialization (r=20 for every parameter matrix), grid search over learning rates and rank ranges, only 1 run for each learning rate -->"
   ]
  },
  {
   "cell_type": "code",
   "execution_count": null,
   "metadata": {
    "jupyter": {
     "source_hidden": true
    }
   },
   "outputs": [],
   "source": [
    "def fetch_and_plot_wandb_runs(entity, project, metric=\"loss\", x_axis=\"step\", interactive=False, num_runs=None):\n",
    "    \"\"\"\n",
    "    Fetches completed runs from a WandB project and plots the specified metric.\n",
    "    \n",
    "    :param entity: str, WandB entity (username or team name)\n",
    "    :param project: str, WandB project name\n",
    "    :param metric: str, the metric to plot (e.g., \"loss\", \"accuracy\")\n",
    "    :param x_axis: str, the x-axis parameter (default: \"step\")\n",
    "    :param interactive: bool, if True, uses Plotly for interactive plots; otherwise, uses Matplotlib.\n",
    "    :param num_runs: int, optional, number of runs to fetch (default: all runs)\n",
    "    \"\"\"\n",
    "    api = wandb.Api()\n",
    "    runs = api.runs(f\"{entity}/{project}\")\n",
    "    \n",
    "    # Limit the number of runs if specified\n",
    "    if num_runs:\n",
    "        runs = runs[:num_runs]\n",
    "    \n",
    "    # Collect run data\n",
    "    data = []\n",
    "    for run in runs:\n",
    "        history = run.history(keys=[x_axis, metric])  # Fetch only necessary metric\n",
    "        if not history.empty:\n",
    "            history[\"run_id\"] = run.id\n",
    "            history[\"name\"] = run.name  # Keep track of run names\n",
    "            data.append(history)\n",
    "    \n",
    "    if not data:\n",
    "        print(\"No data found for the specified project and metric.\")\n",
    "        return\n",
    "    \n",
    "    # Combine all runs into a single DataFrame\n",
    "    df = pd.concat(data)\n",
    "    \n",
    "    if interactive:\n",
    "        fig = px.line(df, x=x_axis, y=metric, color=\"name\", title=f\"{metric} Over {x_axis}\")\n",
    "        fig.show()\n",
    "    else:\n",
    "        plt.figure(figsize=(10, 5))\n",
    "        for run_id in df[\"run_id\"].unique():\n",
    "            run_data = df[df[\"run_id\"] == run_id]\n",
    "            plt.plot(run_data[x_axis], run_data[metric], label=f\"Run {run_data['name'].iloc[0]}\")\n",
    "        \n",
    "        plt.xlabel(x_axis.capitalize())\n",
    "        plt.ylabel(metric.capitalize())\n",
    "        plt.title(f\"{metric.capitalize()} over {x_axis.capitalize()} (Multiple Runs)\")\n",
    "        plt.legend()\n",
    "        plt.grid()\n",
    "        plt.show()\n"
   ]
  },
  {
   "cell_type": "markdown",
   "metadata": {},
   "source": [
    "# Smaller to biger memory on CoLA Report"
   ]
  },
  {
   "cell_type": "markdown",
   "metadata": {},
   "source": [
    "Initial memory is two times smaller than memory for average rank of 25 for epochs 0-2, then it grows linearly on epochs 3-7 and stabilized at memory that is average for rank of 25 on epochs 8-49.  rank_allocation_weights initialized to random, same scheduling, discrete rank on the last epoch.\n",
    "\n",
    "\n",
    "Script:\n",
    "```bash\n",
    "python scripts/run_glue_adaptive.py --target_task cola --wandb_disabled False  --seed $SEED --rank_allocation_lr $rank_allocation_lr --epoch 50  --rank_min 5 --rank_max 30 --memory_start 30000 --memory_end 60000 --epochs_memory_start 3 --epochs_memory_start_to_end 5 --epochs_rank_discrete 1 \n",
    "```"
   ]
  },
  {
   "cell_type": "code",
   "execution_count": 10,
   "metadata": {
    "jupyter": {
     "source_hidden": true
    }
   },
   "outputs": [
    {
     "data": {
      "text/markdown": [
       "| Task   |   Rank Min |   Rank Max |   Alpha Min |   Alpha Max |    LR |   Rank Avg | Median ± Std   |\n",
       "|:-------|-----------:|-----------:|------------:|------------:|------:|-----------:|:---------------|\n",
       "| cola   |          5 |         30 |         0.5 |           3 | 0.002 |         17 | 53.65 ± 0.45   |\n",
       "| cola   |          5 |         30 |         0.5 |           3 | 0.02  |         17 | 53.23 ± 0.75   |\n",
       "| cola   |          5 |         30 |         0.5 |           3 | 0.01  |         17 | 53.12 ± 0.67   |"
      ],
      "text/plain": [
       "<IPython.core.display.Markdown object>"
      ]
     },
     "metadata": {},
     "output_type": "display_data"
    },
    {
     "name": "stdout",
     "output_type": "stream",
     "text": [
      "\n"
     ]
    },
    {
     "data": {
      "image/png": "[encoded data removed]",
      "text/plain": [
       "<Figure size 2000x600 with 1 Axes>"
      ]
     },
     "metadata": {},
     "output_type": "display_data"
    }
   ],
   "source": [
    "project = \"adalora_memory_to_double_memory_3_5\"\n",
    "entity = \"mallahova\"\n",
    "display_project_stats(project=project, entity=entity, starts_with=\"\")"
   ]
  },
  {
   "cell_type": "markdown",
   "metadata": {},
   "source": [
    "The problem might be that the model learns the most during the first epochs and it doesn't have the whole memory at the start. Other thing is that the learning rate scheduler is not alligned with memory scheduler - the lerning rate is decreasing when the model has just gotten enough memory to learn."
   ]
  },
  {
   "cell_type": "code",
   "execution_count": 11,
   "metadata": {
    "jupyter": {
     "source_hidden": true
    }
   },
   "outputs": [
    {
     "data": {
      "application/vnd.plotly.v1+json": {
       "config": {
        "plotlyServerURL": "https://plot.ly"
       },
       "data": [
        {
         "hovertemplate": "name=results_cola_5_30_0.5_3_4_0.002_17<br>train/epoch=%{x}<br>train/learning_rate=%{y}<extra></extra>",
         "legendgroup": "results_cola_5_30_0.5_3_4_0.002_17",
         "line": {
          "color": "#636efa",
          "dash": "solid"
         },
         "marker": {
          "symbol": "circle"
         },
         "mode": "lines",
         "name": "results_cola_5_30_0.5_3_4_0.002_17",
         "orientation": "v",
         "showlegend": true,
         "type": "scatter",
         "x": {
          "bdata": "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",
          "dtype": "f8"
         },
         "xaxis": "x",
         "y": {
          "bdata": "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",
          "dtype": "f8"
         },
         "yaxis": "y"
        }
       ],
       "layout": {
        "legend": {
         "title": {
          "text": "name"
         },
         "tracegroupgap": 0
        },
        "template": {
         "data": {
          "bar": [
           {
            "error_x": {
             "color": "#2a3f5f"
            },
            "error_y": {
             "color": "#2a3f5f"
            },
            "marker": {
             "line": {
              "color": "#E5ECF6",
              "width": 0.5
             },
             "pattern": {
              "fillmode": "overlay",
              "size": 10,
              "solidity": 0.2
             }
            },
            "type": "bar"
           }
          ],
          "barpolar": [
           {
            "marker": {
             "line": {
              "color": "#E5ECF6",
              "width": 0.5
             },
             "pattern": {
              "fillmode": "overlay",
              "size": 10,
              "solidity": 0.2
             }
            },
            "type": "barpolar"
           }
          ],
          "carpet": [
           {
            "aaxis": {
             "endlinecolor": "#2a3f5f",
             "gridcolor": "white",
             "linecolor": "white",
             "minorgridcolor": "white",
             "startlinecolor": "#2a3f5f"
            },
            "baxis": {
             "endlinecolor": "#2a3f5f",
             "gridcolor": "white",
             "linecolor": "white",
             "minorgridcolor": "white",
             "startlinecolor": "#2a3f5f"
            },
            "type": "carpet"
           }
          ],
          "choropleth": [
           {
            "colorbar": {
             "outlinewidth": 0,
             "ticks": ""
            },
            "type": "choropleth"
           }
          ],
          "contour": [
           {
            "colorbar": {
             "outlinewidth": 0,
             "ticks": ""
            },
            "colorscale": [
             [
              0,
              "#0d0887"
             ],
             [
              0.1111111111111111,
              "#46039f"
             ],
             [
              0.2222222222222222,
              "#7201a8"
             ],
             [
              0.3333333333333333,
              "#9c179e"
             ],
             [
              0.4444444444444444,
              "#bd3786"
             ],
             [
              0.5555555555555556,
              "#d8576b"
             ],
             [
              0.6666666666666666,
              "#ed7953"
             ],
             [
              0.7777777777777778,
              "#fb9f3a"
             ],
             [
              0.8888888888888888,
              "#fdca26"
             ],
             [
              1,
              "#f0f921"
             ]
            ],
            "type": "contour"
           }
          ],
          "contourcarpet": [
           {
            "colorbar": {
             "outlinewidth": 0,
             "ticks": ""
            },
            "type": "contourcarpet"
           }
          ],
          "heatmap": [
           {
            "colorbar": {
             "outlinewidth": 0,
             "ticks": ""
            },
            "colorscale": [
             [
              0,
              "#0d0887"
             ],
             [
              0.1111111111111111,
              "#46039f"
             ],
             [
              0.2222222222222222,
              "#7201a8"
             ],
             [
              0.3333333333333333,
              "#9c179e"
             ],
             [
              0.4444444444444444,
              "#bd3786"
             ],
             [
              0.5555555555555556,
              "#d8576b"
             ],
             [
              0.6666666666666666,
              "#ed7953"
             ],
             [
              0.7777777777777778,
              "#fb9f3a"
             ],
             [
              0.8888888888888888,
              "#fdca26"
             ],
             [
              1,
              "#f0f921"
             ]
            ],
            "type": "heatmap"
           }
          ],
          "histogram": [
           {
            "marker": {
             "pattern": {
              "fillmode": "overlay",
              "size": 10,
              "solidity": 0.2
             }
            },
            "type": "histogram"
           }
          ],
          "histogram2d": [
           {
            "colorbar": {
             "outlinewidth": 0,
             "ticks": ""
            },
            "colorscale": [
             [
              0,
              "#0d0887"
             ],
             [
              0.1111111111111111,
              "#46039f"
             ],
             [
              0.2222222222222222,
              "#7201a8"
             ],
             [
              0.3333333333333333,
              "#9c179e"
             ],
             [
              0.4444444444444444,
              "#bd3786"
             ],
             [
              0.5555555555555556,
              "#d8576b"
             ],
             [
              0.6666666666666666,
              "#ed7953"
             ],
             [
              0.7777777777777778,
              "#fb9f3a"
             ],
             [
              0.8888888888888888,
              "#fdca26"
             ],
             [
              1,
              "#f0f921"
             ]
            ],
            "type": "histogram2d"
           }
          ],
          "histogram2dcontour": [
           {
            "colorbar": {
             "outlinewidth": 0,
             "ticks": ""
            },
            "colorscale": [
             [
              0,
              "#0d0887"
             ],
             [
              0.1111111111111111,
              "#46039f"
             ],
             [
              0.2222222222222222,
              "#7201a8"
             ],
             [
              0.3333333333333333,
              "#9c179e"
             ],
             [
              0.4444444444444444,
              "#bd3786"
             ],
             [
              0.5555555555555556,
              "#d8576b"
             ],
             [
              0.6666666666666666,
              "#ed7953"
             ],
             [
              0.7777777777777778,
              "#fb9f3a"
             ],
             [
              0.8888888888888888,
              "#fdca26"
             ],
             [
              1,
              "#f0f921"
             ]
            ],
            "type": "histogram2dcontour"
           }
          ],
          "mesh3d": [
           {
            "colorbar": {
             "outlinewidth": 0,
             "ticks": ""
            },
            "type": "mesh3d"
           }
          ],
          "parcoords": [
           {
            "line": {
             "colorbar": {
              "outlinewidth": 0,
              "ticks": ""
             }
            },
            "type": "parcoords"
           }
          ],
          "pie": [
           {
            "automargin": true,
            "type": "pie"
           }
          ],
          "scatter": [
           {
            "fillpattern": {
             "fillmode": "overlay",
             "size": 10,
             "solidity": 0.2
            },
            "type": "scatter"
           }
          ],
          "scatter3d": [
           {
            "line": {
             "colorbar": {
              "outlinewidth": 0,
              "ticks": ""
             }
            },
            "marker": {
             "colorbar": {
              "outlinewidth": 0,
              "ticks": ""
             }
            },
            "type": "scatter3d"
           }
          ],
          "scattercarpet": [
           {
            "marker": {
             "colorbar": {
              "outlinewidth": 0,
              "ticks": ""
             }
            },
            "type": "scattercarpet"
           }
          ],
          "scattergeo": [
           {
            "marker": {
             "colorbar": {
              "outlinewidth": 0,
              "ticks": ""
             }
            },
            "type": "scattergeo"
           }
          ],
          "scattergl": [
           {
            "marker": {
             "colorbar": {
              "outlinewidth": 0,
              "ticks": ""
             }
            },
            "type": "scattergl"
           }
          ],
          "scattermap": [
           {
            "marker": {
             "colorbar": {
              "outlinewidth": 0,
              "ticks": ""
             }
            },
            "type": "scattermap"
           }
          ],
          "scattermapbox": [
           {
            "marker": {
             "colorbar": {
              "outlinewidth": 0,
              "ticks": ""
             }
            },
            "type": "scattermapbox"
           }
          ],
          "scatterpolar": [
           {
            "marker": {
             "colorbar": {
              "outlinewidth": 0,
              "ticks": ""
             }
            },
            "type": "scatterpolar"
           }
          ],
          "scatterpolargl": [
           {
            "marker": {
             "colorbar": {
              "outlinewidth": 0,
              "ticks": ""
             }
            },
            "type": "scatterpolargl"
           }
          ],
          "scatterternary": [
           {
            "marker": {
             "colorbar": {
              "outlinewidth": 0,
              "ticks": ""
             }
            },
            "type": "scatterternary"
           }
          ],
          "surface": [
           {
            "colorbar": {
             "outlinewidth": 0,
             "ticks": ""
            },
            "colorscale": [
             [
              0,
              "#0d0887"
             ],
             [
              0.1111111111111111,
              "#46039f"
             ],
             [
              0.2222222222222222,
              "#7201a8"
             ],
             [
              0.3333333333333333,
              "#9c179e"
             ],
             [
              0.4444444444444444,
              "#bd3786"
             ],
             [
              0.5555555555555556,
              "#d8576b"
             ],
             [
              0.6666666666666666,
              "#ed7953"
             ],
             [
              0.7777777777777778,
              "#fb9f3a"
             ],
             [
              0.8888888888888888,
              "#fdca26"
             ],
             [
              1,
              "#f0f921"
             ]
            ],
            "type": "surface"
           }
          ],
          "table": [
           {
            "cells": {
             "fill": {
              "color": "#EBF0F8"
             },
             "line": {
              "color": "white"
             }
            },
            "header": {
             "fill": {
              "color": "#C8D4E3"
             },
             "line": {
              "color": "white"
             }
            },
            "type": "table"
           }
          ]
         },
         "layout": {
          "annotationdefaults": {
           "arrowcolor": "#2a3f5f",
           "arrowhead": 0,
           "arrowwidth": 1
          },
          "autotypenumbers": "strict",
          "coloraxis": {
           "colorbar": {
            "outlinewidth": 0,
            "ticks": ""
           }
          },
          "colorscale": {
           "diverging": [
            [
             0,
             "#8e0152"
            ],
            [
             0.1,
             "#c51b7d"
            ],
            [
             0.2,
             "#de77ae"
            ],
            [
             0.3,
             "#f1b6da"
            ],
            [
             0.4,
             "#fde0ef"
            ],
            [
             0.5,
             "#f7f7f7"
            ],
            [
             0.6,
             "#e6f5d0"
            ],
            [
             0.7,
             "#b8e186"
            ],
            [
             0.8,
             "#7fbc41"
            ],
            [
             0.9,
             "#4d9221"
            ],
            [
             1,
             "#276419"
            ]
           ],
           "sequential": [
            [
             0,
             "#0d0887"
            ],
            [
             0.1111111111111111,
             "#46039f"
            ],
            [
             0.2222222222222222,
             "#7201a8"
            ],
            [
             0.3333333333333333,
             "#9c179e"
            ],
            [
             0.4444444444444444,
             "#bd3786"
            ],
            [
             0.5555555555555556,
             "#d8576b"
            ],
            [
             0.6666666666666666,
             "#ed7953"
            ],
            [
             0.7777777777777778,
             "#fb9f3a"
            ],
            [
             0.8888888888888888,
             "#fdca26"
            ],
            [
             1,
             "#f0f921"
            ]
           ],
           "sequentialminus": [
            [
             0,
             "#0d0887"
            ],
            [
             0.1111111111111111,
             "#46039f"
            ],
            [
             0.2222222222222222,
             "#7201a8"
            ],
            [
             0.3333333333333333,
             "#9c179e"
            ],
            [
             0.4444444444444444,
             "#bd3786"
            ],
            [
             0.5555555555555556,
             "#d8576b"
            ],
            [
             0.6666666666666666,
             "#ed7953"
            ],
            [
             0.7777777777777778,
             "#fb9f3a"
            ],
            [
             0.8888888888888888,
             "#fdca26"
            ],
            [
             1,
             "#f0f921"
            ]
           ]
          },
          "colorway": [
           "#636efa",
           "#EF553B",
           "#00cc96",
           "#ab63fa",
           "#FFA15A",
           "#19d3f3",
           "#FF6692",
           "#B6E880",
           "#FF97FF",
           "#FECB52"
          ],
          "font": {
           "color": "#2a3f5f"
          },
          "geo": {
           "bgcolor": "white",
           "lakecolor": "white",
           "landcolor": "#E5ECF6",
           "showlakes": true,
           "showland": true,
           "subunitcolor": "white"
          },
          "hoverlabel": {
           "align": "left"
          },
          "hovermode": "closest",
          "mapbox": {
           "style": "light"
          },
          "paper_bgcolor": "white",
          "plot_bgcolor": "#E5ECF6",
          "polar": {
           "angularaxis": {
            "gridcolor": "white",
            "linecolor": "white",
            "ticks": ""
           },
           "bgcolor": "#E5ECF6",
           "radialaxis": {
            "gridcolor": "white",
            "linecolor": "white",
            "ticks": ""
           }
          },
          "scene": {
           "xaxis": {
            "backgroundcolor": "#E5ECF6",
            "gridcolor": "white",
            "gridwidth": 2,
            "linecolor": "white",
            "showbackground": true,
            "ticks": "",
            "zerolinecolor": "white"
           },
           "yaxis": {
            "backgroundcolor": "#E5ECF6",
            "gridcolor": "white",
            "gridwidth": 2,
            "linecolor": "white",
            "showbackground": true,
            "ticks": "",
            "zerolinecolor": "white"
           },
           "zaxis": {
            "backgroundcolor": "#E5ECF6",
            "gridcolor": "white",
            "gridwidth": 2,
            "linecolor": "white",
            "showbackground": true,
            "ticks": "",
            "zerolinecolor": "white"
           }
          },
          "shapedefaults": {
           "line": {
            "color": "#2a3f5f"
           }
          },
          "ternary": {
           "aaxis": {
            "gridcolor": "white",
            "linecolor": "white",
            "ticks": ""
           },
           "baxis": {
            "gridcolor": "white",
            "linecolor": "white",
            "ticks": ""
           },
           "bgcolor": "#E5ECF6",
           "caxis": {
            "gridcolor": "white",
            "linecolor": "white",
            "ticks": ""
           }
          },
          "title": {
           "x": 0.05
          },
          "xaxis": {
           "automargin": true,
           "gridcolor": "white",
           "linecolor": "white",
           "ticks": "",
           "title": {
            "standoff": 15
           },
           "zerolinecolor": "white",
           "zerolinewidth": 2
          },
          "yaxis": {
           "automargin": true,
           "gridcolor": "white",
           "linecolor": "white",
           "ticks": "",
           "title": {
            "standoff": 15
           },
           "zerolinecolor": "white",
           "zerolinewidth": 2
          }
         }
        },
        "title": {
         "text": "train/learning_rate Over train/epoch"
        },
        "xaxis": {
         "anchor": "y",
         "domain": [
          0,
          1
         ],
         "title": {
          "text": "train/epoch"
         }
        },
        "yaxis": {
         "anchor": "x",
         "domain": [
          0,
          1
         ],
         "title": {
          "text": "train/learning_rate"
         }
        }
       }
      }
     },
     "metadata": {},
     "output_type": "display_data"
    }
   ],
   "source": [
    "fetch_and_plot_wandb_runs(\n",
    "    entity=\"mallahova\",\n",
    "    project=\"adalora_memory_to_double_memory_3_5\",\n",
    "    metric=\"train/learning_rate\",\n",
    "    x_axis=\"train/epoch\",\n",
    "    interactive=True,\n",
    "    num_runs=1\n",
    ")"
   ]
  },
  {
   "cell_type": "code",
   "execution_count": 12,
   "metadata": {
    "jupyter": {
     "source_hidden": true
    }
   },
   "outputs": [
    {
     "data": {
      "application/vnd.plotly.v1+json": {
       "config": {
        "plotlyServerURL": "https://plot.ly"
       },
       "data": [
        {
         "hovertemplate": "name=results_cola_5_30_0.5_3_4_0.002_17<br>train/epoch=%{x}<br>train/memory=%{y}<extra></extra>",
         "legendgroup": "results_cola_5_30_0.5_3_4_0.002_17",
         "line": {
          "color": "#636efa",
          "dash": "solid"
         },
         "marker": {
          "symbol": "circle"
         },
         "mode": "lines",
         "name": "results_cola_5_30_0.5_3_4_0.002_17",
         "orientation": "v",
         "showlegend": true,
         "type": "scatter",
         "x": {
          "bdata": "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",
          "dtype": "f8"
         },
         "xaxis": "x",
         "y": {
          "bdata": "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",
          "dtype": "f8"
         },
         "yaxis": "y"
        }
       ],
       "layout": {
        "legend": {
         "title": {
          "text": "name"
         },
         "tracegroupgap": 0
        },
        "template": {
         "data": {
          "bar": [
           {
            "error_x": {
             "color": "#2a3f5f"
            },
            "error_y": {
             "color": "#2a3f5f"
            },
            "marker": {
             "line": {
              "color": "#E5ECF6",
              "width": 0.5
             },
             "pattern": {
              "fillmode": "overlay",
              "size": 10,
              "solidity": 0.2
             }
            },
            "type": "bar"
           }
          ],
          "barpolar": [
           {
            "marker": {
             "line": {
              "color": "#E5ECF6",
              "width": 0.5
             },
             "pattern": {
              "fillmode": "overlay",
              "size": 10,
              "solidity": 0.2
             }
            },
            "type": "barpolar"
           }
          ],
          "carpet": [
           {
            "aaxis": {
             "endlinecolor": "#2a3f5f",
             "gridcolor": "white",
             "linecolor": "white",
             "minorgridcolor": "white",
             "startlinecolor": "#2a3f5f"
            },
            "baxis": {
             "endlinecolor": "#2a3f5f",
             "gridcolor": "white",
             "linecolor": "white",
             "minorgridcolor": "white",
             "startlinecolor": "#2a3f5f"
            },
            "type": "carpet"
           }
          ],
          "choropleth": [
           {
            "colorbar": {
             "outlinewidth": 0,
             "ticks": ""
            },
            "type": "choropleth"
           }
          ],
          "contour": [
           {
            "colorbar": {
             "outlinewidth": 0,
             "ticks": ""
            },
            "colorscale": [
             [
              0,
              "#0d0887"
             ],
             [
              0.1111111111111111,
              "#46039f"
             ],
             [
              0.2222222222222222,
              "#7201a8"
             ],
             [
              0.3333333333333333,
              "#9c179e"
             ],
             [
              0.4444444444444444,
              "#bd3786"
             ],
             [
              0.5555555555555556,
              "#d8576b"
             ],
             [
              0.6666666666666666,
              "#ed7953"
             ],
             [
              0.7777777777777778,
              "#fb9f3a"
             ],
             [
              0.8888888888888888,
              "#fdca26"
             ],
             [
              1,
              "#f0f921"
             ]
            ],
            "type": "contour"
           }
          ],
          "contourcarpet": [
           {
            "colorbar": {
             "outlinewidth": 0,
             "ticks": ""
            },
            "type": "contourcarpet"
           }
          ],
          "heatmap": [
           {
            "colorbar": {
             "outlinewidth": 0,
             "ticks": ""
            },
            "colorscale": [
             [
              0,
              "#0d0887"
             ],
             [
              0.1111111111111111,
              "#46039f"
             ],
             [
              0.2222222222222222,
              "#7201a8"
             ],
             [
              0.3333333333333333,
              "#9c179e"
             ],
             [
              0.4444444444444444,
              "#bd3786"
             ],
             [
              0.5555555555555556,
              "#d8576b"
             ],
             [
              0.6666666666666666,
              "#ed7953"
             ],
             [
              0.7777777777777778,
              "#fb9f3a"
             ],
             [
              0.8888888888888888,
              "#fdca26"
             ],
             [
              1,
              "#f0f921"
             ]
            ],
            "type": "heatmap"
           }
          ],
          "histogram": [
           {
            "marker": {
             "pattern": {
              "fillmode": "overlay",
              "size": 10,
              "solidity": 0.2
             }
            },
            "type": "histogram"
           }
          ],
          "histogram2d": [
           {
            "colorbar": {
             "outlinewidth": 0,
             "ticks": ""
            },
            "colorscale": [
             [
              0,
              "#0d0887"
             ],
             [
              0.1111111111111111,
              "#46039f"
             ],
             [
              0.2222222222222222,
              "#7201a8"
             ],
             [
              0.3333333333333333,
              "#9c179e"
             ],
             [
              0.4444444444444444,
              "#bd3786"
             ],
             [
              0.5555555555555556,
              "#d8576b"
             ],
             [
              0.6666666666666666,
              "#ed7953"
             ],
             [
              0.7777777777777778,
              "#fb9f3a"
             ],
             [
              0.8888888888888888,
              "#fdca26"
             ],
             [
              1,
              "#f0f921"
             ]
            ],
            "type": "histogram2d"
           }
          ],
          "histogram2dcontour": [
           {
            "colorbar": {
             "outlinewidth": 0,
             "ticks": ""
            },
            "colorscale": [
             [
              0,
              "#0d0887"
             ],
             [
              0.1111111111111111,
              "#46039f"
             ],
             [
              0.2222222222222222,
              "#7201a8"
             ],
             [
              0.3333333333333333,
              "#9c179e"
             ],
             [
              0.4444444444444444,
              "#bd3786"
             ],
             [
              0.5555555555555556,
              "#d8576b"
             ],
             [
              0.6666666666666666,
              "#ed7953"
             ],
             [
              0.7777777777777778,
              "#fb9f3a"
             ],
             [
              0.8888888888888888,
              "#fdca26"
             ],
             [
              1,
              "#f0f921"
             ]
            ],
            "type": "histogram2dcontour"
           }
          ],
          "mesh3d": [
           {
            "colorbar": {
             "outlinewidth": 0,
             "ticks": ""
            },
            "type": "mesh3d"
           }
          ],
          "parcoords": [
           {
            "line": {
             "colorbar": {
              "outlinewidth": 0,
              "ticks": ""
             }
            },
            "type": "parcoords"
           }
          ],
          "pie": [
           {
            "automargin": true,
            "type": "pie"
           }
          ],
          "scatter": [
           {
            "fillpattern": {
             "fillmode": "overlay",
             "size": 10,
             "solidity": 0.2
            },
            "type": "scatter"
           }
          ],
          "scatter3d": [
           {
            "line": {
             "colorbar": {
              "outlinewidth": 0,
              "ticks": ""
             }
            },
            "marker": {
             "colorbar": {
              "outlinewidth": 0,
              "ticks": ""
             }
            },
            "type": "scatter3d"
           }
          ],
          "scattercarpet": [
           {
            "marker": {
             "colorbar": {
              "outlinewidth": 0,
              "ticks": ""
             }
            },
            "type": "scattercarpet"
           }
          ],
          "scattergeo": [
           {
            "marker": {
             "colorbar": {
              "outlinewidth": 0,
              "ticks": ""
             }
            },
            "type": "scattergeo"
           }
          ],
          "scattergl": [
           {
            "marker": {
             "colorbar": {
              "outlinewidth": 0,
              "ticks": ""
             }
            },
            "type": "scattergl"
           }
          ],
          "scattermap": [
           {
            "marker": {
             "colorbar": {
              "outlinewidth": 0,
              "ticks": ""
             }
            },
            "type": "scattermap"
           }
          ],
          "scattermapbox": [
           {
            "marker": {
             "colorbar": {
              "outlinewidth": 0,
              "ticks": ""
             }
            },
            "type": "scattermapbox"
           }
          ],
          "scatterpolar": [
           {
            "marker": {
             "colorbar": {
              "outlinewidth": 0,
              "ticks": ""
             }
            },
            "type": "scatterpolar"
           }
          ],
          "scatterpolargl": [
           {
            "marker": {
             "colorbar": {
              "outlinewidth": 0,
              "ticks": ""
             }
            },
            "type": "scatterpolargl"
           }
          ],
          "scatterternary": [
           {
            "marker": {
             "colorbar": {
              "outlinewidth": 0,
              "ticks": ""
             }
            },
            "type": "scatterternary"
           }
          ],
          "surface": [
           {
            "colorbar": {
             "outlinewidth": 0,
             "ticks": ""
            },
            "colorscale": [
             [
              0,
              "#0d0887"
             ],
             [
              0.1111111111111111,
              "#46039f"
             ],
             [
              0.2222222222222222,
              "#7201a8"
             ],
             [
              0.3333333333333333,
              "#9c179e"
             ],
             [
              0.4444444444444444,
              "#bd3786"
             ],
             [
              0.5555555555555556,
              "#d8576b"
             ],
             [
              0.6666666666666666,
              "#ed7953"
             ],
             [
              0.7777777777777778,
              "#fb9f3a"
             ],
             [
              0.8888888888888888,
              "#fdca26"
             ],
             [
              1,
              "#f0f921"
             ]
            ],
            "type": "surface"
           }
          ],
          "table": [
           {
            "cells": {
             "fill": {
              "color": "#EBF0F8"
             },
             "line": {
              "color": "white"
             }
            },
            "header": {
             "fill": {
              "color": "#C8D4E3"
             },
             "line": {
              "color": "white"
             }
            },
            "type": "table"
           }
          ]
         },
         "layout": {
          "annotationdefaults": {
           "arrowcolor": "#2a3f5f",
           "arrowhead": 0,
           "arrowwidth": 1
          },
          "autotypenumbers": "strict",
          "coloraxis": {
           "colorbar": {
            "outlinewidth": 0,
            "ticks": ""
           }
          },
          "colorscale": {
           "diverging": [
            [
             0,
             "#8e0152"
            ],
            [
             0.1,
             "#c51b7d"
            ],
            [
             0.2,
             "#de77ae"
            ],
            [
             0.3,
             "#f1b6da"
            ],
            [
             0.4,
             "#fde0ef"
            ],
            [
             0.5,
             "#f7f7f7"
            ],
            [
             0.6,
             "#e6f5d0"
            ],
            [
             0.7,
             "#b8e186"
            ],
            [
             0.8,
             "#7fbc41"
            ],
            [
             0.9,
             "#4d9221"
            ],
            [
             1,
             "#276419"
            ]
           ],
           "sequential": [
            [
             0,
             "#0d0887"
            ],
            [
             0.1111111111111111,
             "#46039f"
            ],
            [
             0.2222222222222222,
             "#7201a8"
            ],
            [
             0.3333333333333333,
             "#9c179e"
            ],
            [
             0.4444444444444444,
             "#bd3786"
            ],
            [
             0.5555555555555556,
             "#d8576b"
            ],
            [
             0.6666666666666666,
             "#ed7953"
            ],
            [
             0.7777777777777778,
             "#fb9f3a"
            ],
            [
             0.8888888888888888,
             "#fdca26"
            ],
            [
             1,
             "#f0f921"
            ]
           ],
           "sequentialminus": [
            [
             0,
             "#0d0887"
            ],
            [
             0.1111111111111111,
             "#46039f"
            ],
            [
             0.2222222222222222,
             "#7201a8"
            ],
            [
             0.3333333333333333,
             "#9c179e"
            ],
            [
             0.4444444444444444,
             "#bd3786"
            ],
            [
             0.5555555555555556,
             "#d8576b"
            ],
            [
             0.6666666666666666,
             "#ed7953"
            ],
            [
             0.7777777777777778,
             "#fb9f3a"
            ],
            [
             0.8888888888888888,
             "#fdca26"
            ],
            [
             1,
             "#f0f921"
            ]
           ]
          },
          "colorway": [
           "#636efa",
           "#EF553B",
           "#00cc96",
           "#ab63fa",
           "#FFA15A",
           "#19d3f3",
           "#FF6692",
           "#B6E880",
           "#FF97FF",
           "#FECB52"
          ],
          "font": {
           "color": "#2a3f5f"
          },
          "geo": {
           "bgcolor": "white",
           "lakecolor": "white",
           "landcolor": "#E5ECF6",
           "showlakes": true,
           "showland": true,
           "subunitcolor": "white"
          },
          "hoverlabel": {
           "align": "left"
          },
          "hovermode": "closest",
          "mapbox": {
           "style": "light"
          },
          "paper_bgcolor": "white",
          "plot_bgcolor": "#E5ECF6",
          "polar": {
           "angularaxis": {
            "gridcolor": "white",
            "linecolor": "white",
            "ticks": ""
           },
           "bgcolor": "#E5ECF6",
           "radialaxis": {
            "gridcolor": "white",
            "linecolor": "white",
            "ticks": ""
           }
          },
          "scene": {
           "xaxis": {
            "backgroundcolor": "#E5ECF6",
            "gridcolor": "white",
            "gridwidth": 2,
            "linecolor": "white",
            "showbackground": true,
            "ticks": "",
            "zerolinecolor": "white"
           },
           "yaxis": {
            "backgroundcolor": "#E5ECF6",
            "gridcolor": "white",
            "gridwidth": 2,
            "linecolor": "white",
            "showbackground": true,
            "ticks": "",
            "zerolinecolor": "white"
           },
           "zaxis": {
            "backgroundcolor": "#E5ECF6",
            "gridcolor": "white",
            "gridwidth": 2,
            "linecolor": "white",
            "showbackground": true,
            "ticks": "",
            "zerolinecolor": "white"
           }
          },
          "shapedefaults": {
           "line": {
            "color": "#2a3f5f"
           }
          },
          "ternary": {
           "aaxis": {
            "gridcolor": "white",
            "linecolor": "white",
            "ticks": ""
           },
           "baxis": {
            "gridcolor": "white",
            "linecolor": "white",
            "ticks": ""
           },
           "bgcolor": "#E5ECF6",
           "caxis": {
            "gridcolor": "white",
            "linecolor": "white",
            "ticks": ""
           }
          },
          "title": {
           "x": 0.05
          },
          "xaxis": {
           "automargin": true,
           "gridcolor": "white",
           "linecolor": "white",
           "ticks": "",
           "title": {
            "standoff": 15
           },
           "zerolinecolor": "white",
           "zerolinewidth": 2
          },
          "yaxis": {
           "automargin": true,
           "gridcolor": "white",
           "linecolor": "white",
           "ticks": "",
           "title": {
            "standoff": 15
           },
           "zerolinecolor": "white",
           "zerolinewidth": 2
          }
         }
        },
        "title": {
         "text": "train/memory Over train/epoch"
        },
        "xaxis": {
         "anchor": "y",
         "domain": [
          0,
          1
         ],
         "title": {
          "text": "train/epoch"
         }
        },
        "yaxis": {
         "anchor": "x",
         "domain": [
          0,
          1
         ],
         "title": {
          "text": "train/memory"
         }
        }
       }
      }
     },
     "metadata": {},
     "output_type": "display_data"
    }
   ],
   "source": [
    "fetch_and_plot_wandb_runs(\n",
    "    entity=\"mallahova\",\n",
    "    project=\"adalora_memory_to_double_memory_3_5\",\n",
    "    metric=\"train/memory\",\n",
    "    x_axis=\"train/epoch\",\n",
    "    interactive=True,\n",
    "    num_runs=1\n",
    ")"
   ]
  },
  {
   "cell_type": "code",
   "execution_count": 13,
   "metadata": {
    "jupyter": {
     "source_hidden": true
    }
   },
   "outputs": [
    {
     "data": {
      "application/vnd.plotly.v1+json": {
       "config": {
        "plotlyServerURL": "https://plot.ly"
       },
       "data": [
        {
         "hovertemplate": "name=results_cola_5_30_0.5_3_4_0.002_17<br>train/epoch=%{x}<br>eval/matthews_correlation=%{y}<extra></extra>",
         "legendgroup": "results_cola_5_30_0.5_3_4_0.002_17",
         "line": {
          "color": "#636efa",
          "dash": "solid"
         },
         "marker": {
          "symbol": "circle"
         },
         "mode": "lines",
         "name": "results_cola_5_30_0.5_3_4_0.002_17",
         "orientation": "v",
         "showlegend": true,
         "type": "scatter",
         "x": {
          "bdata": "AQIDBAUGBwgJCgsMDQ4PEBESExQVFhcYGRobHB0eHyAhIiMkJSYnKCkqKywtLi8wMTIy",
          "dtype": "i1"
         },
         "xaxis": "x",
         "y": {
          "bdata": "AAAAAAAAAAAAAAAAAAAAAG8zGSwHHsY/YvVl9H8i3T8M12N635/XP7iTnB1pets/OgDnE1az1j90XsUXqBLgP14QcW/e9d4/skzYne5B3z+ku/TM7+/cPwYKFJ48A98/1/yNNw9B3D90LAvKBangP5ffd08MtN0/tTci9wDr4D+mz3eDNvLdP9lbkEszv90/9yZET4xu4D9Te8IkkxzhPzsgTyOVxeA/DLW7Ep8o4D//VuV3KZrgP4vw332bouA/z+fGK2GE4D+UlJNPktjfP1l+PaWTdOA/uLGzH7FB4D86L69YAzjgP5x32sYj1OA/P2Rbm8lI4D9jp+baA+vgP2TlZl5D7+A/8JDct3Va4D/PAMwik/LgP3QsC8oFqeA/IRq2M/WS4D/wkNy3dVrgP1tbl/XGqOA/QhbPwqjC4D+M4M5HDZPgP51uZ9LQ8OA/5Ali1BSV4D+5djsIaGfgPxjyWUJWZ+A/+eGkJzmX4D9Aoc5AspPgP0Rfl+r2rOA/QKHOQLKT4D/ZQeIBC6rgP9lB4gELquA/",
          "dtype": "f8"
         },
         "yaxis": "y"
        },
        {
         "hovertemplate": "name=results_cola_5_30_0.5_3_4_0.02_17<br>train/epoch=%{x}<br>eval/matthews_correlation=%{y}<extra></extra>",
         "legendgroup": "results_cola_5_30_0.5_3_4_0.02_17",
         "line": {
          "color": "#EF553B",
          "dash": "solid"
         },
         "marker": {
          "symbol": "circle"
         },
         "mode": "lines",
         "name": "results_cola_5_30_0.5_3_4_0.02_17",
         "orientation": "v",
         "showlegend": true,
         "type": "scatter",
         "x": {
          "bdata": "AQIDBAUGBwgJCgsMDQ4PEBESExQVFhcYGRobHB0eHyAhIiMkJSYnKCkqKywtLi8wMTIy",
          "dtype": "i1"
         },
         "xaxis": "x",
         "y": {
          "bdata": "AAAAAAAAAAAAAAAAAAAAAM/I7N4n6MY/Q7D1VGKf3D+IqUcg9HLaP64UHvwwPts/MreVrHJD2D8oeHtz5aDfPxzjkkixet4/+g/LxwYH3j+s9wKxGZLcP/qqjzEqxt4/8XdMffPA3D9Aoc5AspPgPwILu6hxe90/F3pUSGPV4D9oSyw/vO3dP5aNZnARkd0/+eGkJzmX4D/XLJQuF5jgPx26uh0m1+A/5Ali1BSV4D/L/pw7rLHgP8x+k2pYcuA/1nlEsKpY4D/3mfjzgxjgP9Ygqc1kiuA/V9Ib+3gv4D+Rug0LrnzgP+phtTlPk+A/Nb7gULVe4D90LAvKBangPwVs3YfMq+A/r0DLNsc/4D87+csPJ0HgPxOe6OOzqOA/Z263nGe+4D/WuRoMyyngP+N67bK5vuA/QhbPwqjC4D/95pPNJ9TgP9dLWFf4bOA/dPQ4cHGp4D8hGrYz9ZLgPxOe6OOzqOA/FjTZSm+B4D8hGrYz9ZLgPxqY/82GwOA/IRq2M/WS4D8hGrYz9ZLgPyEatjP1kuA/",
          "dtype": "f8"
         },
         "yaxis": "y"
        },
        {
         "hovertemplate": "name=results_cola_5_30_0.5_3_4_0.01_17<br>train/epoch=%{x}<br>eval/matthews_correlation=%{y}<extra></extra>",
         "legendgroup": "results_cola_5_30_0.5_3_4_0.01_17",
         "line": {
          "color": "#00cc96",
          "dash": "solid"
         },
         "marker": {
          "symbol": "circle"
         },
         "mode": "lines",
         "name": "results_cola_5_30_0.5_3_4_0.01_17",
         "orientation": "v",
         "showlegend": true,
         "type": "scatter",
         "x": {
          "bdata": "AQIDBAUGBwgJCgsMDQ4PEBESExQVFhcYGRobHB0eHyAhIiMkJSYnKCkqKywtLi8wMTIy",
          "dtype": "i1"
         },
         "xaxis": "x",
         "y": {
          "bdata": "AAAAAAAAAAAAAAAAAAAAALbUWcN3Ecc/cghgJgdZ3T+VdDf+4DPZP0FKCWrPo9s/mWMMHu711z/TCBgjep3fP8BUzMV9a94/6HTnbVuO3j9vOK1IxmLdPw1C6Wby+t4/vVhr+pz93D/kCWLUFJXgPwILu6hxe90/kkpGD3TA4D+Xk8MD0yTeP284rUjGYt0/p5tDUm1q4D8cM8KCefHgP3T0OHBxqeA/Mk+jiKpo4D/54aQnOZfgP8/nxithhOA/FjTZSm+B4D+kCdpdzdHfP8/nxithhOA/QMotzOcO4D8V/yYkRR/gP7j5D4gQ1OA/ey3PQrcW4D/xn5mJYtTgP5fEICB/weA/9yZET4xu4D+zVLyO8ZvgP/GfmYli1OA/nHfaxiPU4D/WeUSwqljgP7j5D4gQ1OA/IEc3Jw6W4D+Ein0Ef77gP6c/0iOXmOA/R75N7kuU4D9bW5f1xqjgP5x32sYj1OA/10tYV/hs4D9bW5f1xqjgP9lB4gELquA/W1uX9cao4D/VQVg/Jb/gP9VBWD8lv+A/",
          "dtype": "f8"
         },
         "yaxis": "y"
        },
        {
         "hovertemplate": "name=results_cola_5_30_0.5_3_3_0.002_17<br>train/epoch=%{x}<br>eval/matthews_correlation=%{y}<extra></extra>",
         "legendgroup": "results_cola_5_30_0.5_3_3_0.002_17",
         "line": {
          "color": "#ab63fa",
          "dash": "solid"
         },
         "marker": {
          "symbol": "circle"
         },
         "mode": "lines",
         "name": "results_cola_5_30_0.5_3_3_0.002_17",
         "orientation": "v",
         "showlegend": true,
         "type": "scatter",
         "x": {
          "bdata": "AQIDBAUGBwgJCgsMDQ4PEBESExQVFhcYGRobHB0eHyAhIiMkJSYnKCkqKywtLi8wMTIy",
          "dtype": "i1"
         },
         "xaxis": "x",
         "y": {
          "bdata": "AAAAAAAAAAAAAAAAAAAAAAAAAAAAAAAA5kzCJ8K61j/5wnEeofzaP2ORP6QTyN8/Iy5TmZKq3D+9LrvY5rzYP28+SKpncN8/dz71JAK83T+UKzGeuRDeP9ARFCiju94/EU4PVqui3z/6cNEvpuHbP7wX3dhpnt8/Y8mWofLN3T8XVmOClFPgPwG+mHG5ZN4//DGdeDqL3j9j94cBaaXfP9JCKo2aCOE/Qehw+OFj4D905JsOEWjgP4c1PhaWEuA/Ff8mJEUf4D+I5Jsd/v/gP35+2CSbPuA/Oi+vWAM44D+B2zdMT6bfPzQL2WQ2v98/E57o47Oo4D/3mfjzgxjgP4xKBxXAvuA/OyBPI5XF4D8DD4Gn1RDgP3Tkmw4RaOA/HzxxBarZ4D909DhwcangP69CZ2Eh4d8/ksVXFMbp4D9vnt6wLlLgP+N67bK5vuA/6dgqa7iS3z9EX5fq9qzgP/GfmYli1OA/U1nIf1X/4D8yT6OIqmjgP++4gHeaKuE/l8QgIH/B4D84Bhyk06rgPzgGHKTTquA/",
          "dtype": "f8"
         },
         "yaxis": "y"
        },
        {
         "hovertemplate": "name=results_cola_5_30_0.5_3_3_0.01_17<br>train/epoch=%{x}<br>eval/matthews_correlation=%{y}<extra></extra>",
         "legendgroup": "results_cola_5_30_0.5_3_3_0.01_17",
         "line": {
          "color": "#FFA15A",
          "dash": "solid"
         },
         "marker": {
          "symbol": "circle"
         },
         "mode": "lines",
         "name": "results_cola_5_30_0.5_3_3_0.01_17",
         "orientation": "v",
         "showlegend": true,
         "type": "scatter",
         "x": {
          "bdata": "AQIDBAUGBwgJCgsMDQ4PEBESExQVFhcYGRobHB0eHyAhIiMkJSYnKCkqKywtLi8wMTIy",
          "dtype": "i1"
         },
         "xaxis": "x",
         "y": {
          "bdata": "AAAAAAAAAAAAAAAAAAAAAAAAAAAAAAAAtDx1Vwj71z9VUzuhcVzbPwvgxqLucd8/Srhnmram3D/V0v+LFizYPyGy1qJAR98/aEssP7zt3T9o08kvn4fdP8ySuw0QCt4/Y/eHAWml3z/QPLwKQWbbP9BkFduQSd8/pLv0zO/v3D+g7UWRb2fgP5ZQox+H4N0/Ueu8bNxd3j/QZBXbkEnfP1N7wiSTHOE/01yal/lN4D9vnt6wLlLgP6ebQ1JtauA/fASSZ6t/3z/VQVg/Jb/gP4dUdYO2VeA/kolNVpbr3z9bf86QsyvgPzQL2WQ2v98/gTqfmIZ94D9El5JhiRrgP/JOT6Fo1OA/E19VJJlr4D99JMnNgfXfP6IK6i7WO+A/R75N7kuU4D90LAvKBangPzCULSYtYeA/AW9NFtLU4D/+d5+Lc2ngP5x32sYj1OA/08HAEbQG4D8gRzcnDpbgP5x32sYj1OA/uPkPiBDU4D9Hvk3uS5TgP0H8n/HB6eA/OAYcpNOq4D/ZQeIBC6rgP9lB4gELquA/",
          "dtype": "f8"
         },
         "yaxis": "y"
        },
        {
         "hovertemplate": "name=results_cola_5_30_0.5_3_3_0.02_17<br>train/epoch=%{x}<br>eval/matthews_correlation=%{y}<extra></extra>",
         "legendgroup": "results_cola_5_30_0.5_3_3_0.02_17",
         "line": {
          "color": "#19d3f3",
          "dash": "solid"
         },
         "marker": {
          "symbol": "circle"
         },
         "mode": "lines",
         "name": "results_cola_5_30_0.5_3_3_0.02_17",
         "orientation": "v",
         "showlegend": true,
         "type": "scatter",
         "x": {
          "bdata": "AQIDBAUGBwgJCgsMDQ4PEBESExQVFhcYGRobHB0eHyAhIiMkJSYnKCkqKywtLi8wMTIy",
          "dtype": "i1"
         },
         "xaxis": "x",
         "y": {
          "bdata": "AAAAAAAAAAAAAAAAAAAAAAAAAAAAAAAAmoe4JdXb1z+P87NIAxTcP28+SKpncN8/NqxgROEd3D8IWxqAQ8PXP9BkFduQSd8/JWwmk6pc3T9DO77Xd8zcP9ARFCiju94/RJeSYYka4D/JlJprCFHbPyhrZ4XoeN8/ouOt/RUp3T9NcI4/WmvgP1yZuOnprt0/Duh8QPE23j9CIgDotyLfP9JCKo2aCOE/BaNQ8glq4D+Md6WE533gP9Z5RLCqWOA/6dgqa7iS3z9bW5f1xqjgP35+2CSbPuA//vHwW4rf3j87Vq0HvHnfPzWqgcNust4/H/qQMvJ94D/ngVYxnWDfP4bPthW6k+A/CWrVFlSu4D+YuNA1uJvfPz6taAfEUeA/1UFYPyW/4D99tqP6B5PgPyWO9wL/IeA/VFGrQXep4D905JsOEWjgP4SKfQR/vuA/NAvZZDa/3z84Bhyk06rgP6JGJtZ6vuA/jEoHFcC+4D905JsOEWjgP/3mk80n1OA/QKHOQLKT4D9Aoc5AspPgP0ChzkCyk+A/",
          "dtype": "f8"
         },
         "yaxis": "y"
        },
        {
         "hovertemplate": "name=results_cola_5_30_0.5_3_2_0.02_17<br>train/epoch=%{x}<br>eval/matthews_correlation=%{y}<extra></extra>",
         "legendgroup": "results_cola_5_30_0.5_3_2_0.02_17",
         "line": {
          "color": "#FF6692",
          "dash": "solid"
         },
         "marker": {
          "symbol": "circle"
         },
         "mode": "lines",
         "name": "results_cola_5_30_0.5_3_2_0.02_17",
         "orientation": "v",
         "showlegend": true,
         "type": "scatter",
         "x": {
          "bdata": "AQIDBAUGBwgJCgsMDQ4PEBESExQVFhcYGRobHB0eHyAhIiMkJSYnKCkqKywtLi8wMTIy",
          "dtype": "i1"
         },
         "xaxis": "x",
         "y": {
          "bdata": "AAAAAAAAAAAAAAAAAAAAAAAAAAAAAAAA/5wJCFSsxz993is8B4XZPzWC7x1iSts/Mhae79Xr3j9g4o8hAvjZP+If4WHwAtw/9dmCATjz3z8knPGUcmLeP5eTwwPTJN4/5hllPleg3z82m1xxCNXeP3y5BsJMLN0/DLW7Ep8o4D8CC7uocXvdP1RRq0F3qeA/SMArois+3j/vR252pmjdP1NKDqUh7N4/WYWZB6Kr4D8TZ/OZ1WbgPz9kW5vJSOA/nHfaxiPU4D++diovVwPgP2+CNM5WyeA/10tYV/hs4D+25iPnntzfPwtykCPD0t8/fJeG44oS3z8FbN2HzKvgP/tE/ZOgAOA/R75N7kuU4D+28kZ/VnDgP3n+vGuRMOA/b57esC5S4D9QozSqdVHgPwFvTRbS1OA/jddvunhc4D+1NCbfKb/gP2+CNM5WyeA/KkS4DnDq4D945FozyRzgP7l2OwhoZ+A/W1uX9cao4D+4+Q+IENTgP2mCvc9DgOA/R9zJo0aT4D9Aoc5AspPgP0ChzkCyk+A/",
          "dtype": "f8"
         },
         "yaxis": "y"
        },
        {
         "hovertemplate": "name=results_cola_5_30_0.5_3_2_0.002_17<br>train/epoch=%{x}<br>eval/matthews_correlation=%{y}<extra></extra>",
         "legendgroup": "results_cola_5_30_0.5_3_2_0.002_17",
         "line": {
          "color": "#B6E880",
          "dash": "solid"
         },
         "marker": {
          "symbol": "circle"
         },
         "mode": "lines",
         "name": "results_cola_5_30_0.5_3_2_0.002_17",
         "orientation": "v",
         "showlegend": true,
         "type": "scatter",
         "x": {
          "bdata": "AQIDBAUGBwgJCgsMDQ4PEBESExQVFhcYGRobHB0eHyAhIiMkJSYnKCkqKywtLi8wMTIy",
          "dtype": "i1"
         },
         "xaxis": "x",
         "y": {
          "bdata": "AAAAAAAAAAAAAAAAAAAAAAAAAAAAAAAAOo8UMPGpxD+xP6qbNdDZP5eTwwPTJN4/OXcKD7Jy3z9atwRRXrrbP6LFlgimdNw/tVMH4oV+4D9AqP7fufLeP05vUcpqo94/fSTJzYH13z/AhzBsYDnfPzEQjREuvtw/f5TkPEA84D9eB4tbLVfeP4voOPFMlOA/ntlTwKkI3j9SrHKIqqDeP8pdXcodbN8/xbI2ocKq4D/WHvpJHebfP70+mYZtAuA/rgOBIx0W4T+SiU1WluvfPxNfVSSZa+A/f5TkPEA84D/T0PAbFlfgPxJa//23mN8/r0JnYSHh3z9bW5f1xqjgP3stz0K3FuA/uXY7CGhn4D+nm0NSbWrgP98q6f8qK+A/dOSbDhFo4D8Y8llCVmfgPwfNALvjFOE/h1R1g7ZV4D+SxVcUxungPxY02UpvgeA/1yT+3o0V4T/4QkBewCzgP8QWlWErfeA/HZpXkMuo4D+RTPMAWv/gP4x3pYTnfeA/xBaVYSt94D8Y8llCVmfgPxjyWUJWZ+A/",
          "dtype": "f8"
         },
         "yaxis": "y"
        },
        {
         "hovertemplate": "name=results_cola_5_30_0.5_3_2_0.01_17<br>train/epoch=%{x}<br>eval/matthews_correlation=%{y}<extra></extra>",
         "legendgroup": "results_cola_5_30_0.5_3_2_0.01_17",
         "line": {
          "color": "#FF97FF",
          "dash": "solid"
         },
         "marker": {
          "symbol": "circle"
         },
         "mode": "lines",
         "name": "results_cola_5_30_0.5_3_2_0.01_17",
         "orientation": "v",
         "showlegend": true,
         "type": "scatter",
         "x": {
          "bdata": "AQIDBAUGBwgJCgsMDQ4PEBESExQVFhcYGRobHB0eHyAhIiMkJSYnKCkqKywtLi8wMTIy",
          "dtype": "i1"
         },
         "xaxis": "x",
         "y": {
          "bdata": "AAAAAAAAAAAAAAAAAAAAAAAAAAAAAAAA3RQlJIiOxj/uIKix0XHaP4P5uiZULNw/Qg2Ol7wn4D/X6pF0gk3aP4P5uiZULNw/5trmoEFS4D8yFp7v1eveP88fwH2oWd0/qmBwaJEf3z/tvHyjUlLeP8dgaahzEdw/f5TkPEA84D9oHSfflCneP+phtTlPk+A/zUFzgUY53j+ORLWw383ePw57sscIv94/TXCOP1pr4D9kLM6PD/jfP5SUk0+S2N8/slLm8rJn4D+HyRo68EXfP9K3G59W+98/s8gJmt0m4D/WuRoMyyngPzQL2WQ2v98/6dgqa7iS3z9vX7+dmTvgP2HVBKoOz98/uXY7CGhn4D+HVHWDtlXgP98q6f8qK+A/dOSbDhFo4D9YAEfvpWfgP5FM8wBa/+A/CJhuuCEV4D/xQa1sCargPwy1uxKfKOA/tTci9wDr4D8A6kcJFv7fP5USWxR8feA/W1uX9cao4D/qYbU5T5PgPylCVpK+v+A/dCwLygWp4D9H3MmjRpPgP0fcyaNGk+A/",
          "dtype": "f8"
         },
         "yaxis": "y"
        },
        {
         "hovertemplate": "name=results_cola_5_30_0.5_3_0_0.01_17<br>train/epoch=%{x}<br>eval/matthews_correlation=%{y}<extra></extra>",
         "legendgroup": "results_cola_5_30_0.5_3_0_0.01_17",
         "line": {
          "color": "#FECB52",
          "dash": "solid"
         },
         "marker": {
          "symbol": "circle"
         },
         "mode": "lines",
         "name": "results_cola_5_30_0.5_3_0_0.01_17",
         "orientation": "v",
         "showlegend": true,
         "type": "scatter",
         "x": {
          "bdata": "AQIDBAUGBwgJCgsMDQ4PEBESExQVFhcYGRobHB0eHyAhIiMkJSYnKCkqKywtLi8wMTIy",
          "dtype": "i1"
         },
         "xaxis": "x",
         "y": {
          "bdata": "AAAAAAAAAAAAAAAAAAAAAKMV2abDYck/DGBeTww90D95qZZhaMvQP29hD1jPXNU/kaOzmGma3j/ymLU2d23dP1sbWYzN/d8/Uzho8lU73D/X+Cmaj63dPx2MIGuYx98/uXY7CGhn4D8jKwRED/ffP3+U5DxAPOA/yl1dyh1s3z+vOfWKGsHcP5x32sYj1OA/+urKs6rU3D8Tnujjs6jgP7vZb1Q+EOA/Dnuyxwi/3j/eDPJg71DgP7YClZeO9uA/jVOw/4Bt4D8NILPi8J3gP9dLWFf4bOA/fn7YJJs+4D8jVrHWh0TgPyT+3H6KVOA/CtUYBUs14D87Vq0HvHnfPzCULSYtYeA/hIp9BH++4D/wkNy3dVrgP2TlZl5D7+A/pz/SI5eY4D/MyJ9gKobgP8/nxithhOA/ksVXFMbp4D9EX5fq9qzgPxNfVSSZa+A/nHfaxiPU4D9k5WZeQ+/gP/GfmYli1OA/nW5n0tDw4D/ZQeIBC6rgP0ChzkCyk+A/8Z+ZiWLU4D909DhwcangP3T0OHBxqeA/",
          "dtype": "f8"
         },
         "yaxis": "y"
        },
        {
         "hovertemplate": "name=results_cola_5_30_0.5_3_0_0.02_17<br>train/epoch=%{x}<br>eval/matthews_correlation=%{y}<extra></extra>",
         "legendgroup": "results_cola_5_30_0.5_3_0_0.02_17",
         "line": {
          "color": "#636efa",
          "dash": "solid"
         },
         "marker": {
          "symbol": "circle"
         },
         "mode": "lines",
         "name": "results_cola_5_30_0.5_3_0_0.02_17",
         "orientation": "v",
         "showlegend": true,
         "type": "scatter",
         "x": {
          "bdata": "AQIDBAUGBwgJCgsMDQ4PEBESExQVFhcYGRobHB0eHyAhIiMkJSYnKCkqKywtLi8wMTIy",
          "dtype": "i1"
         },
         "xaxis": "x",
         "y": {
          "bdata": "AAAAAAAAAAAAAAAAAAAAAMS29Rydp8g/QOolPw2Wzz9Bw8w6PyLQPz3wCOVUANU/LjroxqFz3j/K10sc0LPcPyqDslfNQOA/Tb3Kxr343D/goDyiCYXdPxAI6yRsQt8/KxGtbIk74D/7L7Qk0JveP2+e3rAuUuA/TiiQx17a3z84huUFkjPcP3T0OHBxqeA/JvO0WdYU3T/qYbU5T5PgP6+4M1mG898/05mwWVJz3j9VO7dc7AvgP+GxPbC79OA/6aJRZyUS4D/WIKnNZIrgP+feeBEriOA/E19VJJlr4D/CF/sQqrPgP/9W5XcpmuA/CTBdRDuN3z/MCqgiNSDfPygMm8yLRuA/B80Au+MU4T+N12+6eFzgP0soBv0ExOA/pz/SI5eY4D/n3ngRK4jgP32T6GTlr+A/3oATzQbq4D8TX1UkmWvgP9Z5RLCqWOA/uPkPiBDU4D+nP9Ijl5jgP6OfBhuGFeE/pz/SI5eY4D8amP/NhsDgP9VBWD8lv+A/E57o47Oo4D/ZQeIBC6rgP9lB4gELquA/",
          "dtype": "f8"
         },
         "yaxis": "y"
        },
        {
         "hovertemplate": "name=results_cola_5_30_0.5_3_1_0.002_17<br>train/epoch=%{x}<br>eval/matthews_correlation=%{y}<extra></extra>",
         "legendgroup": "results_cola_5_30_0.5_3_1_0.002_17",
         "line": {
          "color": "#EF553B",
          "dash": "solid"
         },
         "marker": {
          "symbol": "circle"
         },
         "mode": "lines",
         "name": "results_cola_5_30_0.5_3_1_0.002_17",
         "orientation": "v",
         "showlegend": true,
         "type": "scatter",
         "x": {
          "bdata": "AQIDBAUGBwgJCgsMDQ4PEBESExQVFhcYGRobHB0eHyAhIiMkJSYnKCkqKywtLi8wMTIy",
          "dtype": "i1"
         },
         "xaxis": "x",
         "y": {
          "bdata": "AAAAAAAAAAAAAAAAAAAAAAAAAAAAAAAAPLu31ZLewT9HRjJvfDTKP81Bc4FGOd4/Mhae79Xr3j9/lOQ8QDzgP9M7yzIoids/zx/AfahZ3T8fKC5pBRbfP4HWbDLgLt8/YdUEqg7P3z8McwSXpwfeP/7x8FuK394/rPcCsRmS3D/xn5mJYtTgP6pif9EITd8/iuo/N9wl4D9/lOQ8QDzgP/wxnXg6i94/h1R1g7ZV4D+NTspqXHLhPwtykCPD0t8/i0+sNvjU3z99tqP6B5PgPwlq1RZUruA/R9zJo0aT4D/HFXNL997gP+feeBEriOA/MhmRZ4UM3z/8DtUju7nfP1tbl/XGqOA/dPQ4cHGp4D/jeu2yub7gPyZicphax+A/09DwGxZX4D/u1c2uHQjhP4zgzkcNk+A/W1uX9cao4D9kTR9Gi8vgP1tbl/XGqOA/OyBPI5XF4D9bW5f1xqjgP8IX+xCqs+A/QhbPwqjC4D+VElsUfH3gPx2aV5DLqOA/QKHOQLKT4D9Aoc5AspPgP0ChzkCyk+A/",
          "dtype": "f8"
         },
         "yaxis": "y"
        },
        {
         "hovertemplate": "name=results_cola_5_30_0.5_3_1_0.01_17<br>train/epoch=%{x}<br>eval/matthews_correlation=%{y}<extra></extra>",
         "legendgroup": "results_cola_5_30_0.5_3_1_0.01_17",
         "line": {
          "color": "#00cc96",
          "dash": "solid"
         },
         "marker": {
          "symbol": "circle"
         },
         "mode": "lines",
         "name": "results_cola_5_30_0.5_3_1_0.01_17",
         "orientation": "v",
         "showlegend": true,
         "type": "scatter",
         "x": {
          "bdata": "AQIDBAUGBwgJCgsMDQ4PEBESExQVFhcYGRobHB0eHyAhIiMkJSYnKCkqKywtLi8wMTIy",
          "dtype": "i1"
         },
         "xaxis": "x",
         "y": {
          "bdata": "AAAAAAAAAAAAAAAAAAAAAAAAAAAAAAAAJRs+fFvYwj9ZsID5ZXTNP28jjA4qct4/Ainw/XxB3z9/lOQ8QDzgPwIxLH+Cyts/zx/AfahZ3T8yFbBxR8ffPzOHgHq4g98/vBfd2Gme3z8N3vd8WOrePzabXHEI1d4/JOLakAkE3D9nbrecZ77gP5FuenFA894/Mk+jiKpo4D9YAEfvpWfgP04Bux9syd0/3yrp/yor4D/4tlYom3XhP0DKLcznDuA/9uDndnME4D8Tnujjs6jgPzsgTyOVxeA/1UFYPyW/4D+N12+6eFzgP+qdWyWdEeA/h8kaOvBF3z+SiU1WluvfP3Tkmw4RaOA/Mk+jiKpo4D8pQlaSvr/gP/uf0eI42+A/E19VJJlr4D+FtP753RvhP2dut5xnvuA/1UFYPyW/4D/WIKnNZIrgPyJzlngA6uA/xxVzS/fe4D9H3MmjRpPgPw0gs+LwneA/l8QgIH/B4D/i5x+6PX3gP/JOT6Fo1OA/lRJbFHx94D+VElsUfH3gP5USWxR8feA/",
          "dtype": "f8"
         },
         "yaxis": "y"
        },
        {
         "hovertemplate": "name=results_cola_5_30_0.5_3_0_0.002_17<br>train/epoch=%{x}<br>eval/matthews_correlation=%{y}<extra></extra>",
         "legendgroup": "results_cola_5_30_0.5_3_0_0.002_17",
         "line": {
          "color": "#ab63fa",
          "dash": "solid"
         },
         "marker": {
          "symbol": "circle"
         },
         "mode": "lines",
         "name": "results_cola_5_30_0.5_3_0_0.002_17",
         "orientation": "v",
         "showlegend": true,
         "type": "scatter",
         "x": {
          "bdata": "AQIDBAUGBwgJCgsMDQ4PEBESExQVFhcYGRobHB0eHyAhIiMkJSYnKCkqKywtLi8wMTIy",
          "dtype": "i1"
         },
         "xaxis": "x",
         "y": {
          "bdata": "AAAAAAAAAAAAAAAAAAAAAGyP0xhvI70/tdUIDV/Zzz+KiMICMfPNP9RS32PJ19Q/RQfYaqI73j/Vy9G2g5vdPyAk+1KBVeA/yd3+96uw3T+WUKMfh+DdP0xtQnsT898/R9zJo0aT4D+HNT4WlhLgPy+kO9rHUuA/W3/OkLMr4D8gVqGP55/dP4nE9gBEfeA/B0UdIA6e3D+iRibWer7gP616vUs+yd8/A/GhQnYQ3j9h92oXMQngP6OY6NhLCuE/T4t8MjQo4D/WeUSwqljgPwL0LvTNguA/JP7cfopU4D8NILPi8J3gPwL0LvTNguA/kolNVpbr3z8Be/D9763fP+feeBEriOA/77iAd5oq4T8NILPi8J3gP9wzfzXRBOE/h1R1g7ZV4D/4QkBewCzgPw0gs+LwneA/kUzzAFr/4D8xyOCypSfgP35+2CSbPuA/SD83a2vq4D8JatUWVK7gP9VBWD8lv+A/jqXjtJBT4D9/lOQ8QDzgP4x3pYTnfeA/1UFYPyW/4D905JsOEWjgP3Tkmw4RaOA/",
          "dtype": "f8"
         },
         "yaxis": "y"
        },
        {
         "hovertemplate": "name=results_cola_5_30_0.5_3_1_0.02_17<br>train/epoch=%{x}<br>eval/matthews_correlation=%{y}<extra></extra>",
         "legendgroup": "results_cola_5_30_0.5_3_1_0.02_17",
         "line": {
          "color": "#FFA15A",
          "dash": "solid"
         },
         "marker": {
          "symbol": "circle"
         },
         "mode": "lines",
         "name": "results_cola_5_30_0.5_3_1_0.02_17",
         "orientation": "v",
         "showlegend": true,
         "type": "scatter",
         "x": {
          "bdata": "AQIDBAUGBwgJCgsMDQ4PEBESExQVFhcYGRobHB0eHyAhIiMkJSYnKCkqKywtLi8wMTIy",
          "dtype": "i1"
         },
         "xaxis": "x",
         "y": {
          "bdata": "AAAAAAAAAAAAAAAAAAAAAPUNe868xLc/JRs+fFvYwj/P8v0NdTHMP2hLLD+87d0/IbLWokBH3z8+rWgHxFHgP8gD8pqEats/6PAvXYbb3T/Z8JGrgZrfP50/ovh//d4/i0+sNvjU3z8yFp7v1evePxC6Q27gM98/S9uuCjuu3D+5xi/ICfPgP+jwL12G290/VFJ9KoF+4D+iCuou1jvgPxc83FtXOt0/r0DLNsc/4D/4tlYom3XhP+nYKmu4kt8/KGtnheh43z++XkmarSXgP6c/0iOXmOA/OAYcpNOq4D/3mfjzgxjgP8/nxithhOA/KITKRxkZ3z/p2CpruJLfPxjyWUJWZ+A/dOSbDhFo4D90LAvKBangP32T6GTlr+A/hDu3IbnM3z99k+hk5a/gP4SKfQR/vuA/ksVXFMbp4D+N12+6eFzgP6JGJtZ6vuA//1bldyma4D8Tnujjs6jgP/bg53ZzBOA/FjTZSm+B4D+iRibWer7gP/JOT6Fo1OA/2UHiAQuq4D/ZQeIBC6rgP9lB4gELquA/",
          "dtype": "f8"
         },
         "yaxis": "y"
        }
       ],
       "layout": {
        "legend": {
         "title": {
          "text": "name"
         },
         "tracegroupgap": 0
        },
        "template": {
         "data": {
          "bar": [
           {
            "error_x": {
             "color": "#2a3f5f"
            },
            "error_y": {
             "color": "#2a3f5f"
            },
            "marker": {
             "line": {
              "color": "#E5ECF6",
              "width": 0.5
             },
             "pattern": {
              "fillmode": "overlay",
              "size": 10,
              "solidity": 0.2
             }
            },
            "type": "bar"
           }
          ],
          "barpolar": [
           {
            "marker": {
             "line": {
              "color": "#E5ECF6",
              "width": 0.5
             },
             "pattern": {
              "fillmode": "overlay",
              "size": 10,
              "solidity": 0.2
             }
            },
            "type": "barpolar"
           }
          ],
          "carpet": [
           {
            "aaxis": {
             "endlinecolor": "#2a3f5f",
             "gridcolor": "white",
             "linecolor": "white",
             "minorgridcolor": "white",
             "startlinecolor": "#2a3f5f"
            },
            "baxis": {
             "endlinecolor": "#2a3f5f",
             "gridcolor": "white",
             "linecolor": "white",
             "minorgridcolor": "white",
             "startlinecolor": "#2a3f5f"
            },
            "type": "carpet"
           }
          ],
          "choropleth": [
           {
            "colorbar": {
             "outlinewidth": 0,
             "ticks": ""
            },
            "type": "choropleth"
           }
          ],
          "contour": [
           {
            "colorbar": {
             "outlinewidth": 0,
             "ticks": ""
            },
            "colorscale": [
             [
              0,
              "#0d0887"
             ],
             [
              0.1111111111111111,
              "#46039f"
             ],
             [
              0.2222222222222222,
              "#7201a8"
             ],
             [
              0.3333333333333333,
              "#9c179e"
             ],
             [
              0.4444444444444444,
              "#bd3786"
             ],
             [
              0.5555555555555556,
              "#d8576b"
             ],
             [
              0.6666666666666666,
              "#ed7953"
             ],
             [
              0.7777777777777778,
              "#fb9f3a"
             ],
             [
              0.8888888888888888,
              "#fdca26"
             ],
             [
              1,
              "#f0f921"
             ]
            ],
            "type": "contour"
           }
          ],
          "contourcarpet": [
           {
            "colorbar": {
             "outlinewidth": 0,
             "ticks": ""
            },
            "type": "contourcarpet"
           }
          ],
          "heatmap": [
           {
            "colorbar": {
             "outlinewidth": 0,
             "ticks": ""
            },
            "colorscale": [
             [
              0,
              "#0d0887"
             ],
             [
              0.1111111111111111,
              "#46039f"
             ],
             [
              0.2222222222222222,
              "#7201a8"
             ],
             [
              0.3333333333333333,
              "#9c179e"
             ],
             [
              0.4444444444444444,
              "#bd3786"
             ],
             [
              0.5555555555555556,
              "#d8576b"
             ],
             [
              0.6666666666666666,
              "#ed7953"
             ],
             [
              0.7777777777777778,
              "#fb9f3a"
             ],
             [
              0.8888888888888888,
              "#fdca26"
             ],
             [
              1,
              "#f0f921"
             ]
            ],
            "type": "heatmap"
           }
          ],
          "histogram": [
           {
            "marker": {
             "pattern": {
              "fillmode": "overlay",
              "size": 10,
              "solidity": 0.2
             }
            },
            "type": "histogram"
           }
          ],
          "histogram2d": [
           {
            "colorbar": {
             "outlinewidth": 0,
             "ticks": ""
            },
            "colorscale": [
             [
              0,
              "#0d0887"
             ],
             [
              0.1111111111111111,
              "#46039f"
             ],
             [
              0.2222222222222222,
              "#7201a8"
             ],
             [
              0.3333333333333333,
              "#9c179e"
             ],
             [
              0.4444444444444444,
              "#bd3786"
             ],
             [
              0.5555555555555556,
              "#d8576b"
             ],
             [
              0.6666666666666666,
              "#ed7953"
             ],
             [
              0.7777777777777778,
              "#fb9f3a"
             ],
             [
              0.8888888888888888,
              "#fdca26"
             ],
             [
              1,
              "#f0f921"
             ]
            ],
            "type": "histogram2d"
           }
          ],
          "histogram2dcontour": [
           {
            "colorbar": {
             "outlinewidth": 0,
             "ticks": ""
            },
            "colorscale": [
             [
              0,
              "#0d0887"
             ],
             [
              0.1111111111111111,
              "#46039f"
             ],
             [
              0.2222222222222222,
              "#7201a8"
             ],
             [
              0.3333333333333333,
              "#9c179e"
             ],
             [
              0.4444444444444444,
              "#bd3786"
             ],
             [
              0.5555555555555556,
              "#d8576b"
             ],
             [
              0.6666666666666666,
              "#ed7953"
             ],
             [
              0.7777777777777778,
              "#fb9f3a"
             ],
             [
              0.8888888888888888,
              "#fdca26"
             ],
             [
              1,
              "#f0f921"
             ]
            ],
            "type": "histogram2dcontour"
           }
          ],
          "mesh3d": [
           {
            "colorbar": {
             "outlinewidth": 0,
             "ticks": ""
            },
            "type": "mesh3d"
           }
          ],
          "parcoords": [
           {
            "line": {
             "colorbar": {
              "outlinewidth": 0,
              "ticks": ""
             }
            },
            "type": "parcoords"
           }
          ],
          "pie": [
           {
            "automargin": true,
            "type": "pie"
           }
          ],
          "scatter": [
           {
            "fillpattern": {
             "fillmode": "overlay",
             "size": 10,
             "solidity": 0.2
            },
            "type": "scatter"
           }
          ],
          "scatter3d": [
           {
            "line": {
             "colorbar": {
              "outlinewidth": 0,
              "ticks": ""
             }
            },
            "marker": {
             "colorbar": {
              "outlinewidth": 0,
              "ticks": ""
             }
            },
            "type": "scatter3d"
           }
          ],
          "scattercarpet": [
           {
            "marker": {
             "colorbar": {
              "outlinewidth": 0,
              "ticks": ""
             }
            },
            "type": "scattercarpet"
           }
          ],
          "scattergeo": [
           {
            "marker": {
             "colorbar": {
              "outlinewidth": 0,
              "ticks": ""
             }
            },
            "type": "scattergeo"
           }
          ],
          "scattergl": [
           {
            "marker": {
             "colorbar": {
              "outlinewidth": 0,
              "ticks": ""
             }
            },
            "type": "scattergl"
           }
          ],
          "scattermap": [
           {
            "marker": {
             "colorbar": {
              "outlinewidth": 0,
              "ticks": ""
             }
            },
            "type": "scattermap"
           }
          ],
          "scattermapbox": [
           {
            "marker": {
             "colorbar": {
              "outlinewidth": 0,
              "ticks": ""
             }
            },
            "type": "scattermapbox"
           }
          ],
          "scatterpolar": [
           {
            "marker": {
             "colorbar": {
              "outlinewidth": 0,
              "ticks": ""
             }
            },
            "type": "scatterpolar"
           }
          ],
          "scatterpolargl": [
           {
            "marker": {
             "colorbar": {
              "outlinewidth": 0,
              "ticks": ""
             }
            },
            "type": "scatterpolargl"
           }
          ],
          "scatterternary": [
           {
            "marker": {
             "colorbar": {
              "outlinewidth": 0,
              "ticks": ""
             }
            },
            "type": "scatterternary"
           }
          ],
          "surface": [
           {
            "colorbar": {
             "outlinewidth": 0,
             "ticks": ""
            },
            "colorscale": [
             [
              0,
              "#0d0887"
             ],
             [
              0.1111111111111111,
              "#46039f"
             ],
             [
              0.2222222222222222,
              "#7201a8"
             ],
             [
              0.3333333333333333,
              "#9c179e"
             ],
             [
              0.4444444444444444,
              "#bd3786"
             ],
             [
              0.5555555555555556,
              "#d8576b"
             ],
             [
              0.6666666666666666,
              "#ed7953"
             ],
             [
              0.7777777777777778,
              "#fb9f3a"
             ],
             [
              0.8888888888888888,
              "#fdca26"
             ],
             [
              1,
              "#f0f921"
             ]
            ],
            "type": "surface"
           }
          ],
          "table": [
           {
            "cells": {
             "fill": {
              "color": "#EBF0F8"
             },
             "line": {
              "color": "white"
             }
            },
            "header": {
             "fill": {
              "color": "#C8D4E3"
             },
             "line": {
              "color": "white"
             }
            },
            "type": "table"
           }
          ]
         },
         "layout": {
          "annotationdefaults": {
           "arrowcolor": "#2a3f5f",
           "arrowhead": 0,
           "arrowwidth": 1
          },
          "autotypenumbers": "strict",
          "coloraxis": {
           "colorbar": {
            "outlinewidth": 0,
            "ticks": ""
           }
          },
          "colorscale": {
           "diverging": [
            [
             0,
             "#8e0152"
            ],
            [
             0.1,
             "#c51b7d"
            ],
            [
             0.2,
             "#de77ae"
            ],
            [
             0.3,
             "#f1b6da"
            ],
            [
             0.4,
             "#fde0ef"
            ],
            [
             0.5,
             "#f7f7f7"
            ],
            [
             0.6,
             "#e6f5d0"
            ],
            [
             0.7,
             "#b8e186"
            ],
            [
             0.8,
             "#7fbc41"
            ],
            [
             0.9,
             "#4d9221"
            ],
            [
             1,
             "#276419"
            ]
           ],
           "sequential": [
            [
             0,
             "#0d0887"
            ],
            [
             0.1111111111111111,
             "#46039f"
            ],
            [
             0.2222222222222222,
             "#7201a8"
            ],
            [
             0.3333333333333333,
             "#9c179e"
            ],
            [
             0.4444444444444444,
             "#bd3786"
            ],
            [
             0.5555555555555556,
             "#d8576b"
            ],
            [
             0.6666666666666666,
             "#ed7953"
            ],
            [
             0.7777777777777778,
             "#fb9f3a"
            ],
            [
             0.8888888888888888,
             "#fdca26"
            ],
            [
             1,
             "#f0f921"
            ]
           ],
           "sequentialminus": [
            [
             0,
             "#0d0887"
            ],
            [
             0.1111111111111111,
             "#46039f"
            ],
            [
             0.2222222222222222,
             "#7201a8"
            ],
            [
             0.3333333333333333,
             "#9c179e"
            ],
            [
             0.4444444444444444,
             "#bd3786"
            ],
            [
             0.5555555555555556,
             "#d8576b"
            ],
            [
             0.6666666666666666,
             "#ed7953"
            ],
            [
             0.7777777777777778,
             "#fb9f3a"
            ],
            [
             0.8888888888888888,
             "#fdca26"
            ],
            [
             1,
             "#f0f921"
            ]
           ]
          },
          "colorway": [
           "#636efa",
           "#EF553B",
           "#00cc96",
           "#ab63fa",
           "#FFA15A",
           "#19d3f3",
           "#FF6692",
           "#B6E880",
           "#FF97FF",
           "#FECB52"
          ],
          "font": {
           "color": "#2a3f5f"
          },
          "geo": {
           "bgcolor": "white",
           "lakecolor": "white",
           "landcolor": "#E5ECF6",
           "showlakes": true,
           "showland": true,
           "subunitcolor": "white"
          },
          "hoverlabel": {
           "align": "left"
          },
          "hovermode": "closest",
          "mapbox": {
           "style": "light"
          },
          "paper_bgcolor": "white",
          "plot_bgcolor": "#E5ECF6",
          "polar": {
           "angularaxis": {
            "gridcolor": "white",
            "linecolor": "white",
            "ticks": ""
           },
           "bgcolor": "#E5ECF6",
           "radialaxis": {
            "gridcolor": "white",
            "linecolor": "white",
            "ticks": ""
           }
          },
          "scene": {
           "xaxis": {
            "backgroundcolor": "#E5ECF6",
            "gridcolor": "white",
            "gridwidth": 2,
            "linecolor": "white",
            "showbackground": true,
            "ticks": "",
            "zerolinecolor": "white"
           },
           "yaxis": {
            "backgroundcolor": "#E5ECF6",
            "gridcolor": "white",
            "gridwidth": 2,
            "linecolor": "white",
            "showbackground": true,
            "ticks": "",
            "zerolinecolor": "white"
           },
           "zaxis": {
            "backgroundcolor": "#E5ECF6",
            "gridcolor": "white",
            "gridwidth": 2,
            "linecolor": "white",
            "showbackground": true,
            "ticks": "",
            "zerolinecolor": "white"
           }
          },
          "shapedefaults": {
           "line": {
            "color": "#2a3f5f"
           }
          },
          "ternary": {
           "aaxis": {
            "gridcolor": "white",
            "linecolor": "white",
            "ticks": ""
           },
           "baxis": {
            "gridcolor": "white",
            "linecolor": "white",
            "ticks": ""
           },
           "bgcolor": "#E5ECF6",
           "caxis": {
            "gridcolor": "white",
            "linecolor": "white",
            "ticks": ""
           }
          },
          "title": {
           "x": 0.05
          },
          "xaxis": {
           "automargin": true,
           "gridcolor": "white",
           "linecolor": "white",
           "ticks": "",
           "title": {
            "standoff": 15
           },
           "zerolinecolor": "white",
           "zerolinewidth": 2
          },
          "yaxis": {
           "automargin": true,
           "gridcolor": "white",
           "linecolor": "white",
           "ticks": "",
           "title": {
            "standoff": 15
           },
           "zerolinecolor": "white",
           "zerolinewidth": 2
          }
         }
        },
        "title": {
         "text": "eval/matthews_correlation Over train/epoch"
        },
        "xaxis": {
         "anchor": "y",
         "domain": [
          0,
          1
         ],
         "title": {
          "text": "train/epoch"
         }
        },
        "yaxis": {
         "anchor": "x",
         "domain": [
          0,
          1
         ],
         "title": {
          "text": "eval/matthews_correlation"
         }
        }
       }
      }
     },
     "metadata": {},
     "output_type": "display_data"
    }
   ],
   "source": [
    "fetch_and_plot_wandb_runs(\n",
    "    entity=\"mallahova\",\n",
    "    project=\"adalora_memory_to_double_memory_3_5\",\n",
    "    metric=\"eval/matthews_correlation\",\n",
    "    x_axis=\"train/epoch\",\n",
    "    interactive=True,\n",
    ")"
   ]
  }
 ],
 "metadata": {
  "kernelspec": {
   "display_name": "Python 3 (ipykernel)",
   "language": "python",
   "name": "python3"
  },
  "language_info": {
   "codemirror_mode": {
    "name": "ipython",
    "version": 3
   },
   "file_extension": ".py",
   "mimetype": "text/x-python",
   "name": "python",
   "nbconvert_exporter": "python",
   "pygments_lexer": "ipython3",
   "version": "3.10.12"
  }
 },
 "nbformat": 4,
 "nbformat_minor": 4
}
