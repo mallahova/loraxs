{
 "cells": [
  {
   "cell_type": "code",
   "execution_count": 15,
   "metadata": {},
   "outputs": [
    {
     "name": "stdout",
     "output_type": "stream",
     "text": [
      "Run Name: results_cola_15_25_0.5_3_1_0.002, Seed: 1, Rank Allocation Learning Rate: 0.002\n",
      "Overall Max: 67.25\n",
      "Run Name: results_cola_15_25_0.5_3_2_0.002, Seed: 2, Rank Allocation Learning Rate: 0.002\n",
      "Overall Max: 66.89\n",
      "Run Name: results_cola_15_25_0.5_3_1_0.005, Seed: 1, Rank Allocation Learning Rate: 0.005\n",
      "Overall Max: 68.00\n",
      "Run Name: results_cola_15_25_0.5_3_2_0.005, Seed: 2, Rank Allocation Learning Rate: 0.005\n",
      "Overall Max: 67.25\n",
      "Run Name: results_cola_15_25_0.5_3_1_0.01, Seed: 1, Rank Allocation Learning Rate: 0.01\n",
      "Overall Max: 68.45\n",
      "Run Name: results_cola_15_25_0.5_3_2_0.01, Seed: 2, Rank Allocation Learning Rate: 0.01\n",
      "Overall Max: 67.28\n"
     ]
    }
   ],
   "source": [
    "import wandb\n",
    "import re\n",
    "\n",
    "api = wandb.Api()\n",
    "\n",
    "project = \"adaptive_rank_allocation\"\n",
    "entity = \"mallahova\"\n",
    "\n",
    "runs = api.runs(f\"{entity}/{project}\")\n",
    "\n",
    "run_max_metrics = []\n",
    "for run in runs:\n",
    "    seed = run.config.get(\"seed\", \"N/A\")\n",
    "    run_history = run.history()\n",
    "    rank_metrics=\"eval/matthews_correlation\"\n",
    "    if rank_metrics:\n",
    "        overall_max = run.history(keys=[rank_metrics])[rank_metrics].max()*100\n",
    "        run_max_metrics.append({\n",
    "            \"run_name\": run.name,\n",
    "            \"seed\": seed,\n",
    "            \"rank_allocation_learning_rate\": float(run.name.split(\"_\")[-1]),\n",
    "            \"overall_max\": overall_max\n",
    "        })\n",
    "\n",
    "sorted_results = sorted(run_max_metrics, key=lambda x: ( x[\"rank_allocation_learning_rate\"], x[\"seed\"]))\n",
    "\n",
    "for result in sorted_results:\n",
    "    print(f\"Run Name: {result['run_name']}, Seed: {result['seed']}, Rank Allocation Learning Rate: {result['rank_allocation_learning_rate']}\")\n",
    "    print(f\"Overall Max: {result['overall_max']:.2f}\")\n"
   ]
  },
  {
   "cell_type": "code",
   "execution_count": null,
   "metadata": {},
   "outputs": [],
   "source": []
  },
  {
   "cell_type": "code",
   "execution_count": null,
   "metadata": {},
   "outputs": [],
   "source": []
  },
  {
   "cell_type": "code",
   "execution_count": null,
   "metadata": {},
   "outputs": [],
   "source": []
  },
  {
   "cell_type": "code",
   "execution_count": null,
   "metadata": {},
   "outputs": [],
   "source": []
  }
 ],
 "metadata": {
  "kernelspec": {
   "display_name": "loraxs",
   "language": "python",
   "name": "python3"
  },
  "language_info": {
   "codemirror_mode": {
    "name": "ipython",
    "version": 3
   },
   "file_extension": ".py",
   "mimetype": "text/x-python",
   "name": "python",
   "nbconvert_exporter": "python",
   "pygments_lexer": "ipython3",
   "version": "3.8.13"
  }
 },
 "nbformat": 4,
 "nbformat_minor": 2
}
