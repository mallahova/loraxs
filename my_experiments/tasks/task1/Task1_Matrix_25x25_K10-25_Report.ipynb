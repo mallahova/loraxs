{
 "cells": [
  {
   "cell_type": "markdown",
   "metadata": {},
   "source": [
    "1) Change the trainer callback\n",
    "2) Modify main_glue_from_pretrained.py\n",
    "3) Ensure that the checkpoints are saved in the script\n",
    "4) Modify the eval step: check for accuracy for every version of the models (10-25), find out how to log them to wandb\n",
    "5) Ensure the compatability with other tasks"
   ]
  },
  {
   "cell_type": "markdown",
   "metadata": {},
   "source": []
  },
  {
   "cell_type": "markdown",
   "metadata": {},
   "source": [
    "1. Fix checkpointing - done\n",
    "   - continue wandb logs\n",
    "2. Reimplement trainer callbacks\n",
    " - repiplement accuracies with torch.no_grad()\n",
    "3. Implement for CoLa\n",
    "? 4. Implement metrics calculation function for every GLUE task"
   ]
  },
  {
   "cell_type": "code",
   "execution_count": 5,
   "metadata": {},
   "outputs": [
    {
     "name": "stdout",
     "output_type": "stream",
     "text": [
      "{'key': 'modified!'}\n"
     ]
    }
   ],
   "source": [
    "class MyClass:\n",
    "   def __init__(self):\n",
    "      self.f=None\n",
    "myclass=MyClass()\n",
    "\n",
    "def outer_function():\n",
    "    saved_value = {}  # This value is captured by the inner function\n",
    "\n",
    "    def inner_function():\n",
    "        nonlocal saved_value\n",
    "        saved_value['key'] = 'modified!'\n",
    "        print(saved_value)\n",
    "\n",
    "    myclass.f=inner_function\n",
    "    return \"ended outer\"\n",
    "\n",
    "# Usage\n",
    "\n",
    "\n",
    "outer_function()\n",
    "myclass.f()"
   ]
  },
  {
   "cell_type": "code",
   "execution_count": null,
   "metadata": {},
   "outputs": [
    {
     "name": "stdout",
     "output_type": "stream",
     "text": [
      "{'key': 'modified!'}\n"
     ]
    }
   ],
   "source": [
    "import torch\n",
    "import torch.nn as nn\n",
    "import random\n",
    "\n",
    "# A simple model with parameters of shape (rank, rank)\n",
    "class DummyModel(nn.Module):\n",
    "    def __init__(self, rank):\n",
    "        super(DummyModel, self).__init__()\n",
    "        self.rank = rank\n",
    "        self.linear = nn.Linear(rank, rank)\n",
    "    \n",
    "    def forward(self, x):\n",
    "        return self.linear(x)\n",
    "\n",
    "# Define a mock get_mask function (as the original function is not defined)\n",
    "def get_mask(rank, k, device):\n",
    "    # Create a random mask where a specific portion is zeroed out based on k\n",
    "    mask = torch.ones((rank, rank), device=device)\n",
    "    mask[k:, k:] = 0\n",
    "    return mask\n"
   ]
  },
  {
   "cell_type": "code",
   "execution_count": null,
   "metadata": {},
   "outputs": [],
   "source": []
  }
 ],
 "metadata": {
  "kernelspec": {
   "display_name": "loraxs",
   "language": "python",
   "name": "python3"
  },
  "language_info": {
   "codemirror_mode": {
    "name": "ipython",
    "version": 3
   },
   "file_extension": ".py",
   "mimetype": "text/x-python",
   "name": "python",
   "nbconvert_exporter": "python",
   "pygments_lexer": "ipython3",
   "version": "3.8.13"
  }
 },
 "nbformat": 4,
 "nbformat_minor": 2
}
